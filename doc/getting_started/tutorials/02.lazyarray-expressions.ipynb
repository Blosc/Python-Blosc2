{
 "cells": [
  {
   "cell_type": "markdown",
   "metadata": {},
   "source": [
    "# Expressions containing NDArray objects (and others)\n",
    "\n",
    "Python-Blosc2 implements a powerful way to operate with NDArray (and other flavors) objects.  In this section, we will see how to do computations with NDArray arrays in a simple way.\n"
   ]
  },
  {
   "cell_type": "code",
   "execution_count": 1,
   "metadata": {
    "ExecuteTime": {
     "end_time": "2024-11-27T12:37:41.565782Z",
     "start_time": "2024-11-27T12:37:39.973921Z"
    }
   },
   "outputs": [],
   "source": [
    "import numpy as np\n",
    "\n",
    "import blosc2"
   ]
  },
  {
   "cell_type": "markdown",
   "metadata": {},
   "source": [
    "## A simple example\n",
    "First, let's create a couple of NDArrays.  We will use NumPy arrays to fill them."
   ]
  },
  {
   "cell_type": "code",
   "execution_count": 2,
   "metadata": {
    "ExecuteTime": {
     "end_time": "2024-11-27T12:37:41.606258Z",
     "start_time": "2024-11-27T12:37:41.571023Z"
    }
   },
   "outputs": [],
   "source": [
    "shape = (500, 1000)\n",
    "npa = np.linspace(0, 1, np.prod(shape), dtype=np.float32).reshape(shape)\n",
    "npb = np.linspace(1, 2, np.prod(shape), dtype=np.float64).reshape(shape)\n",
    "\n",
    "a = blosc2.asarray(npa, urlpath=\"a.b2nd\", mode=\"w\")\n",
    "b = blosc2.asarray(npb, urlpath=\"b.b2nd\", mode=\"w\")"
   ]
  },
  {
   "cell_type": "markdown",
   "metadata": {},
   "source": [
    "Now, let's create an expression that involves `a` and `b`"
   ]
  },
  {
   "cell_type": "code",
   "execution_count": 3,
   "metadata": {
    "ExecuteTime": {
     "end_time": "2024-11-27T12:37:41.641204Z",
     "start_time": "2024-11-27T12:37:41.635687Z"
    }
   },
   "outputs": [
    {
     "name": "stdout",
     "output_type": "stream",
     "text": [
      "type       : LazyExpr\n",
      "expression : ((((o0 ** 2) + (o1 ** 2)) + ((2 * o0) * o1)) + 1)\n",
      "operands   : {'o0': 'a.b2nd', 'o1': 'b.b2nd'}\n",
      "shape      : (500, 1000)\n",
      "dtype      : float64\n",
      "\n"
     ]
    }
   ],
   "source": [
    "c = a**2 + b**2 + 2 * a * b + 1\n",
    "print(c.info)  # at this stage, the expression has not been computed yet"
   ]
  },
  {
   "cell_type": "markdown",
   "metadata": {},
   "source": [
    "We see that the outcome of the expression is a `LazyExpr` object.  This object is a placeholder for the actual computation that will be done when we compute it.  This is a very powerful feature because it allows us to build complex expressions without actually computing them until we really need the result.\n",
    "\n",
    "Now, let's compute it. `LazyExpr` objects follow the `LazyArray` interface, and this provides several ways for performing the computation, depending on the object we want as the desired output.\n",
    "\n",
    "First, let's use the `compute` method.  The result will be another NDArray array:"
   ]
  },
  {
   "cell_type": "code",
   "execution_count": 4,
   "metadata": {
    "ExecuteTime": {
     "end_time": "2024-11-27T12:37:41.747591Z",
     "start_time": "2024-11-27T12:37:41.714348Z"
    }
   },
   "outputs": [
    {
     "name": "stdout",
     "output_type": "stream",
     "text": [
      "Class: <class 'blosc2.ndarray.NDArray'>\n",
      "Compression ratio: 1.89x\n"
     ]
    }
   ],
   "source": [
    "d = c.compute()  # compute the expression\n",
    "print(f\"Class: {type(d)}\")\n",
    "print(f\"Compression ratio: {d.schunk.cratio:.2f}x\")"
   ]
  },
  {
   "cell_type": "markdown",
   "metadata": {},
   "source": [
    "We can specify different compression parameters for the result.  For example, we can change the codec to `zstd`, use the bitshuffle filter, and the compression level set to 9:"
   ]
  },
  {
   "cell_type": "code",
   "execution_count": 5,
   "metadata": {
    "ExecuteTime": {
     "end_time": "2024-11-27T12:37:42.075729Z",
     "start_time": "2024-11-27T12:37:41.858032Z"
    }
   },
   "outputs": [
    {
     "name": "stdout",
     "output_type": "stream",
     "text": [
      "Compression ratio: 2.08x\n"
     ]
    }
   ],
   "source": [
    "cparams = blosc2.CParams(\n",
    "    codec=blosc2.Codec.ZSTD, filters=[blosc2.Filter.BITSHUFFLE], clevel=9, filters_meta=[0]\n",
    ")\n",
    "d = c.compute(cparams=cparams)\n",
    "print(f\"Compression ratio: {d.schunk.cratio:.2f}x\")"
   ]
  },
  {
   "cell_type": "markdown",
   "metadata": {},
   "source": [
    "Now, let's compute the expression and store the result in a NumPy array.  For this, we will use the `__getitem__` method:"
   ]
  },
  {
   "cell_type": "code",
   "execution_count": 6,
   "metadata": {
    "ExecuteTime": {
     "end_time": "2024-11-27T12:37:42.097411Z",
     "start_time": "2024-11-27T12:37:42.089104Z"
    }
   },
   "outputs": [
    {
     "name": "stdout",
     "output_type": "stream",
     "text": [
      "Class: <class 'numpy.ndarray'>\n"
     ]
    }
   ],
   "source": [
    "npd = d[:]\n",
    "print(f\"Class: {type(npd)}\")"
   ]
  },
  {
   "cell_type": "markdown",
   "metadata": {},
   "source": [
    "## Saving expressions to disk"
   ]
  },
  {
   "cell_type": "markdown",
   "metadata": {},
   "source": [
    "Finally, you can save expressions to disk.  For this, use the `save` method of ``LazyArray`` objects.  For example, let's save the expression `c` to disk:"
   ]
  },
  {
   "cell_type": "code",
   "execution_count": 7,
   "metadata": {
    "ExecuteTime": {
     "end_time": "2024-11-27T12:37:42.184549Z",
     "start_time": "2024-11-27T12:37:42.170687Z"
    }
   },
   "outputs": [],
   "source": [
    "c = a**2 + b**2 + 2 * a * b + 1\n",
    "c.save(urlpath=\"expr.b2nd\")"
   ]
  },
  {
   "cell_type": "markdown",
   "metadata": {},
   "source": [
    "And you can load it back with the `open` function:"
   ]
  },
  {
   "cell_type": "code",
   "execution_count": 8,
   "metadata": {
    "ExecuteTime": {
     "end_time": "2024-11-27T12:37:42.209849Z",
     "start_time": "2024-11-27T12:37:42.202094Z"
    }
   },
   "outputs": [
    {
     "name": "stdout",
     "output_type": "stream",
     "text": [
      "type       : LazyExpr\n",
      "expression : o0 ** 2 + o1 ** 2 + 2 * o0 * o1 + 1\n",
      "operands   : {'o0': 'a.b2nd', 'o1': 'b.b2nd'}\n",
      "shape      : (500, 1000)\n",
      "dtype      : float64\n",
      "\n"
     ]
    }
   ],
   "source": [
    "c2 = blosc2.open(\"expr.b2nd\")\n",
    "print(c2.info)"
   ]
  },
  {
   "cell_type": "markdown",
   "metadata": {},
   "source": [
    "Now, you can compute it as before:"
   ]
  },
  {
   "cell_type": "code",
   "execution_count": 9,
   "metadata": {
    "ExecuteTime": {
     "end_time": "2024-11-27T12:37:42.388555Z",
     "start_time": "2024-11-27T12:37:42.356484Z"
    }
   },
   "outputs": [
    {
     "name": "stdout",
     "output_type": "stream",
     "text": [
      "Compression ratio: 1.89x\n"
     ]
    }
   ],
   "source": [
    "d2 = c2.compute()\n",
    "print(f\"Compression ratio: {d2.schunk.cratio:.2f}x\")"
   ]
  },
  {
   "cell_type": "markdown",
   "metadata": {},
   "source": [
    "## Reductions\n",
    "\n",
    "We can also perform reductions on NDArray arrays.  Let's see an example:"
   ]
  },
  {
   "cell_type": "code",
   "execution_count": 10,
   "metadata": {
    "ExecuteTime": {
     "end_time": "2024-11-27T12:37:42.576608Z",
     "start_time": "2024-11-27T12:37:42.458370Z"
    }
   },
   "outputs": [
    {
     "data": {
      "text/plain": [
       "np.float64(999999.9999999471)"
      ]
     },
     "execution_count": 10,
     "metadata": {},
     "output_type": "execute_result"
    }
   ],
   "source": [
    "c = (a + b).sum()\n",
    "c"
   ]
  },
  {
   "cell_type": "markdown",
   "metadata": {},
   "source": [
    "As we can see, the result is a scalar. That means that reductions in expressions always perform the computation immediately.  We can also specify the axis for the reduction:"
   ]
  },
  {
   "cell_type": "code",
   "execution_count": 11,
   "metadata": {
    "ExecuteTime": {
     "end_time": "2024-11-27T12:37:42.628451Z",
     "start_time": "2024-11-27T12:37:42.600804Z"
    }
   },
   "outputs": [
    {
     "name": "stdout",
     "output_type": "stream",
     "text": [
      "Shape of c: (500,)\n"
     ]
    },
    {
     "data": {
      "text/plain": [
       "array([1001.998004  , 1005.998012  , 1009.99802   , 1013.99802799])"
      ]
     },
     "execution_count": 11,
     "metadata": {},
     "output_type": "execute_result"
    }
   ],
   "source": [
    "c = (a + b).sum(axis=1)\n",
    "print(f\"Shape of c: {c.shape}\")\n",
    "# Show the first 4 elements of the result\n",
    "c[:4]"
   ]
  },
  {
   "cell_type": "markdown",
   "metadata": {},
   "source": [
    "## Selections\n",
    "\n",
    "We can also perform selections on NDArray arrays with structured types.  Let's see an example.  First, we will create a structured array:"
   ]
  },
  {
   "cell_type": "code",
   "execution_count": 12,
   "metadata": {
    "ExecuteTime": {
     "end_time": "2024-11-27T12:37:42.725977Z",
     "start_time": "2024-11-27T12:37:42.703096Z"
    }
   },
   "outputs": [
    {
     "data": {
      "text/plain": [
       "array([(1, 2. , b'Hello'), (2, 1. , b'World'), (4, 3.9, b'World2')],\n",
       "      dtype=[('A', '<i4'), ('B', '<f4'), ('C', 'S10')])"
      ]
     },
     "execution_count": 12,
     "metadata": {},
     "output_type": "execute_result"
    }
   ],
   "source": [
    "nps = np.array(\n",
    "    [(1, 2.0, b\"Hello\"), (2, 1.0, b\"World\"), (4, 3.9, b\"World2\")],\n",
    "    dtype=[(\"A\", \"i4\"), (\"B\", \"f4\"), (\"C\", \"S10\")],\n",
    ")\n",
    "s = blosc2.asarray(nps, urlpath=\"s.b2nd\", mode=\"w\")\n",
    "s[:]"
   ]
  },
  {
   "cell_type": "markdown",
   "metadata": {},
   "source": [
    "Now, we can select rows depending on the value of different fields:"
   ]
  },
  {
   "cell_type": "code",
   "execution_count": 13,
   "metadata": {
    "ExecuteTime": {
     "end_time": "2024-11-27T12:37:42.804482Z",
     "start_time": "2024-11-27T12:37:42.786295Z"
    }
   },
   "outputs": [
    {
     "data": {
      "text/plain": [
       "array([(2, 1. , b'World'), (4, 3.9, b'World2')],\n",
       "      dtype=[('A', '<i4'), ('B', '<f4'), ('C', 'S10')])"
      ]
     },
     "execution_count": 13,
     "metadata": {},
     "output_type": "execute_result"
    }
   ],
   "source": [
    "A = s.fields[\"A\"]\n",
    "B = s.fields[\"B\"]\n",
    "expr = s[A > B]\n",
    "expr[:]"
   ]
  },
  {
   "cell_type": "markdown",
   "metadata": {},
   "source": [
    "We can do the same on a more compact way using a expression in string form:"
   ]
  },
  {
   "cell_type": "code",
   "execution_count": 14,
   "metadata": {
    "ExecuteTime": {
     "end_time": "2024-11-27T12:37:42.927179Z",
     "start_time": "2024-11-27T12:37:42.907361Z"
    }
   },
   "outputs": [
    {
     "data": {
      "text/plain": [
       "array([(2, 1. , b'World'), (4, 3.9, b'World2')],\n",
       "      dtype=[('A', '<i4'), ('B', '<f4'), ('C', 'S10')])"
      ]
     },
     "execution_count": 14,
     "metadata": {},
     "output_type": "execute_result"
    }
   ],
   "source": [
    "expr = s[\"A > B\"]\n",
    "expr[:]"
   ]
  },
  {
   "cell_type": "markdown",
   "metadata": {},
   "source": [
    "The expression can also be a complex one:"
   ]
  },
  {
   "cell_type": "code",
   "execution_count": 15,
   "metadata": {
    "ExecuteTime": {
     "end_time": "2024-11-27T12:37:43.019454Z",
     "start_time": "2024-11-27T12:37:42.996826Z"
    }
   },
   "outputs": [
    {
     "data": {
      "text/plain": [
       "array([(2, 1., b'World')],\n",
       "      dtype=[('A', '<i4'), ('B', '<f4'), ('C', 'S10')])"
      ]
     },
     "execution_count": 15,
     "metadata": {},
     "output_type": "execute_result"
    }
   ],
   "source": [
    "C = s.fields[\"C\"]\n",
    "expr = s[(A > B) & (C == b\"World\")]\n",
    "expr[:]"
   ]
  },
  {
   "cell_type": "markdown",
   "metadata": {},
   "source": [
    "We can also do selections and extract a single field:"
   ]
  },
  {
   "cell_type": "code",
   "execution_count": 16,
   "metadata": {
    "ExecuteTime": {
     "end_time": "2024-11-27T12:37:43.156404Z",
     "start_time": "2024-11-27T12:37:43.140707Z"
    }
   },
   "outputs": [
    {
     "data": {
      "text/plain": [
       "array([b'World', b'World2'], dtype='|S10')"
      ]
     },
     "execution_count": 16,
     "metadata": {},
     "output_type": "execute_result"
    }
   ],
   "source": [
    "C[A > B][:]"
   ]
  },
  {
   "cell_type": "markdown",
   "metadata": {},
   "source": [
    "Finally, we can do selections and perform reductions on them in one go by using the `where()` function.  For example, let's sum all the rows with the maximum of field `A` or field `B`:"
   ]
  },
  {
   "cell_type": "code",
   "execution_count": 17,
   "metadata": {
    "ExecuteTime": {
     "end_time": "2024-11-27T12:37:43.371932Z",
     "start_time": "2024-11-27T12:37:43.352484Z"
    }
   },
   "outputs": [
    {
     "data": {
      "text/plain": [
       "np.float64(8.0)"
      ]
     },
     "execution_count": 17,
     "metadata": {},
     "output_type": "execute_result"
    }
   ],
   "source": [
    "(A > B).where(A, B).sum()"
   ]
  },
  {
   "cell_type": "markdown",
   "metadata": {},
   "source": [
    "Combining all the different weaponery of selections can make querying your data very effective. As the computation is lazy, all the operations are grouped and executed together for maximum performance; the only exception is that, when a reduction is found, it is computed eagerly, but still can be part of more general expressions."
   ]
  },
  {
   "cell_type": "markdown",
   "metadata": {},
   "source": [
    "## Broadcasting\n",
    "\n",
    "NumPy arrays support broadcasting, and so do NDArray arrays.  Let's see an example:\n"
   ]
  },
  {
   "cell_type": "code",
   "execution_count": 18,
   "metadata": {
    "ExecuteTime": {
     "end_time": "2024-11-27T12:37:43.499415Z",
     "start_time": "2024-11-27T12:37:43.493588Z"
    }
   },
   "outputs": [
    {
     "name": "stdout",
     "output_type": "stream",
     "text": [
      "Shape of a: (500, 1000), shape of b2: (1000,)\n"
     ]
    }
   ],
   "source": [
    "b2 = b[0]  # take the first row of b\n",
    "print(f\"Shape of a: {a.shape}, shape of b2: {b2.shape}\")"
   ]
  },
  {
   "cell_type": "markdown",
   "metadata": {},
   "source": [
    "We see that the shapes of `a` and `b2` are different.  However, we can still operate with them and the broadcasting will be done automatically (à la NumPy):"
   ]
  },
  {
   "cell_type": "code",
   "execution_count": 19,
   "metadata": {
    "ExecuteTime": {
     "end_time": "2024-11-27T12:37:43.651706Z",
     "start_time": "2024-11-27T12:37:43.610580Z"
    }
   },
   "outputs": [
    {
     "name": "stdout",
     "output_type": "stream",
     "text": [
      "Compression ratio: 28.03x, shape: (500, 1000)\n"
     ]
    }
   ],
   "source": [
    "c2 = a + b2\n",
    "d2 = c2.compute()\n",
    "print(f\"Compression ratio: {d2.schunk.cratio:.2f}x, shape: {d2.shape}\")"
   ]
  },
  {
   "cell_type": "markdown",
   "metadata": {},
   "source": [
    "The boradcasting feature is still experimental, and it may not work in all cases.  If you find a bug, please report it to the [Python-Blosc2 issue tracker](https://github.com/Blosc/python-blosc2/issues)."
   ]
  },
  {
   "cell_type": "markdown",
   "metadata": {},
   "source": [
    "## Summary\n",
    "\n",
    "In this section, we have seen how to perform computations with NDArray arrays, and more in particular, how to create expressions, compute them, and save them to disk. Also, we have looked at performing reductions, selections and combinations of both.  Finally, we have seen how expressions containing operators having different (but compatible) shapes can be computed too. Lazy expressions are a very powerful feature that allows you to build and compute complex computations from operands that can be in-memory, on-disk or in remote boxes (`C2Array`) in a simple way, and very effectively."
   ]
  },
  {
   "cell_type": "code",
   "execution_count": null,
   "metadata": {
    "ExecuteTime": {
     "end_time": "2024-11-27T12:37:43.726821Z",
     "start_time": "2024-11-27T12:37:43.724240Z"
    }
   },
   "outputs": [],
   "source": []
  }
 ],
 "metadata": {
  "kernelspec": {
   "display_name": "Python 3 (ipykernel)",
   "language": "python",
   "name": "python3"
  },
  "language_info": {
   "codemirror_mode": {
    "name": "ipython",
    "version": 3
   },
   "file_extension": ".py",
   "mimetype": "text/x-python",
   "name": "python",
   "nbconvert_exporter": "python",
   "pygments_lexer": "ipython3",
   "version": "3.12.3"
  }
 },
 "nbformat": 4,
 "nbformat_minor": 4
}
