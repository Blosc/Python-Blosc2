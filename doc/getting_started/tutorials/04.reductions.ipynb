{
 "cells": [
  {
   "cell_type": "markdown",
   "id": "e0429f6f64aaa0ea",
   "metadata": {},
   "source": [
    "# Optimizing data reductions with NDArrays\n",
    "\n",
    "Blosc2 leverages the power of NumPy to perform efficient reductions on compressed multidimensional arrays. By compressing data with Blosc2, it is possible to reduce the memory and storage space required to store large datasets, while maintaining fast access times. This is especially beneficial for systems with memory constraints, as it allows for faster data access and manipulation.\n",
    "\n",
    "In this tutorial, we will explore how Python-Blosc2 can perform data reductions in NDArray objects (or any other object fulfilling the `LazyArray` interface) and how the performance of these operations can be optimized by using different chunk shapes, compression levels and codecs.  We will compare the performance of Python-Blosc2 with NumPy.\n",
    "\n",
    "**Note**: This tutorial assumes that you have Python, NumPy, matplotlib and Blosc2 installed on your system.  Also, this notebook has been run on a CPU (Intel 13900K) with a relatively large L3 cache (36 MB). As it turns out, performance in Blosc2 is very sensitive to the CPU cache size, and the results may vary on different CPUs, so your mileage may vary."
   ]
  },
  {
   "cell_type": "markdown",
   "id": "7cecd5ce5b8085c",
   "metadata": {},
   "source": [
    "## The 3D array\n",
    "\n",
    "We will use a 3D array of type float64 with shape (1000, 1000, 1000). This array will be filled with values from 0 to 1000, and the goal will be to compute the sum of values in stripes of 100 elements in one axis, and including all the values in the other axis. We will perform reductions along the X, Y, and Z axes, comparing Python-Blosc2 performance (with and without compression) against NumPy."
   ]
  },
  {
   "cell_type": "code",
   "id": "initial_id",
   "metadata": {
    "ExecuteTime": {
     "end_time": "2024-11-27T12:48:03.252383Z",
     "start_time": "2024-11-27T12:48:01.175689Z"
    }
   },
   "source": [
    "from time import time\n",
    "\n",
    "import matplotlib.pyplot as plt\n",
    "import numpy as np\n",
    "\n",
    "import blosc2"
   ],
   "outputs": [],
   "execution_count": 1
  },
  {
   "cell_type": "code",
   "id": "94a5fa3aad0a9d8b",
   "metadata": {
    "ExecuteTime": {
     "end_time": "2024-11-27T12:48:09.344449Z",
     "start_time": "2024-11-27T12:48:03.257246Z"
    }
   },
   "source": [
    "# Create a 3D array of type float64 (8 GB)\n",
    "dtype = np.float64\n",
    "shape = (1000, 1000, 1000)\n",
    "size = np.prod(shape)\n",
    "a = np.linspace(0, 1000, num=size, dtype=dtype).reshape(shape)"
   ],
   "outputs": [],
   "execution_count": 2
  },
  {
   "cell_type": "markdown",
   "id": "557701d32c9e62bc",
   "metadata": {},
   "source": [
    "## Reducing with NumPy\n",
    "\n",
    "We will start by performing different sum reductions using NumPy.  First, summing along the X, Y, and Z axes (and getting 2D arrays as result) and then summing along all axis (and getting a scalar as result)."
   ]
  },
  {
   "cell_type": "code",
   "id": "bbbd00951e2b16f6",
   "metadata": {
    "ExecuteTime": {
     "end_time": "2024-11-27T12:48:12.880573Z",
     "start_time": "2024-11-27T12:48:09.394864Z"
    }
   },
   "source": [
    "axes = (\"X\", \"Y\", \"Z\", \"all\")\n",
    "meas_np = {\"sum\": {}, \"time\": {}}\n",
    "for n, axis in enumerate(axes):\n",
    "    n = n if axis != \"all\" else None\n",
    "    t0 = time()\n",
    "    meas_np[\"sum\"][axis] = np.sum(a, axis=n)\n",
    "    t = time() - t0\n",
    "    meas_np[\"time\"][axis] = time() - t0"
   ],
   "outputs": [],
   "execution_count": 3
  },
  {
   "cell_type": "markdown",
   "id": "4d134690aa9a440b",
   "metadata": {},
   "source": [
    "## Reducing with Blosc2\n",
    "\n",
    "Now let's create the Blosc2 array from the NumPy array.  First, let's define the parameters for Blosc2: number of threads, compression levels, codecs, and chunk sizes. We will exercise different combinations of these parameters to compute the performance of Python-Blosc2 in reducing data in 3D arrays."
   ]
  },
  {
   "cell_type": "code",
   "id": "21b3c02e2b03e1d8",
   "metadata": {
    "ExecuteTime": {
     "end_time": "2024-11-27T12:48:12.892305Z",
     "start_time": "2024-11-27T12:48:12.889998Z"
    }
   },
   "source": [
    "# Params for Blosc2\n",
    "clevels = (0, 5)\n",
    "codecs = (blosc2.Codec.LZ4, blosc2.Codec.ZSTD)"
   ],
   "outputs": [],
   "execution_count": 4
  },
  {
   "cell_type": "markdown",
   "id": "4731f35b9a0841e6",
   "metadata": {},
   "source": [
    "Time for creating the different arrays and performing the reductions for each combination of parameters."
   ]
  },
  {
   "cell_type": "code",
   "id": "92217680c72e2ae4",
   "metadata": {
    "ExecuteTime": {
     "end_time": "2024-11-27T12:48:12.913425Z",
     "start_time": "2024-11-27T12:48:12.909343Z"
    }
   },
   "source": [
    "# Create a 3D array of type float64\n",
    "def measure_blosc2(chunks):\n",
    "    meas = {}\n",
    "    for codec in codecs:\n",
    "        meas[codec] = {}\n",
    "        for clevel in clevels:\n",
    "            meas[codec][clevel] = {\"sum\": {}, \"time\": {}}\n",
    "            cparams = blosc2.CParams(clevel=clevel, codec=codec)\n",
    "            a1 = blosc2.asarray(a, chunks=chunks, cparams=cparams)\n",
    "            if clevel > 0:\n",
    "                print(f\"cratio for {codec.name} + SHUFFLE: {a1.schunk.cratio:.1f}x\")\n",
    "            # Iterate on Blosc2 and NumPy arrays\n",
    "            for n, axis in enumerate(axes):\n",
    "                n = n if axis != \"all\" else None\n",
    "                t0 = time()\n",
    "                # Perform the sum of the stripe (defined by the slice_)\n",
    "                meas[codec][clevel][\"sum\"][axis] = a1.sum(axis=n)\n",
    "                t = time() - t0\n",
    "                meas[codec][clevel][\"time\"][axis] = t\n",
    "                # If interested, you can uncomment the following line to check the results\n",
    "                # np.testing.assert_allclose(meas[codec][clevel][\"sum\"][axis],\n",
    "                #                           meas_np[\"sum\"][axis])\n",
    "    return meas"
   ],
   "outputs": [],
   "execution_count": 5
  },
  {
   "cell_type": "markdown",
   "id": "5ae2e09ad305417d",
   "metadata": {},
   "source": [
    "Let's plot the results for the X, Y, and Z axes, comparing the performance of Python-Blosc2 with different configurations against NumPy."
   ]
  },
  {
   "cell_type": "code",
   "id": "fb0ce45807353475",
   "metadata": {
    "ExecuteTime": {
     "end_time": "2024-11-27T12:48:12.931485Z",
     "start_time": "2024-11-27T12:48:12.920982Z"
    }
   },
   "source": [
    "def plot_meas(meas_np, meas, chunks):\n",
    "    _fig, ax = plt.subplots()\n",
    "\n",
    "    # Define the groups and bar width\n",
    "    groups = meas_np[\"time\"].keys()\n",
    "    bar_width = 0.2\n",
    "    indices = np.arange(len(groups))\n",
    "\n",
    "    # Plot NumPy times\n",
    "    ax.bar(indices - 1.5 * bar_width, [meas_np[\"time\"][g] for g in groups], bar_width, label=\"NumPy\")\n",
    "\n",
    "    # Plot Blosc2 times\n",
    "    ax.bar(\n",
    "        indices - 0.5 * bar_width,\n",
    "        [meas[blosc2.Codec.LZ4][0][\"time\"][g] for g in groups],\n",
    "        bar_width,\n",
    "        label=\"Blosc2, no compression\",\n",
    "    )\n",
    "    ax.bar(\n",
    "        indices + 0.5 * bar_width,\n",
    "        [meas[blosc2.Codec.LZ4][5][\"time\"][g] for g in groups],\n",
    "        bar_width,\n",
    "        label=\"Blosc2, LZ4 + SHUFFLE\",\n",
    "    )\n",
    "    ax.bar(\n",
    "        indices + 1.5 * bar_width,\n",
    "        [meas[blosc2.Codec.ZSTD][5][\"time\"][g] for g in groups],\n",
    "        bar_width,\n",
    "        label=\"Blosc2, ZSTD + SHUFFLE\",\n",
    "    )\n",
    "\n",
    "    # Set the labels and title\n",
    "    ax.set_xlabel(\"Axis\")\n",
    "    ax.set_ylabel(\"Time (s)\")\n",
    "    ax.set_title(\"Reduction Times\")\n",
    "    ax.set_xticks(indices)\n",
    "    ax.set_xticklabels(groups)\n",
    "    ax.legend()\n",
    "\n",
    "    plt.tight_layout()\n",
    "    plt.show()"
   ],
   "outputs": [],
   "execution_count": 6
  },
  {
   "cell_type": "code",
   "id": "9314c555-f759-43dd-95dd-08772b2bfd3a",
   "metadata": {
    "ExecuteTime": {
     "end_time": "2024-11-27T12:49:34.322557Z",
     "start_time": "2024-11-27T12:48:12.962922Z"
    }
   },
   "source": [
    "# Automatic chunking: (1, 1000, 1000) for Intel 13900K\n",
    "chunks = None\n",
    "meas = measure_blosc2(chunks)\n",
    "plot_meas(meas_np, meas, chunks)"
   ],
   "outputs": [
    {
     "name": "stdout",
     "output_type": "stream",
     "text": [
      "cratio for LZ4 + SHUFFLE: 10.4x\n",
      "cratio for ZSTD + SHUFFLE: 37.7x\n"
     ]
    },
    {
     "data": {
      "text/plain": [
       "<Figure size 640x480 with 1 Axes>"
      ],
      "image/png": "[encoded data removed]"
     },
     "metadata": {},
     "output_type": "display_data"
    }
   ],
   "execution_count": 7
  },
  {
   "cell_type": "markdown",
   "id": "e9a1626664639c52",
   "metadata": {},
   "source": [
    "In the plot above, we can see that reductions along the X axis are much slower than those along the Y and Z axis for the Blosc2 case. This is because the automatically computed chunk shape is (1, 1000, 1000) making the overhead of partial sums larger. When reducing in all axes, Blosc2+LZ4+SHUFFLE actually achieves better performance than NumPy. See later for a discussion on these results.\n",
    "\n",
    "Let's try to improve the performance by manually setting the chunk size. In the next case, we want to make performance similar along the three axes, so we will set the chunk size to (100, 100, 100) (8 MB)."
   ]
  },
  {
   "cell_type": "code",
   "id": "e0070348-b3e5-4936-93ab-11dbe70db445",
   "metadata": {
    "ExecuteTime": {
     "end_time": "2024-11-27T12:50:56.183107Z",
     "start_time": "2024-11-27T12:49:34.374274Z"
    }
   },
   "source": [
    "# Manual chunking\n",
    "chunks = (100, 100, 100)\n",
    "meas = measure_blosc2(chunks)\n",
    "plot_meas(meas_np, meas, chunks)"
   ],
   "outputs": [
    {
     "name": "stdout",
     "output_type": "stream",
     "text": [
      "cratio for LZ4 + SHUFFLE: 6.2x\n",
      "cratio for ZSTD + SHUFFLE: 13.5x\n"
     ]
    },
    {
     "data": {
      "text/plain": [
       "<Figure size 640x480 with 1 Axes>"
      ],
      "image/png": "[encoded data removed]"
     },
     "metadata": {},
     "output_type": "display_data"
    }
   ],
   "execution_count": 8
  },
  {
   "cell_type": "markdown",
   "id": "a037fbb7dc45f983",
   "metadata": {},
   "source": [
    "In this case, performance in the X axis is already faster than Y and Z axes for Blosc2. Interestingly, performance is also faster than NumPy in X axis, while being very similar in Y and Z axis.\n",
    "\n",
    "We could proceed further and try to fine tune the chunk size to get even better performance, but this is out of the scope of this tutorial. Instead, we will try to make some sense on the results above; see below."
   ]
  },
  {
   "cell_type": "markdown",
   "id": "ae10eed615d31f30",
   "metadata": {},
   "source": [
    "## Performing reductions on 3D arrays\n",
    "\n",
    "<div>\n",
    "<img src=\"images/reductions/3D-cube-plane.png\" width=\"300\"/>\n",
    "</div>\n",
    "\n",
    "On a three-dimensional environment, like the one shown in the image, data is organized in a cubic space with three axes: X, Y, and Z. By default, Blosc2 chooses the chunk size so that it fits in the CPU cache. On the other hand, it tries to follow the NumPy convention of storing data row-wise; in our case above, the default chunk shape has been (1, 1000, 1000).  In this case, it is clear that reduction times along different axes are not the same, as the sizes are not uniform.\n",
    "\n",
    "The difference in cost while traversing data values can be visualized more easily on a 2D array:\n",
    "\n",
    "<div>\n",
    "<img src=\"images/reductions/memory-access-2D-x.png\" width=\"500\"/>\n",
    "</div>\n",
    "\n",
    "Reduction along the X axis: When accessing a row (red line), the CPU can access these values (red points) from memory sequentially, but they need to be stored on an accumulator. The next rows needs to be fetched from memory and be added to the accumulator. If the size of the accumulator is large (in this case is `1000 * 1000 * 8 = 8 MB`), it does not fit in low level CPU caches, making it a slow operation.\n",
    "\n",
    "<div>\n",
    "<img src=\"images/reductions/memory-access-2D-y.png\" width=\"360\"/>\n",
    "</div>\n",
    "\n",
    "Reducing along the Y axis: When accessing a row (green line), the CPU can access these values (green points) from memory sequentially but, contrarily to the case above, they don't need an accumulator and the sum of the row (marked as an `*`) is final.  So, although the number of sum operations is the same as above, the required time is smaller because there is no need of updating *all* the values of the accumulator per row, but only one at a time, which is more efficient in modern CPUs.\n",
    "\n",
    "### Tweaking the chunk size\n",
    "\n",
    "<div>\n",
    "<img src=\"images/reductions/3D-cube.png\" width=\"250\"/>\n",
    "</div>\n",
    "\n",
    "However, when Blosc2 is instructed to create chunks that are the same size for all the axes (`chunks=(100, 100, 100)`), the situation changes. In this case, an accumulator is needed for each subcube, but it is smaller (`100 * 100 * 8 = 80 KB`) and fits in L2, which is faster than L3 (scenario above); as the same size is used for all the axes hence the performance is similar for all of them.\n",
    "\n",
    "It is interesting to stress out that, when using compression, performance is similar than NumPy in *all* axes, except for the X axis, where performance is up to 1.5x better. This fact is even more interesting when you know that Blosc2 is using the very same NumPy reduction machinery behind the scenes. This is a nice side effect of compression; see below."
   ]
  },
  {
   "cell_type": "markdown",
   "id": "a1deee3b4faacc14",
   "metadata": {},
   "source": [
    "### Effects of using different codecs in Python-Blosc2\n",
    "\n",
    "Compression and decompression consume CPU and memory resources. Differentiating between various codecs and configurations allows for evaluating how each option impacts the use of these resources, helping to choose the most efficient option for the operating environment.\n",
    "\n",
    "When compression is not applied, data is stored and accessed as-is; this can result in higher memory usage and longer access times, especially for large datasets. On the other hand, compression reduces the size of the data in memory and storage, which can improve performance in data reading and writing. However, compression and decompression require additional CPU time. Therefore, it is important to find the right balance between reduced size and processing time.\n",
    "\n",
    "In the plots above, we can see how using the LZ4 codec is striking such a balance, as it achieves the best performance in general, even above a non-compressed scenario. This is because LZ4 is tuned towards speed, and the time to compress and decompress the data is very low. On the other hand, ZSTD is a codec that is optimized for compression ratio, and hence it is a bit slower.  However, it is still faster than the non-compressed case, as the reduced memory transmission compensates for the additional CPU time required for compression and decompression.\n",
    "\n",
    "We have just scraped the surface for some of the compression parameters that can be tuned in Blosc2.  You can use the `cparams` dict with the different parameters in [blosc2.compress2()](https://www.blosc.org/python-blosc2/reference/autofiles/top_level/blosc2.compress2.html#blosc2.compress2) to set the compression level, [codec](https://www.blosc.org/python-blosc2/reference/autofiles/top_level/blosc2.Codec.html), [filters](https://www.blosc.org/python-blosc2/reference/autofiles/top_level/blosc2.Filter.html) and other parameters.  If you need a better way to tune these, there is the [Btune tool](https://ironarray.io/btune) that, depending on your requirements for how fast you want compression/decompression can go, the desired degree of compression ratio, or how similar your compressed data would be with respect to the original data (i.e. using lossy compression), can help you find the best parameters for your data and CPU by using deep learning techniques."
   ]
  },
  {
   "cell_type": "markdown",
   "id": "106d7af6d1a6cedc",
   "metadata": {},
   "source": [
    "## Conclusion\n",
    "\n",
    "Understanding the balance between space savings and the additional time required to process the data is important. Testing different compression settings can help finding the method that offers the best trade-off between reduced size and processing time. The fact that Blosc2 automatically chooses the chunk shape, makes it easy for the user to get a decently good performance, without having to worry about the details of the CPU cache.  In addition, as we have shown, we can fine tune the chunk shape in case it does not fit our needs (e.g. we need more uniform performance along all axes).\n",
    "\n",
    "Besides the sum() reduction exercised here, Blosc2 supports a fair range of reduction operators (mean, std, min, max, all, any, etc.), and you are invited to [explore them](https://www.blosc.org/python-blosc2/reference/array_operations.html).\n",
    "\n",
    "Finally, it is also possible to use reductions even for very large arrays that are stored on disk. This opens the door to a wide range of possibilities for data analysis and science, allowing for efficient computations on large datasets that are compressed on-disk and with minimal memory usage. We will explore this in a forthcoming tutorial."
   ]
  },
  {
   "cell_type": "code",
   "id": "4995f5eaeff0a11a",
   "metadata": {
    "ExecuteTime": {
     "end_time": "2024-11-27T12:50:56.208115Z",
     "start_time": "2024-11-27T12:50:56.204254Z"
    }
   },
   "source": [],
   "outputs": [],
   "execution_count": null
  }
 ],
 "metadata": {
  "kernelspec": {
   "display_name": "Python 3 (ipykernel)",
   "language": "python",
   "name": "python3"
  },
  "language_info": {
   "codemirror_mode": {
    "name": "ipython",
    "version": 3
   },
   "file_extension": ".py",
   "mimetype": "text/x-python",
   "name": "python",
   "nbconvert_exporter": "python",
   "pygments_lexer": "ipython3",
   "version": "3.12.3"
  }
 },
 "nbformat": 4,
 "nbformat_minor": 5
}
