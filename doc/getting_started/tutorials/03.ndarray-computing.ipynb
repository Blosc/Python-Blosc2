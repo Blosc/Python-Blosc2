{
 "cells": [
  {
   "cell_type": "markdown",
   "metadata": {},
   "source": [
    "# Computing with NDArray objects\n",
    "\n",
    "Python-Blosc2 implements a powerful way to operate with NDArray (and other flavors) objects.  In this section, we will see how to do computations with NDArray arrays in a simple way.\n"
   ]
  },
  {
   "cell_type": "code",
   "metadata": {
    "ExecuteTime": {
     "end_time": "2024-06-17T16:25:37.916307Z",
     "start_time": "2024-06-17T16:25:37.647014Z"
    }
   },
   "source": [
    "import blosc2\n",
    "import numpy as np"
   ],
   "outputs": [],
   "execution_count": 1
  },
  {
   "cell_type": "markdown",
   "metadata": {},
   "source": [
    "## A simple example\n",
    "First, let's create a couple of NDArrays.  We will use NumPy arrays to fill them."
   ]
  },
  {
   "cell_type": "code",
   "metadata": {
    "ExecuteTime": {
     "end_time": "2024-06-17T16:25:37.933120Z",
     "start_time": "2024-06-17T16:25:37.917344Z"
    }
   },
   "source": [
    "shape = (500, 1000)\n",
    "npa = np.linspace(0, 1, np.prod(shape), dtype=np.float32).reshape(shape)\n",
    "npb = np.linspace(1, 2, np.prod(shape), dtype=np.float64).reshape(shape)\n",
    "\n",
    "a = blosc2.asarray(npa, urlpath=\"a.b2nd\", mode=\"w\")\n",
    "b = blosc2.asarray(npb, urlpath=\"b.b2nd\", mode=\"w\")"
   ],
   "outputs": [],
   "execution_count": 2
  },
  {
   "metadata": {},
   "cell_type": "markdown",
   "source": "Now, let's create an expression that involves `a` and `b`"
  },
  {
   "metadata": {
    "ExecuteTime": {
     "end_time": "2024-06-17T16:25:37.937379Z",
     "start_time": "2024-06-17T16:25:37.933866Z"
    }
   },
   "cell_type": "code",
   "source": [
    "c = a**2 + b**2 + 2 * a * b + 1\n",
    "print(c.info)  # at this stage, the expression has not been evaluated yet"
   ],
   "outputs": [
    {
     "name": "stdout",
     "output_type": "stream",
     "text": [
      "type       : LazyExpr\n",
      "expression : ((((o0 ** 2) + (o1 ** 2)) + ((2 * o0) * o1)) + 1)\n",
      "operands   : {'o0': 'a.b2nd', 'o1': 'b.b2nd'}\n",
      "shape      : (500, 1000)\n",
      "dtype      : float64\n",
      "\n"
     ]
    }
   ],
   "execution_count": 3
  },
  {
   "metadata": {},
   "cell_type": "markdown",
   "source": [
    "We see that the outcome of the expression is a `LazyExpr` object.  This object is a placeholder for the actual computation that will be done when we evaluate it.  This is a very powerful feature because it allows us to build complex expressions without actually computing them until we really need the result.\n",
    "\n",
    "Now, let's evaluate it. `LazyExpr` objects follow the `LazyArray` interface, and this provides several ways for performing the evaluation, depending on the object we want as the desired output.\n",
    " \n",
    "First, let's use the `eval` method.  The result will be another NDArray array:"
   ]
  },
  {
   "metadata": {
    "ExecuteTime": {
     "end_time": "2024-06-17T16:25:37.952919Z",
     "start_time": "2024-06-17T16:25:37.939388Z"
    }
   },
   "cell_type": "code",
   "source": [
    "d = c.eval()   # evaluate the expression\n",
    "print(f\"Class: {type(d)}\")\n",
    "print(f\"Compression ratio: {d.schunk.cratio:.2f}x\")"
   ],
   "outputs": [
    {
     "name": "stdout",
     "output_type": "stream",
     "text": [
      "Class: <class 'blosc2.ndarray.NDArray'>\n",
      "Compression ratio: 1.88x\n"
     ]
    }
   ],
   "execution_count": 4
  },
  {
   "metadata": {},
   "cell_type": "markdown",
   "source": "We can specify different compression parameters for the result.  For example, we can change the codec to `zstd`, use the bitshuffle filter, and the compression level set to 9:"
  },
  {
   "metadata": {
    "ExecuteTime": {
     "end_time": "2024-06-17T16:25:38.124960Z",
     "start_time": "2024-06-17T16:25:37.953509Z"
    }
   },
   "cell_type": "code",
   "source": [
    "cparams = {\n",
    "    \"codec\": blosc2.Codec.ZSTD,\n",
    "    \"filters\": [blosc2.Filter.BITSHUFFLE],\n",
    "    \"clevel\": 9\n",
    "}\n",
    "d = c.eval(cparams=cparams)\n",
    "print(f\"Compression ratio: {d.schunk.cratio:.2f}x\")"
   ],
   "outputs": [
    {
     "name": "stdout",
     "output_type": "stream",
     "text": [
      "Compression ratio: 2.03x\n"
     ]
    }
   ],
   "execution_count": 5
  },
  {
   "metadata": {},
   "cell_type": "markdown",
   "source": "Now, let's evaluate the expression and store the result in a NumPy array.  For this, we will use the `__getitem__` method:"
  },
  {
   "metadata": {
    "ExecuteTime": {
     "end_time": "2024-06-17T16:25:38.129282Z",
     "start_time": "2024-06-17T16:25:38.125643Z"
    }
   },
   "cell_type": "code",
   "source": [
    "npd = d[:]\n",
    "print(f\"Class: {type(npd)}\")"
   ],
   "outputs": [
    {
     "name": "stdout",
     "output_type": "stream",
     "text": [
      "Class: <class 'numpy.ndarray'>\n"
     ]
    }
   ],
   "execution_count": 6
  },
  {
   "metadata": {},
   "cell_type": "markdown",
   "source": "## Saving expressions to disk"
  },
  {
   "metadata": {},
   "cell_type": "markdown",
   "source": "Finally, you can save expressions to disk.  For this, use the `save` method of ``LazyArray`` objects.  For example, let's save the expression `c` to disk:"
  },
  {
   "metadata": {
    "ExecuteTime": {
     "end_time": "2024-06-17T16:25:38.136460Z",
     "start_time": "2024-06-17T16:25:38.130164Z"
    }
   },
   "cell_type": "code",
   "source": [
    "c = a**2 + b**2 + 2 * a * b + 1\n",
    "c.save(urlpath=\"expr.b2nd\")"
   ],
   "outputs": [],
   "execution_count": 7
  },
  {
   "metadata": {},
   "cell_type": "markdown",
   "source": "And you can load it back with the `open` function:"
  },
  {
   "metadata": {
    "ExecuteTime": {
     "end_time": "2024-06-17T16:25:38.141556Z",
     "start_time": "2024-06-17T16:25:38.137327Z"
    }
   },
   "cell_type": "code",
   "source": [
    "c2 = blosc2.open(\"expr.b2nd\")\n",
    "print(c2.info)"
   ],
   "outputs": [
    {
     "name": "stdout",
     "output_type": "stream",
     "text": [
      "type       : LazyExpr\n",
      "expression : ((((o0 ** 2) + (o1 ** 2)) + ((2 * o0) * o1)) + 1)\n",
      "operands   : {'o0': 'a.b2nd', 'o1': 'b.b2nd'}\n",
      "shape      : (500, 1000)\n",
      "dtype      : float64\n",
      "\n"
     ]
    }
   ],
   "execution_count": 8
  },
  {
   "metadata": {},
   "cell_type": "markdown",
   "source": "Now, you can evaluate it as before:"
  },
  {
   "metadata": {
    "ExecuteTime": {
     "end_time": "2024-06-17T16:25:38.152210Z",
     "start_time": "2024-06-17T16:25:38.142226Z"
    }
   },
   "cell_type": "code",
   "source": [
    "d2 = c2.eval()\n",
    "print(f\"Compression ratio: {d2.schunk.cratio:.2f}x\")"
   ],
   "outputs": [
    {
     "name": "stdout",
     "output_type": "stream",
     "text": [
      "Compression ratio: 1.88x\n"
     ]
    }
   ],
   "execution_count": 9
  },
  {
   "metadata": {},
   "cell_type": "markdown",
   "source": [
    "## Broadcasting\n",
    "\n",
    "NumPy arrays support broadcasting, and so do NDArray arrays.  Let's see an example:\n"
   ]
  },
  {
   "metadata": {
    "ExecuteTime": {
     "end_time": "2024-06-17T16:25:38.156268Z",
     "start_time": "2024-06-17T16:25:38.153928Z"
    }
   },
   "cell_type": "code",
   "source": [
    "b2 = b[0]  # take the first row of b\n",
    "print(f\"Shape of a: {a.shape}, shape of b2: {b2.shape}\")"
   ],
   "outputs": [
    {
     "name": "stdout",
     "output_type": "stream",
     "text": [
      "Shape of a: (500, 1000), shape of b2: (1000,)\n"
     ]
    }
   ],
   "execution_count": 10
  },
  {
   "metadata": {},
   "cell_type": "markdown",
   "source": "We see that the shapes of `a` and `b2` are different.  However, we can still operate with them and the broadcasting will be done automatically (à la NumPy):"
  },
  {
   "metadata": {
    "ExecuteTime": {
     "end_time": "2024-06-17T16:25:38.165950Z",
     "start_time": "2024-06-17T16:25:38.156819Z"
    }
   },
   "cell_type": "code",
   "source": [
    "c2 = a + b2\n",
    "d2 = c2.eval()\n",
    "print(f\"Compression ratio: {d2.schunk.cratio:.2f}x, shape: {d2.shape}\")"
   ],
   "outputs": [
    {
     "name": "stdout",
     "output_type": "stream",
     "text": [
      "Compression ratio: 18.14x, shape: (500, 1000)\n"
     ]
    }
   ],
   "execution_count": 11
  },
  {
   "metadata": {},
   "cell_type": "markdown",
   "source": [
    "## Reductions\n",
    "\n",
    "We can also perform reductions on NDArray arrays.  Let's see an example:"
   ]
  },
  {
   "metadata": {
    "ExecuteTime": {
     "end_time": "2024-06-17T16:25:38.172607Z",
     "start_time": "2024-06-17T16:25:38.166604Z"
    }
   },
   "cell_type": "code",
   "source": [
    "c = (a + b).sum()\n",
    "c"
   ],
   "outputs": [
    {
     "data": {
      "text/plain": [
       "999999.9999999471"
      ]
     },
     "execution_count": 12,
     "metadata": {},
     "output_type": "execute_result"
    }
   ],
   "execution_count": 12
  },
  {
   "metadata": {},
   "cell_type": "markdown",
   "source": "As we can see, the result is a scalar. That means that reductions in expressions always perform the computation immediately.  We can also specify the axis for the reduction:"
  },
  {
   "metadata": {
    "ExecuteTime": {
     "end_time": "2024-06-17T16:25:38.179217Z",
     "start_time": "2024-06-17T16:25:38.173263Z"
    }
   },
   "cell_type": "code",
   "source": [
    "c = (a + b).sum(axis=1)\n",
    "print(f\"Shape of c: {c.shape}\")\n",
    "# Show the first 4 elements of the result\n",
    "c[:4]"
   ],
   "outputs": [
    {
     "name": "stdout",
     "output_type": "stream",
     "text": [
      "Shape of c: (500,)\n"
     ]
    },
    {
     "data": {
      "text/plain": [
       "array([1001.998004  , 1005.998012  , 1009.99802   , 1013.99802799])"
      ]
     },
     "execution_count": 13,
     "metadata": {},
     "output_type": "execute_result"
    }
   ],
   "execution_count": 13
  },
  {
   "metadata": {},
   "cell_type": "markdown",
   "source": [
    "## Summary\n",
    "\n",
    "In this section, we have seen how to perform computations with NDArray arrays.  We have seen how to create expressions, evaluate them, and save them to disk.  We have also seen how to perform broadcasting and reductions.  This is a very powerful feature that allows you to build and evaluate complex computations from operands that can be in-memory, on-disk or in remote boxes (`C2Array`) in a very simple way."
   ]
  }
 ],
 "metadata": {
  "kernelspec": {
   "display_name": "Python 3 (ipykernel)",
   "language": "python",
   "name": "python3"
  },
  "language_info": {
   "codemirror_mode": {
    "name": "ipython",
    "version": 3
   },
   "file_extension": ".py",
   "mimetype": "text/x-python",
   "name": "python",
   "nbconvert_exporter": "python",
   "pygments_lexer": "ipython3",
   "version": "3.9.7"
  }
 },
 "nbformat": 4,
 "nbformat_minor": 1
}
