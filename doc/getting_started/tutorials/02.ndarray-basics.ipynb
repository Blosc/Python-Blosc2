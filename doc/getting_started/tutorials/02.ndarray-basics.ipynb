{
 "cells": [
  {
   "cell_type": "markdown",
   "metadata": {},
   "source": [
    "# NDArray: mutidimensional SChunk\n",
    "\n",
    "NDArray functions let users perform different operations with NDArray arrays like setting, copying or slicing them.\n",
    "In this section, we are going to see how to create and manipulate a NDArray array in a simple way.\n"
   ]
  },
  {
   "cell_type": "code",
   "metadata": {
    "ExecuteTime": {
     "end_time": "2024-10-08T07:56:33.037210Z",
     "start_time": "2024-10-08T07:56:33.032553Z"
    }
   },
   "source": [
    "import numpy as np\n",
    "\n",
    "import blosc2"
   ],
   "outputs": [],
   "execution_count": 26
  },
  {
   "cell_type": "markdown",
   "metadata": {},
   "source": [
    "## Creating an array\n",
    "First, we create an array, with zeros being used as the default value for uninitialized portions of the array.\n"
   ]
  },
  {
   "cell_type": "code",
   "metadata": {
    "ExecuteTime": {
     "end_time": "2024-10-08T07:56:34.647278Z",
     "start_time": "2024-10-08T07:56:34.623875Z"
    }
   },
   "source": [
    "array = blosc2.zeros((10000, 10000), dtype=np.int32)\n",
    "print(array.info)"
   ],
   "outputs": [
    {
     "name": "stdout",
     "output_type": "stream",
     "text": [
      "type    : NDArray\n",
      "shape   : (10000, 10000)\n",
      "chunks  : (25, 10000)\n",
      "blocks  : (2, 10000)\n",
      "dtype   : int32\n",
      "cratio  : 32500.00\n",
      "cparams : {'blocksize': 80000,\n",
      " 'clevel': 1,\n",
      " 'codec': <Codec.ZSTD: 5>,\n",
      " 'codec_meta': 0,\n",
      " 'filters': [<Filter.NOFILTER: 0>,\n",
      "             <Filter.NOFILTER: 0>,\n",
      "             <Filter.NOFILTER: 0>,\n",
      "             <Filter.NOFILTER: 0>,\n",
      "             <Filter.NOFILTER: 0>,\n",
      "             <Filter.SHUFFLE: 1>],\n",
      " 'filters_meta': [0, 0, 0, 0, 0, 0],\n",
      " 'nthreads': 4,\n",
      " 'splitmode': <SplitMode.ALWAYS_SPLIT: 1>,\n",
      " 'typesize': 4,\n",
      " 'use_dict': 0}\n",
      "dparams : {'nthreads': 4}\n",
      "\n"
     ]
    }
   ],
   "execution_count": 27
  },
  {
   "cell_type": "markdown",
   "metadata": {},
   "source": [
    "Note that all the compression and decompression parameters, as well as the chunks and blocks shapes are set to the default.\n",
    "\n",
    "## Reading and writing data\n",
    "We can access and edit NDArray arrays using NumPy."
   ]
  },
  {
   "cell_type": "code",
   "metadata": {
    "ExecuteTime": {
     "end_time": "2024-10-08T07:56:36.157687Z",
     "start_time": "2024-10-08T07:56:36.031592Z"
    }
   },
   "source": [
    "array[0, :] = np.arange(10000, dtype=array.dtype)\n",
    "array[:, 0] = np.arange(10000, dtype=array.dtype)"
   ],
   "outputs": [],
   "execution_count": 28
  },
  {
   "cell_type": "code",
   "metadata": {
    "ExecuteTime": {
     "end_time": "2024-10-08T07:56:36.493800Z",
     "start_time": "2024-10-08T07:56:36.479202Z"
    }
   },
   "source": [
    "array[0, 0]"
   ],
   "outputs": [
    {
     "data": {
      "text/plain": [
       "array(0, dtype=int32)"
      ]
     },
     "execution_count": 29,
     "metadata": {},
     "output_type": "execute_result"
    }
   ],
   "execution_count": 29
  },
  {
   "cell_type": "code",
   "metadata": {
    "ExecuteTime": {
     "end_time": "2024-10-08T07:56:37.078878Z",
     "start_time": "2024-10-08T07:56:37.069792Z"
    }
   },
   "source": [
    "array[0, :]"
   ],
   "outputs": [
    {
     "data": {
      "text/plain": [
       "array([   0,    1,    2, ..., 9997, 9998, 9999], dtype=int32)"
      ]
     },
     "execution_count": 30,
     "metadata": {},
     "output_type": "execute_result"
    }
   ],
   "execution_count": 30
  },
  {
   "cell_type": "code",
   "metadata": {
    "ExecuteTime": {
     "end_time": "2024-10-08T07:56:37.794476Z",
     "start_time": "2024-10-08T07:56:37.731823Z"
    }
   },
   "source": [
    "array[:, 0]"
   ],
   "outputs": [
    {
     "data": {
      "text/plain": [
       "array([   0,    1,    2, ..., 9997, 9998, 9999], dtype=int32)"
      ]
     },
     "execution_count": 31,
     "metadata": {},
     "output_type": "execute_result"
    }
   ],
   "execution_count": 31
  },
  {
   "cell_type": "markdown",
   "metadata": {},
   "source": [
    "## Persistent data\n",
    "As in the SChunk, when we create a NDArray array, we can specify where it will be stored. Indeed, we can specify all the compression/decompression parameters that we can specify in a SChunk.\n",
    "So as in the SChunk, to store an array on-disk we only have to specify a `urlpath` where to store the new array.\n"
   ]
  },
  {
   "cell_type": "code",
   "metadata": {
    "ExecuteTime": {
     "end_time": "2024-10-08T07:56:40.158664Z",
     "start_time": "2024-10-08T07:56:40.023997Z"
    }
   },
   "source": [
    "array = blosc2.full(\n",
    "    (1000, 1000),\n",
    "    fill_value=b\"pepe\",\n",
    "    chunks=(100, 100),\n",
    "    blocks=(50, 50),\n",
    "    urlpath=\"ndarray_tutorial.b2nd\",\n",
    "    mode=\"w\",\n",
    ")\n",
    "print(array.info)"
   ],
   "outputs": [
    {
     "name": "stdout",
     "output_type": "stream",
     "text": [
      "type    : NDArray\n",
      "shape   : (1000, 1000)\n",
      "chunks  : (100, 100)\n",
      "blocks  : (50, 50)\n",
      "dtype   : |S4\n",
      "cratio  : 1111.11\n",
      "cparams : {'blocksize': 10000,\n",
      " 'clevel': 1,\n",
      " 'codec': <Codec.ZSTD: 5>,\n",
      " 'codec_meta': 0,\n",
      " 'filters': [<Filter.NOFILTER: 0>,\n",
      "             <Filter.NOFILTER: 0>,\n",
      "             <Filter.NOFILTER: 0>,\n",
      "             <Filter.NOFILTER: 0>,\n",
      "             <Filter.NOFILTER: 0>,\n",
      "             <Filter.SHUFFLE: 1>],\n",
      " 'filters_meta': [0, 0, 0, 0, 0, 0],\n",
      " 'nthreads': 4,\n",
      " 'splitmode': <SplitMode.ALWAYS_SPLIT: 1>,\n",
      " 'typesize': 4,\n",
      " 'use_dict': 0}\n",
      "dparams : {'nthreads': 4}\n",
      "\n"
     ]
    }
   ],
   "execution_count": 32
  },
  {
   "cell_type": "markdown",
   "metadata": {},
   "source": [
    "This time we even set the chunks and blocks shapes. You can now open it with modes `w`, `a` or `r`."
   ]
  },
  {
   "cell_type": "code",
   "metadata": {
    "ExecuteTime": {
     "end_time": "2024-10-08T07:56:42.314419Z",
     "start_time": "2024-10-08T07:56:42.308506Z"
    }
   },
   "source": [
    "array2 = blosc2.open(\"ndarray_tutorial.b2nd\")\n",
    "print(array2.info)"
   ],
   "outputs": [
    {
     "name": "stdout",
     "output_type": "stream",
     "text": [
      "type    : NDArray\n",
      "shape   : (1000, 1000)\n",
      "chunks  : (100, 100)\n",
      "blocks  : (50, 50)\n",
      "dtype   : |S4\n",
      "cratio  : 1111.11\n",
      "cparams : {'blocksize': 10000,\n",
      " 'clevel': 1,\n",
      " 'codec': <Codec.ZSTD: 5>,\n",
      " 'codec_meta': 0,\n",
      " 'filters': [<Filter.NOFILTER: 0>,\n",
      "             <Filter.NOFILTER: 0>,\n",
      "             <Filter.NOFILTER: 0>,\n",
      "             <Filter.NOFILTER: 0>,\n",
      "             <Filter.NOFILTER: 0>,\n",
      "             <Filter.SHUFFLE: 1>],\n",
      " 'filters_meta': [0, 0, 0, 0, 0, 0],\n",
      " 'nthreads': 1,\n",
      " 'splitmode': <SplitMode.ALWAYS_SPLIT: 1>,\n",
      " 'typesize': 4,\n",
      " 'use_dict': 0}\n",
      "dparams : {'nthreads': 1}\n",
      "\n"
     ]
    }
   ],
   "execution_count": 33
  },
  {
   "cell_type": "markdown",
   "metadata": {},
   "source": [
    "## Compression params\n",
    "Here we can see how when we make a copy of a NDArray array we can change its compression parameters in an easy way."
   ]
  },
  {
   "cell_type": "code",
   "metadata": {
    "ExecuteTime": {
     "end_time": "2024-10-08T08:01:21.290860Z",
     "start_time": "2024-10-08T08:01:21.216404Z"
    }
   },
   "source": [
    "b = np.arange(1000000).tobytes()\n",
    "array1 = blosc2.frombuffer(b, shape=(1000, 1000), dtype=np.int64, chunks=(500, 10), blocks=(50, 10))\n",
    "print(array1.info)"
   ],
   "outputs": [
    {
     "name": "stdout",
     "output_type": "stream",
     "text": [
      "type    : NDArray\n",
      "shape   : (1000, 1000)\n",
      "chunks  : (500, 10)\n",
      "blocks  : (50, 10)\n",
      "dtype   : int64\n",
      "cratio  : 7.45\n",
      "cparams : {'blocksize': 4000,\n",
      " 'clevel': 1,\n",
      " 'codec': <Codec.ZSTD: 5>,\n",
      " 'codec_meta': 0,\n",
      " 'filters': [<Filter.NOFILTER: 0>,\n",
      "             <Filter.NOFILTER: 0>,\n",
      "             <Filter.NOFILTER: 0>,\n",
      "             <Filter.NOFILTER: 0>,\n",
      "             <Filter.NOFILTER: 0>,\n",
      "             <Filter.SHUFFLE: 1>],\n",
      " 'filters_meta': [0, 0, 0, 0, 0, 0],\n",
      " 'nthreads': 4,\n",
      " 'splitmode': <SplitMode.ALWAYS_SPLIT: 1>,\n",
      " 'typesize': 8,\n",
      " 'use_dict': 0}\n",
      "dparams : {'nthreads': 4}\n",
      "\n"
     ]
    }
   ],
   "execution_count": 38
  },
  {
   "cell_type": "code",
   "metadata": {
    "ExecuteTime": {
     "end_time": "2024-10-08T08:01:22.190912Z",
     "start_time": "2024-10-08T08:01:22.132568Z"
    }
   },
   "source": [
    "cparams = blosc2.CParams(\n",
    "    codec=blosc2.Codec.ZSTD,\n",
    "    clevel=9,\n",
    "    filters=[blosc2.Filter.BITSHUFFLE],\n",
    "    filters_meta=[0],\n",
    ")\n",
    "\n",
    "array2 = array1.copy(chunks=(500, 10), blocks=(50, 10), cparams=cparams)\n",
    "print(array2.info)"
   ],
   "outputs": [
    {
     "ename": "TypeError",
     "evalue": "asdict() should be called on dataclass instances",
     "output_type": "error",
     "traceback": [
      "\u001B[0;31m---------------------------------------------------------------------------\u001B[0m",
      "\u001B[0;31mTypeError\u001B[0m                                 Traceback (most recent call last)",
      "Cell \u001B[0;32mIn[39], line 8\u001B[0m\n\u001B[1;32m      1\u001B[0m cparams \u001B[38;5;241m=\u001B[39m blosc2\u001B[38;5;241m.\u001B[39mCParams(\n\u001B[1;32m      2\u001B[0m     codec\u001B[38;5;241m=\u001B[39mblosc2\u001B[38;5;241m.\u001B[39mCodec\u001B[38;5;241m.\u001B[39mZSTD,\n\u001B[1;32m      3\u001B[0m     clevel\u001B[38;5;241m=\u001B[39m\u001B[38;5;241m9\u001B[39m,\n\u001B[1;32m      4\u001B[0m     filters\u001B[38;5;241m=\u001B[39m[blosc2\u001B[38;5;241m.\u001B[39mFilter\u001B[38;5;241m.\u001B[39mBITSHUFFLE],\n\u001B[1;32m      5\u001B[0m     filters_meta\u001B[38;5;241m=\u001B[39m[\u001B[38;5;241m0\u001B[39m],\n\u001B[1;32m      6\u001B[0m )\n\u001B[0;32m----> 8\u001B[0m array2 \u001B[38;5;241m=\u001B[39m array1\u001B[38;5;241m.\u001B[39mcopy(chunks\u001B[38;5;241m=\u001B[39m(\u001B[38;5;241m500\u001B[39m, \u001B[38;5;241m10\u001B[39m), blocks\u001B[38;5;241m=\u001B[39m(\u001B[38;5;241m50\u001B[39m, \u001B[38;5;241m10\u001B[39m), cparams\u001B[38;5;241m=\u001B[39mcparams)\n\u001B[1;32m      9\u001B[0m \u001B[38;5;28mprint\u001B[39m(array2\u001B[38;5;241m.\u001B[39minfo)\n",
      "File \u001B[0;32m~/blosc/python-blosc2/src/blosc2/ndarray.py:1356\u001B[0m, in \u001B[0;36mNDArray.copy\u001B[0;34m(self, dtype, **kwargs)\u001B[0m\n\u001B[1;32m   1351\u001B[0m \u001B[38;5;28;01mif\u001B[39;00m dtype \u001B[38;5;129;01mis\u001B[39;00m \u001B[38;5;28;01mNone\u001B[39;00m:\n\u001B[1;32m   1352\u001B[0m     dtype \u001B[38;5;241m=\u001B[39m \u001B[38;5;28mself\u001B[39m\u001B[38;5;241m.\u001B[39mdtype\n\u001B[1;32m   1353\u001B[0m kwargs[\u001B[38;5;124m\"\u001B[39m\u001B[38;5;124mcparams\u001B[39m\u001B[38;5;124m\"\u001B[39m] \u001B[38;5;241m=\u001B[39m (\n\u001B[1;32m   1354\u001B[0m     kwargs\u001B[38;5;241m.\u001B[39mget(\u001B[38;5;124m\"\u001B[39m\u001B[38;5;124mcparams\u001B[39m\u001B[38;5;124m\"\u001B[39m)\u001B[38;5;241m.\u001B[39mcopy()\n\u001B[1;32m   1355\u001B[0m     \u001B[38;5;28;01mif\u001B[39;00m \u001B[38;5;28misinstance\u001B[39m(kwargs\u001B[38;5;241m.\u001B[39mget(\u001B[38;5;124m\"\u001B[39m\u001B[38;5;124mcparams\u001B[39m\u001B[38;5;124m\"\u001B[39m), \u001B[38;5;28mdict\u001B[39m)\n\u001B[0;32m-> 1356\u001B[0m     \u001B[38;5;28;01melse\u001B[39;00m asdict(\u001B[38;5;28mself\u001B[39m\u001B[38;5;241m.\u001B[39mschunk\u001B[38;5;241m.\u001B[39mcparams)\n\u001B[1;32m   1357\u001B[0m )\n\u001B[1;32m   1358\u001B[0m kwargs[\u001B[38;5;124m\"\u001B[39m\u001B[38;5;124mdparams\u001B[39m\u001B[38;5;124m\"\u001B[39m] \u001B[38;5;241m=\u001B[39m (\n\u001B[1;32m   1359\u001B[0m     kwargs\u001B[38;5;241m.\u001B[39mget(\u001B[38;5;124m\"\u001B[39m\u001B[38;5;124mdparams\u001B[39m\u001B[38;5;124m\"\u001B[39m)\u001B[38;5;241m.\u001B[39mcopy()\n\u001B[1;32m   1360\u001B[0m     \u001B[38;5;28;01mif\u001B[39;00m \u001B[38;5;28misinstance\u001B[39m(kwargs\u001B[38;5;241m.\u001B[39mget(\u001B[38;5;124m\"\u001B[39m\u001B[38;5;124mdparams\u001B[39m\u001B[38;5;124m\"\u001B[39m), \u001B[38;5;28mdict\u001B[39m)\n\u001B[1;32m   1361\u001B[0m     \u001B[38;5;28;01melse\u001B[39;00m asdict(\u001B[38;5;28mself\u001B[39m\u001B[38;5;241m.\u001B[39mschunk\u001B[38;5;241m.\u001B[39mdparams)\n\u001B[1;32m   1362\u001B[0m )\n\u001B[1;32m   1363\u001B[0m \u001B[38;5;28;01mif\u001B[39;00m \u001B[38;5;124m\"\u001B[39m\u001B[38;5;124mmeta\u001B[39m\u001B[38;5;124m\"\u001B[39m \u001B[38;5;129;01mnot\u001B[39;00m \u001B[38;5;129;01min\u001B[39;00m kwargs:\n\u001B[1;32m   1364\u001B[0m     \u001B[38;5;66;03m# Copy metalayers as well\u001B[39;00m\n",
      "File \u001B[0;32m~/opt/miniconda3/lib/python3.12/dataclasses.py:1319\u001B[0m, in \u001B[0;36masdict\u001B[0;34m(obj, dict_factory)\u001B[0m\n\u001B[1;32m   1300\u001B[0m \u001B[38;5;250m\u001B[39m\u001B[38;5;124;03m\"\"\"Return the fields of a dataclass instance as a new dictionary mapping\u001B[39;00m\n\u001B[1;32m   1301\u001B[0m \u001B[38;5;124;03mfield names to field values.\u001B[39;00m\n\u001B[1;32m   1302\u001B[0m \n\u001B[0;32m   (...)\u001B[0m\n\u001B[1;32m   1316\u001B[0m \u001B[38;5;124;03mtuples, lists, and dicts. Other objects are copied with 'copy.deepcopy()'.\u001B[39;00m\n\u001B[1;32m   1317\u001B[0m \u001B[38;5;124;03m\"\"\"\u001B[39;00m\n\u001B[1;32m   1318\u001B[0m \u001B[38;5;28;01mif\u001B[39;00m \u001B[38;5;129;01mnot\u001B[39;00m _is_dataclass_instance(obj):\n\u001B[0;32m-> 1319\u001B[0m     \u001B[38;5;28;01mraise\u001B[39;00m \u001B[38;5;167;01mTypeError\u001B[39;00m(\u001B[38;5;124m\"\u001B[39m\u001B[38;5;124masdict() should be called on dataclass instances\u001B[39m\u001B[38;5;124m\"\u001B[39m)\n\u001B[1;32m   1320\u001B[0m \u001B[38;5;28;01mreturn\u001B[39;00m _asdict_inner(obj, dict_factory)\n",
      "\u001B[0;31mTypeError\u001B[0m: asdict() should be called on dataclass instances"
     ]
    }
   ],
   "execution_count": 39
  },
  {
   "cell_type": "markdown",
   "metadata": {},
   "source": [
    "## Metalayers and variable length metalayers\n",
    "\n",
    "We have seen that you can pass to the NDArray constructor any compression or decompression parameters that you may pass to a SChunk. Indeed, you can also pass the metalayer dict. Metalayers are small metadata for informing about the properties of data that is stored on a container. As explained in [the SChunk basics](00.schunk-basics.html), there are two kinds. The first one (`meta`), cannot be deleted, must be added at construction time and can only be updated with values that have the same bytes size as the old value. They are easy to access and edit by users:"
   ]
  },
  {
   "cell_type": "code",
   "metadata": {
    "ExecuteTime": {
     "end_time": "2024-10-08T07:55:16.569975Z",
     "start_time": "2024-10-08T07:55:16.569707Z"
    }
   },
   "source": [
    "meta = {\"dtype\": \"i8\", \"coords\": [5.14, 23.0]}\n",
    "array = blosc2.zeros((1000, 1000), dtype=np.int16, chunks=(100, 100), blocks=(50, 50), meta=meta)"
   ],
   "outputs": [],
   "execution_count": null
  },
  {
   "cell_type": "markdown",
   "metadata": {},
   "source": [
    "You can work with them like if you were working with a dictionary. To access this dictionary you will use the SChunk attribute that an NDArray has."
   ]
  },
  {
   "cell_type": "code",
   "metadata": {},
   "source": [
    "array.schunk.meta"
   ],
   "outputs": [],
   "execution_count": null
  },
  {
   "cell_type": "code",
   "metadata": {
    "ExecuteTime": {
     "end_time": "2024-10-08T07:55:16.594249Z",
     "start_time": "2024-10-08T07:55:16.588761Z"
    }
   },
   "source": [
    "array.schunk.meta.keys()"
   ],
   "outputs": [
    {
     "data": {
      "text/plain": [
       "['b2nd']"
      ]
     },
     "execution_count": 23,
     "metadata": {},
     "output_type": "execute_result"
    }
   ],
   "execution_count": 23
  },
  {
   "cell_type": "markdown",
   "metadata": {},
   "source": [
    "As you can see, Blosc2 internally uses these metalayers to store shapes, ndim, dtype, etc, and retrieve this data when needed in the `b2nd` metalayer."
   ]
  },
  {
   "cell_type": "code",
   "metadata": {
    "ExecuteTime": {
     "end_time": "2024-10-08T07:55:16.642139Z",
     "start_time": "2024-10-08T07:55:16.634598Z"
    }
   },
   "source": [
    "array.schunk.meta[\"b2nd\"]"
   ],
   "outputs": [
    {
     "data": {
      "text/plain": [
       "[0, 2, [1000, 1000], [100, 100], [50, 50], 0, '|S4']"
      ]
     },
     "execution_count": 24,
     "metadata": {},
     "output_type": "execute_result"
    }
   ],
   "execution_count": 24
  },
  {
   "cell_type": "code",
   "metadata": {
    "ExecuteTime": {
     "end_time": "2024-10-08T07:55:16.844170Z",
     "start_time": "2024-10-08T07:55:16.694775Z"
    }
   },
   "source": [
    "array.schunk.meta[\"coords\"]"
   ],
   "outputs": [
    {
     "ename": "KeyError",
     "evalue": "'coords not found'",
     "output_type": "error",
     "traceback": [
      "\u001B[0;31m---------------------------------------------------------------------------\u001B[0m",
      "\u001B[0;31mKeyError\u001B[0m                                  Traceback (most recent call last)",
      "Cell \u001B[0;32mIn[25], line 1\u001B[0m\n\u001B[0;32m----> 1\u001B[0m array\u001B[38;5;241m.\u001B[39mschunk\u001B[38;5;241m.\u001B[39mmeta[\u001B[38;5;124m\"\u001B[39m\u001B[38;5;124mcoords\u001B[39m\u001B[38;5;124m\"\u001B[39m]\n",
      "File \u001B[0;32m~/blosc/python-blosc2/src/blosc2/schunk.py:122\u001B[0m, in \u001B[0;36mMeta.__getitem__\u001B[0;34m(self, item)\u001B[0m\n\u001B[1;32m    117\u001B[0m     \u001B[38;5;28;01mreturn\u001B[39;00m unpackb(\n\u001B[1;32m    118\u001B[0m         blosc2_ext\u001B[38;5;241m.\u001B[39mmeta__getitem__(\u001B[38;5;28mself\u001B[39m\u001B[38;5;241m.\u001B[39mschunk, item),\n\u001B[1;32m    119\u001B[0m         list_hook\u001B[38;5;241m=\u001B[39mblosc2_ext\u001B[38;5;241m.\u001B[39mdecode_tuple,\n\u001B[1;32m    120\u001B[0m     )\n\u001B[1;32m    121\u001B[0m \u001B[38;5;28;01melse\u001B[39;00m:\n\u001B[0;32m--> 122\u001B[0m     \u001B[38;5;28;01mraise\u001B[39;00m \u001B[38;5;167;01mKeyError\u001B[39;00m(\u001B[38;5;124mf\u001B[39m\u001B[38;5;124m\"\u001B[39m\u001B[38;5;132;01m{\u001B[39;00mitem\u001B[38;5;132;01m}\u001B[39;00m\u001B[38;5;124m not found\u001B[39m\u001B[38;5;124m\"\u001B[39m)\n",
      "\u001B[0;31mKeyError\u001B[0m: 'coords not found'"
     ]
    }
   ],
   "execution_count": 25
  },
  {
   "cell_type": "markdown",
   "metadata": {},
   "source": [
    "To add a metalayer after the creation or a variable length metalayer, you can use the `vlmeta` accessor from the SChunk. As well as the `meta`, it works similarly to a dictionary."
   ]
  },
  {
   "cell_type": "code",
   "metadata": {
    "ExecuteTime": {
     "end_time": "2024-10-08T07:55:16.848001Z",
     "start_time": "2024-10-08T07:55:16.847803Z"
    }
   },
   "source": [
    "print(array.schunk.vlmeta.getall())\n",
    "array.schunk.vlmeta[\"info1\"] = \"This is an example\"\n",
    "array.schunk.vlmeta[\"info2\"] = \"of user meta handling\"\n",
    "array.schunk.vlmeta.getall()"
   ],
   "outputs": [],
   "execution_count": null
  },
  {
   "cell_type": "markdown",
   "metadata": {},
   "source": [
    "You can update them with a value larger than the original one:"
   ]
  },
  {
   "cell_type": "code",
   "metadata": {},
   "source": [
    "array.schunk.vlmeta[\"info1\"] = \"This is a larger example\"\n",
    "array.schunk.vlmeta.getall()"
   ],
   "outputs": [],
   "execution_count": null
  },
  {
   "cell_type": "markdown",
   "metadata": {
    "collapsed": false
   },
   "source": [
    "## Creating a NDArray from a NumPy array\n",
    "\n",
    "Let's create a NDArray from a NumPy array using the `asarray` constructor:"
   ]
  },
  {
   "cell_type": "code",
   "metadata": {
    "collapsed": false
   },
   "source": [
    "shape = (100, 100, 100)\n",
    "dtype = np.float64\n",
    "nparray = np.linspace(0, 100, np.prod(shape), dtype=dtype).reshape(shape)\n",
    "b2ndarray = blosc2.asarray(nparray)\n",
    "print(b2ndarray.info)"
   ],
   "outputs": [],
   "execution_count": null
  },
  {
   "cell_type": "markdown",
   "metadata": {
    "collapsed": false
   },
   "source": [
    "## Building a NDArray from a buffer\n",
    "\n",
    "Furthermore, you can create a NDArray filled with data from a buffer:"
   ]
  },
  {
   "cell_type": "code",
   "metadata": {
    "collapsed": false
   },
   "source": [
    "rng = np.random.default_rng()\n",
    "buffer = bytes(rng.normal(size=np.prod(shape)) * 8)\n",
    "b2ndarray = blosc2.frombuffer(buffer, shape, dtype=dtype)\n",
    "print(\"Compression ratio:\", b2ndarray.schunk.cratio)\n",
    "b2ndarray[:5, :5, :5]"
   ],
   "outputs": [],
   "execution_count": null
  },
  {
   "cell_type": "markdown",
   "metadata": {},
   "source": [
    "That's all for now.  There are more examples in the [examples directory of the git repository](https://github.com/Blosc/python-blosc2/tree/main/examples/) for you to explore.  Enjoy!"
   ]
  }
 ],
 "metadata": {
  "kernelspec": {
   "display_name": "Python 3 (ipykernel)",
   "language": "python",
   "name": "python3"
  },
  "language_info": {
   "codemirror_mode": {
    "name": "ipython",
    "version": 3
   },
   "file_extension": ".py",
   "mimetype": "text/x-python",
   "name": "python",
   "nbconvert_exporter": "python",
   "pygments_lexer": "ipython3",
   "version": "3.9.7"
  }
 },
 "nbformat": 4,
 "nbformat_minor": 1
}
