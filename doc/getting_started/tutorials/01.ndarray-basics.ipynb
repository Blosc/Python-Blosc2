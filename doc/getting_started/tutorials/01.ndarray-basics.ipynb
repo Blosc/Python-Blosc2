{
 "cells": [
  {
   "cell_type": "markdown",
   "metadata": {},
   "source": [
    "# NDArray: A NDim, Compressed Data Container\n",
    "\n",
    "NDArray objects let users perform different operations with NDArray arrays like setting, copying or slicing them. In this section, we are going to see how to create and manipulate a NDArray array in a simple way.\n"
   ]
  },
  {
   "cell_type": "code",
   "metadata": {
    "ExecuteTime": {
     "end_time": "2024-11-29T13:21:33.702594Z",
     "start_time": "2024-11-29T13:21:33.472471Z"
    }
   },
   "source": [
    "import numpy as np\n",
    "\n",
    "import blosc2"
   ],
   "outputs": [],
   "execution_count": 1
  },
  {
   "cell_type": "markdown",
   "metadata": {},
   "source": [
    "## Creating an array\n",
    "Let's start creating an 2-D array with 100M elements filled with arange.\n"
   ]
  },
  {
   "cell_type": "code",
   "metadata": {
    "ExecuteTime": {
     "end_time": "2024-11-29T13:21:34.704642Z",
     "start_time": "2024-11-29T13:21:33.708436Z"
    }
   },
   "source": [
    "array = blosc2.arange(10_000 * 10_000, shape=(10_000, 10_000))\n",
    "print(array.info)"
   ],
   "outputs": [
    {
     "name": "stdout",
     "output_type": "stream",
     "text": [
      "type    : NDArray\n",
      "shape   : (10000, 10000)\n",
      "chunks  : (40, 10000)\n",
      "blocks  : (1, 10000)\n",
      "dtype   : int64\n",
      "cratio  : 173.20\n",
      "cparams : CParams(codec=<Codec.ZSTD: 5>, codec_meta=0, clevel=1, use_dict=False, typesize=8,\n",
      "        : nthreads=7, blocksize=80000, splitmode=<SplitMode.AUTO_SPLIT: 3>,\n",
      "        : filters=[<Filter.NOFILTER: 0>, <Filter.NOFILTER: 0>, <Filter.NOFILTER: 0>,\n",
      "        : <Filter.NOFILTER: 0>, <Filter.NOFILTER: 0>, <Filter.SHUFFLE: 1>], filters_meta=[0, 0,\n",
      "        : 0, 0, 0, 0], tuner=<Tuner.STUNE: 0>)\n",
      "dparams : DParams(nthreads=7)\n",
      "\n"
     ]
    }
   ],
   "execution_count": 2
  },
  {
   "cell_type": "markdown",
   "metadata": {},
   "source": [
    "Note that all the compression and decompression parameters, as well as the chunks and blocks shapes are set to the default.\n",
    "\n",
    "## Reading and modifying data\n",
    "We can read and modify NDArray arrays using NumPy array as data source."
   ]
  },
  {
   "cell_type": "code",
   "metadata": {
    "ExecuteTime": {
     "end_time": "2024-11-29T13:21:34.801560Z",
     "start_time": "2024-11-29T13:21:34.798030Z"
    }
   },
   "source": [
    "array[0]"
   ],
   "outputs": [
    {
     "data": {
      "text/plain": [
       "array([   0,    1,    2, ..., 9997, 9998, 9999])"
      ]
     },
     "execution_count": 3,
     "metadata": {},
     "output_type": "execute_result"
    }
   ],
   "execution_count": 3
  },
  {
   "cell_type": "code",
   "metadata": {
    "ExecuteTime": {
     "end_time": "2024-11-29T13:21:34.886568Z",
     "start_time": "2024-11-29T13:21:34.805606Z"
    }
   },
   "source": [
    "array[0, :] = blosc2.zeros(10000, dtype=array.dtype)\n",
    "array[:, 0] = blosc2.ones(10000, dtype=array.dtype)"
   ],
   "outputs": [],
   "execution_count": 4
  },
  {
   "cell_type": "code",
   "metadata": {
    "ExecuteTime": {
     "end_time": "2024-11-29T13:21:34.893628Z",
     "start_time": "2024-11-29T13:21:34.890666Z"
    }
   },
   "source": [
    "array[0, 0]"
   ],
   "outputs": [
    {
     "data": {
      "text/plain": [
       "array(1)"
      ]
     },
     "execution_count": 5,
     "metadata": {},
     "output_type": "execute_result"
    }
   ],
   "execution_count": 5
  },
  {
   "cell_type": "code",
   "metadata": {
    "ExecuteTime": {
     "end_time": "2024-11-29T13:21:34.905537Z",
     "start_time": "2024-11-29T13:21:34.902555Z"
    }
   },
   "source": [
    "array[0, :]"
   ],
   "outputs": [
    {
     "data": {
      "text/plain": [
       "array([1, 0, 0, ..., 0, 0, 0])"
      ]
     },
     "execution_count": 6,
     "metadata": {},
     "output_type": "execute_result"
    }
   ],
   "execution_count": 6
  },
  {
   "cell_type": "code",
   "metadata": {
    "ExecuteTime": {
     "end_time": "2024-11-29T13:21:34.960932Z",
     "start_time": "2024-11-29T13:21:34.919483Z"
    }
   },
   "source": [
    "array[:, 0]"
   ],
   "outputs": [
    {
     "data": {
      "text/plain": [
       "array([1, 1, 1, ..., 1, 1, 1])"
      ]
     },
     "execution_count": 7,
     "metadata": {},
     "output_type": "execute_result"
    }
   ],
   "execution_count": 7
  },
  {
   "cell_type": "markdown",
   "metadata": {},
   "source": [
    "## Enlarging the array\n",
    "Existing arrays can be enlarged."
   ]
  },
  {
   "cell_type": "code",
   "metadata": {
    "ExecuteTime": {
     "end_time": "2024-11-29T13:21:34.969365Z",
     "start_time": "2024-11-29T13:21:34.965186Z"
    }
   },
   "source": [
    "array.resize((10_001, 10_000))\n",
    "print(array.shape)\n",
    "array[10_000, :] = 1\n",
    "array[10_000, :]"
   ],
   "outputs": [
    {
     "name": "stdout",
     "output_type": "stream",
     "text": [
      "(10001, 10000)\n"
     ]
    },
    {
     "data": {
      "text/plain": [
       "array([1, 1, 1, ..., 1, 1, 1])"
      ]
     },
     "execution_count": 8,
     "metadata": {},
     "output_type": "execute_result"
    }
   ],
   "execution_count": 8
  },
  {
   "cell_type": "markdown",
   "metadata": {},
   "source": [
    "Enlarging is a fast operation because data is chunked, and we just have to add more chunks into the array, so no need to copy all the data to a new location (as in the case of a NumPy array, which requires a full copy of the data).\n",
    "\n",
    "You can also shrink the array."
   ]
  },
  {
   "cell_type": "code",
   "metadata": {
    "ExecuteTime": {
     "end_time": "2024-11-29T13:21:35.131223Z",
     "start_time": "2024-11-29T13:21:34.984024Z"
    }
   },
   "source": [
    "array.resize((9_000, 10_000))\n",
    "print(array.shape)\n",
    "print(array[8_999])  # This works\n",
    "array[9_000]  # This will raise an exception"
   ],
   "outputs": [
    {
     "name": "stdout",
     "output_type": "stream",
     "text": [
      "(9000, 10000)\n",
      "[       1 89990001 89990002 ... 89999997 89999998 89999999]\n"
     ]
    },
    {
     "ename": "IndexError",
     "evalue": "index 9000 is out of bounds for axis 0 with size 9000",
     "output_type": "error",
     "traceback": [
      "\u001B[0;31m---------------------------------------------------------------------------\u001B[0m",
      "\u001B[0;31mIndexError\u001B[0m                                Traceback (most recent call last)",
      "Cell \u001B[0;32mIn[9], line 4\u001B[0m\n\u001B[1;32m      2\u001B[0m \u001B[38;5;28mprint\u001B[39m(array\u001B[38;5;241m.\u001B[39mshape)\n\u001B[1;32m      3\u001B[0m \u001B[38;5;28mprint\u001B[39m(array[\u001B[38;5;241m8_999\u001B[39m])  \u001B[38;5;66;03m# This works\u001B[39;00m\n\u001B[0;32m----> 4\u001B[0m \u001B[43marray\u001B[49m\u001B[43m[\u001B[49m\u001B[38;5;241;43m9_000\u001B[39;49m\u001B[43m]\u001B[49m  \u001B[38;5;66;03m# This will raise an exception\u001B[39;00m\n",
      "File \u001B[0;32m~/blosc/python-blosc2/src/blosc2/ndarray.py:1411\u001B[0m, in \u001B[0;36mNDArray.__getitem__\u001B[0;34m(self, key)\u001B[0m\n\u001B[1;32m   1409\u001B[0m     expr \u001B[38;5;241m=\u001B[39m blosc2\u001B[38;5;241m.\u001B[39mLazyExpr\u001B[38;5;241m.\u001B[39m_new_expr(key, \u001B[38;5;28mself\u001B[39m\u001B[38;5;241m.\u001B[39mfields, guess\u001B[38;5;241m=\u001B[39m\u001B[38;5;28;01mFalse\u001B[39;00m)\n\u001B[1;32m   1410\u001B[0m     \u001B[38;5;28;01mreturn\u001B[39;00m expr\u001B[38;5;241m.\u001B[39mwhere(\u001B[38;5;28mself\u001B[39m)\n\u001B[0;32m-> 1411\u001B[0m key_, mask \u001B[38;5;241m=\u001B[39m \u001B[43mprocess_key\u001B[49m\u001B[43m(\u001B[49m\u001B[43mkey\u001B[49m\u001B[43m,\u001B[49m\u001B[43m \u001B[49m\u001B[38;5;28;43mself\u001B[39;49m\u001B[38;5;241;43m.\u001B[39;49m\u001B[43mshape\u001B[49m\u001B[43m)\u001B[49m\n\u001B[1;32m   1412\u001B[0m start, stop, step \u001B[38;5;241m=\u001B[39m get_ndarray_start_stop(\u001B[38;5;28mself\u001B[39m\u001B[38;5;241m.\u001B[39mndim, key_, \u001B[38;5;28mself\u001B[39m\u001B[38;5;241m.\u001B[39mshape)\n\u001B[1;32m   1413\u001B[0m shape \u001B[38;5;241m=\u001B[39m np\u001B[38;5;241m.\u001B[39marray([sp \u001B[38;5;241m-\u001B[39m st \u001B[38;5;28;01mfor\u001B[39;00m st, sp \u001B[38;5;129;01min\u001B[39;00m \u001B[38;5;28mzip\u001B[39m(start, stop, strict\u001B[38;5;241m=\u001B[39m\u001B[38;5;28;01mTrue\u001B[39;00m)])\n",
      "File \u001B[0;32m~/blosc/python-blosc2/src/blosc2/ndarray.py:68\u001B[0m, in \u001B[0;36mprocess_key\u001B[0;34m(key, shape)\u001B[0m\n\u001B[1;32m     66\u001B[0m \u001B[38;5;28;01mif\u001B[39;00m key \u001B[38;5;129;01mis\u001B[39;00m \u001B[38;5;28;01mNone\u001B[39;00m:\n\u001B[1;32m     67\u001B[0m     key \u001B[38;5;241m=\u001B[39m \u001B[38;5;28mtuple\u001B[39m(\u001B[38;5;28mslice\u001B[39m(\u001B[38;5;28;01mNone\u001B[39;00m) \u001B[38;5;28;01mfor\u001B[39;00m _ \u001B[38;5;129;01min\u001B[39;00m \u001B[38;5;28mrange\u001B[39m(\u001B[38;5;28mlen\u001B[39m(shape)))\n\u001B[0;32m---> 68\u001B[0m key \u001B[38;5;241m=\u001B[39m \u001B[43mndindex\u001B[49m\u001B[38;5;241;43m.\u001B[39;49m\u001B[43mndindex\u001B[49m\u001B[43m(\u001B[49m\u001B[43mkey\u001B[49m\u001B[43m)\u001B[49m\u001B[38;5;241;43m.\u001B[39;49m\u001B[43mexpand\u001B[49m\u001B[43m(\u001B[49m\u001B[43mshape\u001B[49m\u001B[43m)\u001B[49m\u001B[38;5;241m.\u001B[39mraw\n\u001B[1;32m     69\u001B[0m mask \u001B[38;5;241m=\u001B[39m \u001B[38;5;28mtuple\u001B[39m(\u001B[38;5;28misinstance\u001B[39m(k, \u001B[38;5;28mint\u001B[39m) \u001B[38;5;28;01mfor\u001B[39;00m k \u001B[38;5;129;01min\u001B[39;00m key)\n\u001B[1;32m     70\u001B[0m key \u001B[38;5;241m=\u001B[39m \u001B[38;5;28mtuple\u001B[39m(k \u001B[38;5;28;01mif\u001B[39;00m \u001B[38;5;28misinstance\u001B[39m(k, \u001B[38;5;28mslice\u001B[39m) \u001B[38;5;28;01melse\u001B[39;00m \u001B[38;5;28mslice\u001B[39m(k, k \u001B[38;5;241m+\u001B[39m \u001B[38;5;241m1\u001B[39m, \u001B[38;5;28;01mNone\u001B[39;00m) \u001B[38;5;28;01mfor\u001B[39;00m k \u001B[38;5;129;01min\u001B[39;00m key)\n",
      "File \u001B[0;32m~/miniconda3-arm64/envs/python-blosc2/lib/python3.11/site-packages/ndindex/ndindex.py:371\u001B[0m, in \u001B[0;36mNDIndexCommon.expand\u001B[0;34m(self, shape)\u001B[0m\n\u001B[1;32m    300\u001B[0m \u001B[38;5;250m\u001B[39m\u001B[38;5;124mr\u001B[39m\u001B[38;5;124;03m\"\"\"\u001B[39;00m\n\u001B[1;32m    301\u001B[0m \u001B[38;5;124;03mExpand a Tuple index on an array of shape `shape`\u001B[39;00m\n\u001B[1;32m    302\u001B[0m \n\u001B[0;32m   (...)\u001B[0m\n\u001B[1;32m    367\u001B[0m \n\u001B[1;32m    368\u001B[0m \u001B[38;5;124;03m\"\"\"\u001B[39;00m\n\u001B[1;32m    369\u001B[0m \u001B[38;5;28;01mfrom\u001B[39;00m \u001B[38;5;21;01m.\u001B[39;00m\u001B[38;5;21;01mtuple\u001B[39;00m \u001B[38;5;28;01mimport\u001B[39;00m Tuple\n\u001B[0;32m--> 371\u001B[0m \u001B[38;5;28;01mreturn\u001B[39;00m \u001B[43mTuple\u001B[49m\u001B[43m(\u001B[49m\u001B[38;5;28;43mself\u001B[39;49m\u001B[43m)\u001B[49m\u001B[38;5;241;43m.\u001B[39;49m\u001B[43mexpand\u001B[49m\u001B[43m(\u001B[49m\u001B[43mshape\u001B[49m\u001B[43m)\u001B[49m\n",
      "File \u001B[0;32m~/miniconda3-arm64/envs/python-blosc2/lib/python3.11/site-packages/ndindex/tuple.py:390\u001B[0m, in \u001B[0;36mTuple.expand\u001B[0;34m(self, shape)\u001B[0m\n\u001B[1;32m    388\u001B[0m args \u001B[38;5;241m=\u001B[39m \u001B[38;5;28mlist\u001B[39m(\u001B[38;5;28mself\u001B[39m\u001B[38;5;241m.\u001B[39margs)\n\u001B[1;32m    389\u001B[0m \u001B[38;5;28;01mif\u001B[39;00m \u001B[38;5;241m.\u001B[39m\u001B[38;5;241m.\u001B[39m\u001B[38;5;241m.\u001B[39m \u001B[38;5;129;01mnot\u001B[39;00m \u001B[38;5;129;01min\u001B[39;00m args:\n\u001B[0;32m--> 390\u001B[0m     \u001B[38;5;28;01mreturn\u001B[39;00m \u001B[38;5;28;43mtype\u001B[39;49m\u001B[43m(\u001B[49m\u001B[38;5;28;43mself\u001B[39;49m\u001B[43m)\u001B[49m\u001B[43m(\u001B[49m\u001B[38;5;241;43m*\u001B[39;49m\u001B[43margs\u001B[49m\u001B[43m,\u001B[49m\u001B[43m \u001B[49m\u001B[38;5;241;43m.\u001B[39;49m\u001B[38;5;241;43m.\u001B[39;49m\u001B[38;5;241;43m.\u001B[39;49m\u001B[43m)\u001B[49m\u001B[38;5;241;43m.\u001B[39;49m\u001B[43mexpand\u001B[49m\u001B[43m(\u001B[49m\u001B[43mshape\u001B[49m\u001B[43m)\u001B[49m\n\u001B[1;32m    392\u001B[0m \u001B[38;5;66;03m# TODO: Use broadcast_arrays here. The challenge is that we still need\u001B[39;00m\n\u001B[1;32m    393\u001B[0m \u001B[38;5;66;03m# to do bounds checks on nonscalar integer arrays that get broadcast\u001B[39;00m\n\u001B[1;32m    394\u001B[0m \u001B[38;5;66;03m# away.\u001B[39;00m\n\u001B[1;32m    395\u001B[0m boolean_scalars \u001B[38;5;241m=\u001B[39m [i \u001B[38;5;28;01mfor\u001B[39;00m i \u001B[38;5;129;01min\u001B[39;00m args \u001B[38;5;28;01mif\u001B[39;00m _is_boolean_scalar(i)]\n",
      "File \u001B[0;32m~/miniconda3-arm64/envs/python-blosc2/lib/python3.11/site-packages/ndindex/tuple.py:462\u001B[0m, in \u001B[0;36mTuple.expand\u001B[0;34m(self, shape)\u001B[0m\n\u001B[1;32m    459\u001B[0m axis \u001B[38;5;241m=\u001B[39m i \u001B[38;5;241m+\u001B[39m begin_offset\n\u001B[1;32m    460\u001B[0m \u001B[38;5;28;01mif\u001B[39;00m \u001B[38;5;129;01mnot\u001B[39;00m (\u001B[38;5;28misinstance\u001B[39m(s, IntegerArray) \u001B[38;5;129;01mand\u001B[39;00m (\u001B[38;5;241m0\u001B[39m \u001B[38;5;129;01min\u001B[39;00m broadcast_shape \u001B[38;5;129;01mor\u001B[39;00m\n\u001B[1;32m    461\u001B[0m                                          \u001B[38;5;28;01mFalse\u001B[39;00m \u001B[38;5;129;01min\u001B[39;00m args)):\n\u001B[0;32m--> 462\u001B[0m     s \u001B[38;5;241m=\u001B[39m \u001B[43ms\u001B[49m\u001B[38;5;241;43m.\u001B[39;49m\u001B[43mreduce\u001B[49m\u001B[43m(\u001B[49m\u001B[43mshape\u001B[49m\u001B[43m,\u001B[49m\u001B[43m \u001B[49m\u001B[43maxis\u001B[49m\u001B[38;5;241;43m=\u001B[39;49m\u001B[43maxis\u001B[49m\u001B[43m)\u001B[49m\n\u001B[1;32m    463\u001B[0m \u001B[38;5;28;01mif\u001B[39;00m \u001B[38;5;28misinstance\u001B[39m(s, ArrayIndex):\n\u001B[1;32m    464\u001B[0m     \u001B[38;5;28;01mif\u001B[39;00m \u001B[38;5;28misinstance\u001B[39m(s, BooleanArray):\n",
      "File \u001B[0;32m~/miniconda3-arm64/envs/python-blosc2/lib/python3.11/site-packages/ndindex/integer.py:110\u001B[0m, in \u001B[0;36mInteger.reduce\u001B[0;34m(self, shape, axis, negative_int, axiserror)\u001B[0m\n\u001B[1;32m    106\u001B[0m         \u001B[38;5;28;01mraise\u001B[39;00m AxisError(\u001B[38;5;28mself\u001B[39m\u001B[38;5;241m.\u001B[39mraw, shape)\n\u001B[1;32m    108\u001B[0m shape \u001B[38;5;241m=\u001B[39m asshape(shape, axis\u001B[38;5;241m=\u001B[39maxis)\n\u001B[0;32m--> 110\u001B[0m \u001B[38;5;28;43mself\u001B[39;49m\u001B[38;5;241;43m.\u001B[39;49m\u001B[43m_raise_indexerror\u001B[49m\u001B[43m(\u001B[49m\u001B[43mshape\u001B[49m\u001B[43m,\u001B[49m\u001B[43m \u001B[49m\u001B[43maxis\u001B[49m\u001B[43m)\u001B[49m\n\u001B[1;32m    112\u001B[0m \u001B[38;5;28;01mif\u001B[39;00m \u001B[38;5;28mself\u001B[39m\u001B[38;5;241m.\u001B[39mraw \u001B[38;5;241m<\u001B[39m \u001B[38;5;241m0\u001B[39m \u001B[38;5;129;01mand\u001B[39;00m \u001B[38;5;129;01mnot\u001B[39;00m negative_int:\n\u001B[1;32m    113\u001B[0m     size \u001B[38;5;241m=\u001B[39m shape[axis]\n",
      "File \u001B[0;32m~/miniconda3-arm64/envs/python-blosc2/lib/python3.11/site-packages/ndindex/integer.py:66\u001B[0m, in \u001B[0;36mInteger._raise_indexerror\u001B[0;34m(self, shape, axis)\u001B[0m\n\u001B[1;32m     64\u001B[0m \u001B[38;5;28;01mif\u001B[39;00m \u001B[38;5;129;01mnot\u001B[39;00m \u001B[38;5;28mself\u001B[39m\u001B[38;5;241m.\u001B[39misvalid(shape, axis):\n\u001B[1;32m     65\u001B[0m     size \u001B[38;5;241m=\u001B[39m shape[axis]\n\u001B[0;32m---> 66\u001B[0m     \u001B[38;5;28;01mraise\u001B[39;00m \u001B[38;5;167;01mIndexError\u001B[39;00m(\u001B[38;5;124mf\u001B[39m\u001B[38;5;124m\"\u001B[39m\u001B[38;5;124mindex \u001B[39m\u001B[38;5;132;01m{\u001B[39;00m\u001B[38;5;28mself\u001B[39m\u001B[38;5;241m.\u001B[39mraw\u001B[38;5;132;01m}\u001B[39;00m\u001B[38;5;124m is out of bounds for axis \u001B[39m\u001B[38;5;132;01m{\u001B[39;00maxis\u001B[38;5;132;01m}\u001B[39;00m\u001B[38;5;124m with size \u001B[39m\u001B[38;5;132;01m{\u001B[39;00msize\u001B[38;5;132;01m}\u001B[39;00m\u001B[38;5;124m\"\u001B[39m)\n",
      "\u001B[0;31mIndexError\u001B[0m: index 9000 is out of bounds for axis 0 with size 9000"
     ]
    }
   ],
   "execution_count": 9
  },
  {
   "cell_type": "markdown",
   "metadata": {},
   "source": [
    "## Persistent data\n",
    "We can use the `save()` method to store the array on disk.  This is very useful when you have a large array that you want to keep around but do not need to access all the time.\n"
   ]
  },
  {
   "cell_type": "code",
   "execution_count": 17,
   "metadata": {
    "ExecuteTime": {
     "end_time": "2024-11-29T13:21:35.138898Z",
     "start_time": "2024-11-29T12:58:13.161331Z"
    }
   },
   "outputs": [
    {
     "name": "stdout",
     "output_type": "stream",
     "text": [
      "Detected ARM ...\r\n",
      "-rw-r--r--@ 1 francesc  staff   4.2M Nov 29 13:58 array_tutorial.b2nd\r\n"
     ]
    }
   ],
   "source": [
    "array.save(\"array_tutorial.b2nd\", mode=\"w\")  # , contiguous=True)\n",
    "!ls -lh array_tutorial.b2nd"
   ]
  },
  {
   "cell_type": "markdown",
   "metadata": {},
   "source": [
    "\n",
    "For arrays, it is usual to use the `.b2nd` extension."
   ]
  },
  {
   "cell_type": "markdown",
   "metadata": {},
   "source": "Also, when we create a NDArray array, we can specify where it will be stored, and no memory will be used at all. Indeed, we can specify all the compression/decompression and other storage parameters."
  },
  {
   "cell_type": "code",
   "execution_count": 15,
   "metadata": {
    "ExecuteTime": {
     "end_time": "2024-11-29T13:21:35.139273Z",
     "start_time": "2024-11-29T12:57:23.007216Z"
    }
   },
   "outputs": [
    {
     "name": "stdout",
     "output_type": "stream",
     "text": [
      "Detected ARM ...\r\n",
      "-rw-r--r--@ 1 francesc  staff   3.9K Nov 29 13:57 array1_tutorial.b2nd\r\n"
     ]
    }
   ],
   "source": [
    "array1 = blosc2.full(\n",
    "    (1000, 1000),\n",
    "    fill_value=b\"pepe\",\n",
    "    chunks=(100, 100),\n",
    "    blocks=(50, 50),\n",
    "    urlpath=\"array1_tutorial.b2nd\",\n",
    "    mode=\"w\",\n",
    ")\n",
    "!ls -lh array1_tutorial.b2nd"
   ]
  },
  {
   "cell_type": "markdown",
   "metadata": {},
   "source": "This time we have set the chunks and blocks shapes."
  },
  {
   "cell_type": "markdown",
   "metadata": {},
   "source": "Now, let's reopen our original array."
  },
  {
   "cell_type": "code",
   "execution_count": 18,
   "metadata": {
    "ExecuteTime": {
     "end_time": "2024-11-29T13:21:35.145662Z",
     "start_time": "2024-11-29T12:58:23.326768Z"
    }
   },
   "outputs": [
    {
     "name": "stdout",
     "output_type": "stream",
     "text": [
      "type    : NDArray\n",
      "shape   : (9000, 10000)\n",
      "chunks  : (40, 10000)\n",
      "blocks  : (1, 10000)\n",
      "dtype   : int64\n",
      "cratio  : 162.65\n",
      "cparams : CParams(codec=<Codec.ZSTD: 5>, codec_meta=0, clevel=1, use_dict=False, typesize=8,\n",
      "        : nthreads=1, blocksize=80000, splitmode=<SplitMode.AUTO_SPLIT: 3>,\n",
      "        : filters=[<Filter.NOFILTER: 0>, <Filter.NOFILTER: 0>, <Filter.NOFILTER: 0>,\n",
      "        : <Filter.NOFILTER: 0>, <Filter.NOFILTER: 0>, <Filter.SHUFFLE: 1>], filters_meta=[0, 0,\n",
      "        : 0, 0, 0, 0], tuner=<Tuner.STUNE: 0>)\n",
      "dparams : DParams(nthreads=1)\n",
      "\n"
     ]
    }
   ],
   "source": [
    "array2 = blosc2.open(\"array_tutorial.b2nd\")\n",
    "print(array2.info)"
   ]
  },
  {
   "cell_type": "markdown",
   "metadata": {},
   "source": "And make sure that they are the same."
  },
  {
   "cell_type": "code",
   "execution_count": 19,
   "metadata": {
    "ExecuteTime": {
     "end_time": "2024-11-29T13:21:35.147458Z",
     "start_time": "2024-11-29T13:00:19.313163Z"
    }
   },
   "outputs": [
    {
     "data": {
      "text/plain": [
       "np.True_"
      ]
     },
     "execution_count": 19,
     "metadata": {},
     "output_type": "execute_result"
    }
   ],
   "source": [
    "np.all(array2[:] == array[:])"
   ]
  },
  {
   "cell_type": "markdown",
   "metadata": {},
   "source": [
    "## Compression params\n",
    "Let's see how to make a copy of a NDArray array, while changing its compression parameters in an easy way."
   ]
  },
  {
   "cell_type": "code",
   "execution_count": 21,
   "metadata": {
    "ExecuteTime": {
     "end_time": "2024-11-29T13:21:35.148120Z",
     "start_time": "2024-11-29T13:10:25.737685Z"
    }
   },
   "outputs": [
    {
     "name": "stdout",
     "output_type": "stream",
     "text": [
      "type    : NDArray\n",
      "shape   : (9000, 10000)\n",
      "chunks  : (500, 10000)\n",
      "blocks  : (50, 10000)\n",
      "dtype   : int64\n",
      "cratio  : 760.55\n",
      "cparams : CParams(codec=<Codec.ZSTD: 5>, codec_meta=0, clevel=1, use_dict=False, typesize=8,\n",
      "        : nthreads=7, blocksize=4000000, splitmode=<SplitMode.AUTO_SPLIT: 3>,\n",
      "        : filters=[<Filter.NOFILTER: 0>, <Filter.NOFILTER: 0>, <Filter.NOFILTER: 0>,\n",
      "        : <Filter.NOFILTER: 0>, <Filter.NOFILTER: 0>, <Filter.SHUFFLE: 1>], filters_meta=[0, 0,\n",
      "        : 0, 0, 0, 0], tuner=<Tuner.STUNE: 0>)\n",
      "dparams : DParams(nthreads=7)\n",
      "\n"
     ]
    }
   ],
   "source": [
    "cparams = blosc2.CParams(\n",
    "    codec=blosc2.Codec.LZ4,\n",
    "    clevel=9,\n",
    "    filters=[blosc2.Filter.BITSHUFFLE],\n",
    "    filters_meta=[0],\n",
    ")\n",
    "\n",
    "array2 = array.copy(chunks=(500, 10_000), blocks=(50, 10_000), cparams=cparams)\n",
    "print(array2.info)"
   ]
  },
  {
   "cell_type": "markdown",
   "metadata": {},
   "source": [
    "## Metalayers and variable length metalayers\n",
    "\n",
    "We have seen that you can pass to the NDArray constructor any compression or decompression parameters that you want, and now, we will add metalayers to these. Metalayers are small metadata for informing about the properties of data that is stored on a container. As explained in [the SChunk tutorial](07.schunk-basics.html), there are two kinds of metalayers. The first one (`meta`), is the system one, and must be added at construction time; it cannot be deleted and can only be updated with values that have the same bytes size as the old value. They are easy to access and edit by users:"
   ]
  },
  {
   "cell_type": "code",
   "execution_count": 11,
   "metadata": {
    "ExecuteTime": {
     "end_time": "2024-11-29T13:21:35.148681Z",
     "start_time": "2024-11-28T03:50:16.430971Z"
    }
   },
   "outputs": [],
   "source": [
    "meta = {\"dtype\": \"i8\", \"coords\": [5.14, 23.0]}\n",
    "array = blosc2.zeros((1000, 1000), dtype=np.int16, chunks=(100, 100), blocks=(50, 50), meta=meta)"
   ]
  },
  {
   "cell_type": "markdown",
   "metadata": {},
   "source": "You can work with them like if you were working with a dictionary. To access this dictionary you will use the `schunk` attribute that an NDArray has."
  },
  {
   "cell_type": "code",
   "execution_count": 12,
   "metadata": {
    "ExecuteTime": {
     "end_time": "2024-11-29T13:21:35.149255Z",
     "start_time": "2024-11-28T03:50:16.486995Z"
    }
   },
   "outputs": [
    {
     "data": {
      "text/plain": [
       "<blosc2.schunk.Meta at 0x106fa7c10>"
      ]
     },
     "execution_count": 12,
     "metadata": {},
     "output_type": "execute_result"
    }
   ],
   "source": "array.meta"
  },
  {
   "cell_type": "code",
   "execution_count": 13,
   "metadata": {
    "ExecuteTime": {
     "end_time": "2024-11-29T13:21:35.149847Z",
     "start_time": "2024-11-28T03:50:16.495198Z"
    }
   },
   "outputs": [
    {
     "data": {
      "text/plain": [
       "['b2nd', 'dtype', 'coords']"
      ]
     },
     "execution_count": 13,
     "metadata": {},
     "output_type": "execute_result"
    }
   ],
   "source": "array.meta.keys()"
  },
  {
   "cell_type": "markdown",
   "metadata": {},
   "source": "As you can see, Blosc2 internally uses such metalayers to store shapes, ndim, dtype, etc, and retrieve this data when needed.  For example, the `b2nd` metalayer has this info."
  },
  {
   "cell_type": "code",
   "execution_count": 14,
   "metadata": {
    "ExecuteTime": {
     "end_time": "2024-11-29T13:21:35.150406Z",
     "start_time": "2024-11-28T03:50:16.523855Z"
    }
   },
   "outputs": [
    {
     "data": {
      "text/plain": [
       "[0, 2, [1000, 1000], [100, 100], [50, 50], 0, '<i2']"
      ]
     },
     "execution_count": 14,
     "metadata": {},
     "output_type": "execute_result"
    }
   ],
   "source": "array.meta[\"b2nd\"]"
  },
  {
   "cell_type": "markdown",
   "metadata": {},
   "source": "And we can look at the our own user meta:"
  },
  {
   "cell_type": "code",
   "execution_count": 15,
   "metadata": {
    "ExecuteTime": {
     "end_time": "2024-11-29T13:21:35.151218Z",
     "start_time": "2024-11-28T03:50:16.551074Z"
    }
   },
   "outputs": [
    {
     "data": {
      "text/plain": [
       "[5.14, 23.0]"
      ]
     },
     "execution_count": 15,
     "metadata": {},
     "output_type": "execute_result"
    }
   ],
   "source": "array.meta[\"coords\"]"
  },
  {
   "cell_type": "markdown",
   "metadata": {},
   "source": "To add a metalayer after the creation or a variable length metalayer, you can use the `vlmeta` accessor from the SChunk. Similarly to `meta`, it works as a dictionary."
  },
  {
   "cell_type": "code",
   "execution_count": 16,
   "metadata": {
    "ExecuteTime": {
     "end_time": "2024-11-29T13:21:35.152068Z",
     "start_time": "2024-11-28T03:50:16.577896Z"
    }
   },
   "outputs": [
    {
     "name": "stdout",
     "output_type": "stream",
     "text": [
      "{}\n"
     ]
    },
    {
     "data": {
      "text/plain": [
       "{b'info1': 'This is an example', b'info2': 'of user meta handling'}"
      ]
     },
     "execution_count": 16,
     "metadata": {},
     "output_type": "execute_result"
    }
   ],
   "source": [
    "print(array.vlmeta.getall())\n",
    "array.vlmeta[\"info1\"] = \"This is an example\"\n",
    "array.vlmeta[\"info2\"] = \"of user meta handling\"\n",
    "array.vlmeta.getall()"
   ]
  },
  {
   "cell_type": "markdown",
   "metadata": {},
   "source": [
    "You can update them with a value larger than the original one:"
   ]
  },
  {
   "cell_type": "code",
   "execution_count": 17,
   "metadata": {
    "ExecuteTime": {
     "end_time": "2024-11-29T13:21:35.152934Z",
     "start_time": "2024-11-28T03:50:16.605487Z"
    }
   },
   "outputs": [
    {
     "data": {
      "text/plain": [
       "{b'info1': 'This is a larger example', b'info2': 'of user meta handling'}"
      ]
     },
     "execution_count": 17,
     "metadata": {},
     "output_type": "execute_result"
    }
   ],
   "source": [
    "array.vlmeta[\"info1\"] = \"This is a larger example\"\n",
    "array.vlmeta.getall()"
   ]
  },
  {
   "cell_type": "markdown",
   "metadata": {},
   "source": "You can store any kind of data in the `vlmeta` metalayer, as long as it is serializable with msgpack.  This is a very flexible way to store metadata in a Blosc2 container."
  },
  {
   "cell_type": "code",
   "execution_count": 18,
   "metadata": {
    "ExecuteTime": {
     "end_time": "2024-11-29T13:21:35.153883Z",
     "start_time": "2024-11-28T03:50:16.631454Z"
    }
   },
   "outputs": [
    {
     "data": {
      "text/plain": [
       "{b'info1': 'This is a larger example',\n",
       " b'info2': 'of user meta handling',\n",
       " b'info3': {'a': 1, 'b': 2}}"
      ]
     },
     "execution_count": 18,
     "metadata": {},
     "output_type": "execute_result"
    }
   ],
   "source": [
    "array.vlmeta[\"info3\"] = {\"a\": 1, \"b\": 2}\n",
    "array.vlmeta.getall()"
   ]
  },
  {
   "cell_type": "markdown",
   "metadata": {},
   "source": "Variable length metadata can be deleted:"
  },
  {
   "cell_type": "code",
   "execution_count": 19,
   "metadata": {
    "ExecuteTime": {
     "end_time": "2024-11-29T13:21:35.155650Z",
     "start_time": "2024-11-28T03:50:16.658931Z"
    }
   },
   "outputs": [
    {
     "data": {
      "text/plain": [
       "{b'info2': 'of user meta handling', b'info3': {'a': 1, 'b': 2}}"
      ]
     },
     "execution_count": 19,
     "metadata": {},
     "output_type": "execute_result"
    }
   ],
   "source": [
    "del array.vlmeta[\"info1\"]\n",
    "array.vlmeta.getall()"
   ]
  },
  {
   "cell_type": "markdown",
   "metadata": {},
   "source": "This is very useful to store metadata that is not known at the time of creation of the container, or that can be updated or deleted at any time."
  },
  {
   "cell_type": "markdown",
   "metadata": {
    "collapsed": false,
    "jupyter": {
     "outputs_hidden": false
    }
   },
   "source": [
    "## Creating a NDArray from a NumPy array\n",
    "\n",
    "Let's create a NDArray from a NumPy array using the `asarray` constructor:"
   ]
  },
  {
   "cell_type": "code",
   "execution_count": 20,
   "metadata": {
    "ExecuteTime": {
     "end_time": "2024-11-29T13:21:35.157188Z",
     "start_time": "2024-11-28T03:50:16.686196Z"
    },
    "collapsed": false,
    "jupyter": {
     "outputs_hidden": false
    }
   },
   "outputs": [
    {
     "name": "stdout",
     "output_type": "stream",
     "text": [
      "type    : NDArray\n",
      "shape   : (100, 100, 100)\n",
      "chunks  : (50, 100, 100)\n",
      "blocks  : (1, 100, 100)\n",
      "dtype   : float64\n",
      "cratio  : 13.73\n",
      "cparams : CParams(codec=<Codec.ZSTD: 5>, codec_meta=0, clevel=1, use_dict=False, typesize=8,\n",
      "        : nthreads=7, blocksize=80000, splitmode=<SplitMode.ALWAYS_SPLIT: 1>,\n",
      "        : filters=[<Filter.NOFILTER: 0>, <Filter.NOFILTER: 0>, <Filter.NOFILTER: 0>,\n",
      "        : <Filter.NOFILTER: 0>, <Filter.NOFILTER: 0>, <Filter.SHUFFLE: 1>], filters_meta=[0, 0,\n",
      "        : 0, 0, 0, 0], tuner=<Tuner.STUNE: 0>)\n",
      "dparams : DParams(nthreads=7)\n",
      "\n"
     ]
    },
    {
     "data": {
      "text/plain": [
       "array([0.    , 0.0001, 0.0002, 0.0003])"
      ]
     },
     "execution_count": 20,
     "metadata": {},
     "output_type": "execute_result"
    }
   ],
   "source": [
    "shape = (100, 100, 100)\n",
    "dtype = np.float64\n",
    "nparray = np.linspace(0, 100, np.prod(shape), dtype=dtype).reshape(shape)\n",
    "b2array = blosc2.asarray(nparray)\n",
    "print(b2array.info)\n",
    "b2array[0, 0, :4]"
   ]
  },
  {
   "cell_type": "markdown",
   "metadata": {
    "collapsed": false,
    "jupyter": {
     "outputs_hidden": false
    }
   },
   "source": [
    "## Building a NDArray from an iterator\n",
    "\n",
    "Finally, let's see how you can create a NDArray filled with data from an iterator, store it into a file, and reopen it. Let's create a structured array with 3 fields and 1 million of elements."
   ]
  },
  {
   "cell_type": "code",
   "execution_count": 21,
   "metadata": {
    "ExecuteTime": {
     "end_time": "2024-11-29T13:21:35.157941Z",
     "start_time": "2024-11-28T03:50:16.724718Z"
    },
    "collapsed": false,
    "jupyter": {
     "outputs_hidden": false
    }
   },
   "outputs": [
    {
     "name": "stdout",
     "output_type": "stream",
     "text": [
      "CPU times: user 514 ms, sys: 29.8 ms, total: 544 ms\n",
      "Wall time: 523 ms\n",
      "Detected ARM ...\r\n",
      "-rw-r--r--@ 1 francesc  staff   7.0M Nov 28 04:50 sa-1M.b2nd\r\n"
     ]
    },
    {
     "data": {
      "text/html": [
       "<table class=\"NDArray-info\"><tbody><tr><th style=\"text-align: left\">type</th><td style=\"text-align: left\">NDArray</td></tr><tr><th style=\"text-align: left\">shape</th><td style=\"text-align: left\">(1000000,)</td></tr><tr><th style=\"text-align: left\">chunks</th><td style=\"text-align: left\">(125000,)</td></tr><tr><th style=\"text-align: left\">blocks</th><td style=\"text-align: left\">(4000,)</td></tr><tr><th style=\"text-align: left\">dtype</th><td style=\"text-align: left\">[('f0', '<i4'), ('f1', '<f4'), ('f2', '<f8')]</td></tr><tr><th style=\"text-align: left\">cratio</th><td style=\"text-align: left\">2.24</td></tr><tr><th style=\"text-align: left\">cparams</th><td style=\"text-align: left\">CParams(codec=<Codec.ZSTD: 5>, codec_meta=0, clevel=1, use_dict=False, typesize=16, nthreads=1, blocksize=64000, splitmode=<SplitMode.ALWAYS_SPLIT: 1>, filters=[<Filter.NOFILTER: 0>, <Filter.NOFILTER: 0>, <Filter.NOFILTER: 0>, <Filter.NOFILTER: 0>, <Filter.NOFILTER: 0>, <Filter.SHUFFLE: 1>], filters_meta=[0, 0, 0, 0, 0, 0], tuner=<Tuner.STUNE: 0>)</td></tr><tr><th style=\"text-align: left\">dparams</th><td style=\"text-align: left\">DParams(nthreads=1)</td></tr></tbody></table>"
      ],
      "text/plain": [
       "type    : NDArray\n",
       "shape   : (1000000,)\n",
       "chunks  : (125000,)\n",
       "blocks  : (4000,)\n",
       "dtype   : [('f0', '<i4'), ('f1', '<f4'), ('f2', '<f8')]\n",
       "cratio  : 2.24\n",
       "cparams : CParams(codec=<Codec.ZSTD: 5>, codec_meta=0, clevel=1, use_dict=False, typesize=16,\n",
       "        : nthreads=1, blocksize=64000, splitmode=<SplitMode.ALWAYS_SPLIT: 1>,\n",
       "        : filters=[<Filter.NOFILTER: 0>, <Filter.NOFILTER: 0>, <Filter.NOFILTER: 0>,\n",
       "        : <Filter.NOFILTER: 0>, <Filter.NOFILTER: 0>, <Filter.SHUFFLE: 1>], filters_meta=[0, 0,\n",
       "        : 0, 0, 0, 0], tuner=<Tuner.STUNE: 0>)\n",
       "dparams : DParams(nthreads=1)"
      ]
     },
     "execution_count": 21,
     "metadata": {},
     "output_type": "execute_result"
    }
   ],
   "source": [
    "N = 1000_000\n",
    "rng = np.random.default_rng()\n",
    "it = ((-x + 1, x - 2, rng.normal()) for x in range(N))\n",
    "%time sa = blosc2.fromiter(it, dtype='i4,f4,f8', shape=(N,), urlpath=\"sa-1M.b2nd\", mode=\"w\")\n",
    "!ls -lh sa-1M.b2nd\n",
    "sa2 = blosc2.open(\"sa-1M.b2nd\")\n",
    "sa2.info"
   ]
  },
  {
   "cell_type": "markdown",
   "metadata": {},
   "source": [
    "That's all for now.  There are more examples in the [examples directory of the git repository](https://github.com/Blosc/python-blosc2/tree/main/examples/ndarray) for you to explore.  Enjoy!"
   ]
  }
 ],
 "metadata": {
  "kernelspec": {
   "display_name": "Python 3 (ipykernel)",
   "language": "python",
   "name": "python3"
  },
  "language_info": {
   "codemirror_mode": {
    "name": "ipython",
    "version": 3
   },
   "file_extension": ".py",
   "mimetype": "text/x-python",
   "name": "python",
   "nbconvert_exporter": "python",
   "pygments_lexer": "ipython3",
   "version": "3.12.3"
  }
 },
 "nbformat": 4,
 "nbformat_minor": 4
}
