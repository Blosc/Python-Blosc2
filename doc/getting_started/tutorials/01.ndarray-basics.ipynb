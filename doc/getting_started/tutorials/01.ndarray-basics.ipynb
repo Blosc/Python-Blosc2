{
 "cells": [
  {
   "cell_type": "markdown",
   "metadata": {},
   "source": [
    "# NDArray: mutidimensional SChunk\n",
    "\n",
    "NDArray functions let users perform different operations with NDArray arrays like setting, copying or slicing them.\n",
    "In this section, we are going to see how to create and manipulate a NDArray array in a simple way.\n"
   ]
  },
  {
   "cell_type": "code",
   "metadata": {
    "ExecuteTime": {
     "end_time": "2024-11-27T12:53:24.125313Z",
     "start_time": "2024-11-27T12:53:22.425957Z"
    }
   },
   "source": [
    "import numpy as np\n",
    "\n",
    "import blosc2"
   ],
   "outputs": [],
   "execution_count": 1
  },
  {
   "cell_type": "markdown",
   "metadata": {},
   "source": [
    "## Creating an array\n",
    "First, we create an array, with zeros being used as the default value for uninitialized portions of the array.\n"
   ]
  },
  {
   "cell_type": "code",
   "metadata": {
    "ExecuteTime": {
     "end_time": "2024-11-27T12:53:24.148084Z",
     "start_time": "2024-11-27T12:53:24.133210Z"
    }
   },
   "source": [
    "array = blosc2.zeros((10000, 10000), dtype=np.int32)\n",
    "print(array.info)"
   ],
   "outputs": [
    {
     "name": "stdout",
     "output_type": "stream",
     "text": [
      "type    : NDArray\n",
      "shape   : (10000, 10000)\n",
      "chunks  : (80, 10000)\n",
      "blocks  : (2, 10000)\n",
      "dtype   : int32\n",
      "cratio  : 100000.00\n",
      "cparams : CParams(codec=<Codec.ZSTD: 5>, codec_meta=0, clevel=1, use_dict=False, typesize=4,\n",
      "        : nthreads=11, blocksize=80000, splitmode=<SplitMode.ALWAYS_SPLIT: 1>,\n",
      "        : filters=[<Filter.NOFILTER: 0>, <Filter.NOFILTER: 0>, <Filter.NOFILTER: 0>,\n",
      "        : <Filter.NOFILTER: 0>, <Filter.NOFILTER: 0>, <Filter.SHUFFLE: 1>], filters_meta=[0, 0,\n",
      "        : 0, 0, 0, 0], tuner=<Tuner.STUNE: 0>)\n",
      "dparams : DParams(nthreads=11)\n",
      "\n"
     ]
    }
   ],
   "execution_count": 2
  },
  {
   "cell_type": "markdown",
   "metadata": {},
   "source": [
    "Note that all the compression and decompression parameters, as well as the chunks and blocks shapes are set to the default.\n",
    "\n",
    "## Reading and writing data\n",
    "We can access and edit NDArray arrays using NumPy."
   ]
  },
  {
   "cell_type": "code",
   "metadata": {
    "ExecuteTime": {
     "end_time": "2024-11-27T12:53:24.264559Z",
     "start_time": "2024-11-27T12:53:24.195742Z"
    }
   },
   "source": [
    "array[0, :] = np.arange(10000, dtype=array.dtype)\n",
    "array[:, 0] = np.arange(10000, dtype=array.dtype)"
   ],
   "outputs": [],
   "execution_count": 3
  },
  {
   "cell_type": "code",
   "metadata": {
    "ExecuteTime": {
     "end_time": "2024-11-27T12:53:24.378456Z",
     "start_time": "2024-11-27T12:53:24.368043Z"
    }
   },
   "source": [
    "array[0, 0]"
   ],
   "outputs": [
    {
     "data": {
      "text/plain": [
       "array(0, dtype=int32)"
      ]
     },
     "execution_count": 4,
     "metadata": {},
     "output_type": "execute_result"
    }
   ],
   "execution_count": 4
  },
  {
   "cell_type": "code",
   "metadata": {
    "ExecuteTime": {
     "end_time": "2024-11-27T12:53:24.486578Z",
     "start_time": "2024-11-27T12:53:24.479208Z"
    }
   },
   "source": [
    "array[0, :]"
   ],
   "outputs": [
    {
     "data": {
      "text/plain": [
       "array([   0,    1,    2, ..., 9997, 9998, 9999], dtype=int32)"
      ]
     },
     "execution_count": 5,
     "metadata": {},
     "output_type": "execute_result"
    }
   ],
   "execution_count": 5
  },
  {
   "cell_type": "code",
   "metadata": {
    "ExecuteTime": {
     "end_time": "2024-11-27T12:53:24.612738Z",
     "start_time": "2024-11-27T12:53:24.575448Z"
    }
   },
   "source": [
    "array[:, 0]"
   ],
   "outputs": [
    {
     "data": {
      "text/plain": [
       "array([   0,    1,    2, ..., 9997, 9998, 9999], dtype=int32)"
      ]
     },
     "execution_count": 6,
     "metadata": {},
     "output_type": "execute_result"
    }
   ],
   "execution_count": 6
  },
  {
   "cell_type": "markdown",
   "metadata": {},
   "source": [
    "## Persistent data\n",
    "As in the SChunk, when we create a NDArray array, we can specify where it will be stored. Indeed, we can specify all the compression/decompression parameters that we can specify in a SChunk.\n",
    "So as in the SChunk, to store an array on-disk we only have to specify a `urlpath` where to store the new array.\n"
   ]
  },
  {
   "cell_type": "code",
   "metadata": {
    "ExecuteTime": {
     "end_time": "2024-11-27T12:53:24.800947Z",
     "start_time": "2024-11-27T12:53:24.692354Z"
    }
   },
   "source": [
    "array = blosc2.full(\n",
    "    (1000, 1000),\n",
    "    fill_value=b\"pepe\",\n",
    "    chunks=(100, 100),\n",
    "    blocks=(50, 50),\n",
    "    urlpath=\"ndarray_tutorial.b2nd\",\n",
    "    mode=\"w\",\n",
    ")\n",
    "print(array.info)"
   ],
   "outputs": [
    {
     "name": "stdout",
     "output_type": "stream",
     "text": [
      "type    : NDArray\n",
      "shape   : (1000, 1000)\n",
      "chunks  : (100, 100)\n",
      "blocks  : (50, 50)\n",
      "dtype   : |S4\n",
      "cratio  : 1111.11\n",
      "cparams : CParams(codec=<Codec.ZSTD: 5>, codec_meta=0, clevel=1, use_dict=False, typesize=4,\n",
      "        : nthreads=11, blocksize=10000, splitmode=<SplitMode.ALWAYS_SPLIT: 1>,\n",
      "        : filters=[<Filter.NOFILTER: 0>, <Filter.NOFILTER: 0>, <Filter.NOFILTER: 0>,\n",
      "        : <Filter.NOFILTER: 0>, <Filter.NOFILTER: 0>, <Filter.SHUFFLE: 1>], filters_meta=[0, 0,\n",
      "        : 0, 0, 0, 0], tuner=<Tuner.STUNE: 0>)\n",
      "dparams : DParams(nthreads=11)\n",
      "\n"
     ]
    }
   ],
   "execution_count": 7
  },
  {
   "cell_type": "markdown",
   "metadata": {},
   "source": [
    "This time we even set the chunks and blocks shapes. You can now open it with modes `w`, `a` or `r`."
   ]
  },
  {
   "cell_type": "code",
   "metadata": {
    "ExecuteTime": {
     "end_time": "2024-11-27T12:53:24.818905Z",
     "start_time": "2024-11-27T12:53:24.814406Z"
    }
   },
   "source": [
    "array2 = blosc2.open(\"ndarray_tutorial.b2nd\")\n",
    "print(array2.info)"
   ],
   "outputs": [
    {
     "name": "stdout",
     "output_type": "stream",
     "text": [
      "type    : NDArray\n",
      "shape   : (1000, 1000)\n",
      "chunks  : (100, 100)\n",
      "blocks  : (50, 50)\n",
      "dtype   : |S4\n",
      "cratio  : 1111.11\n",
      "cparams : CParams(codec=<Codec.ZSTD: 5>, codec_meta=0, clevel=1, use_dict=False, typesize=4,\n",
      "        : nthreads=1, blocksize=10000, splitmode=<SplitMode.ALWAYS_SPLIT: 1>,\n",
      "        : filters=[<Filter.NOFILTER: 0>, <Filter.NOFILTER: 0>, <Filter.NOFILTER: 0>,\n",
      "        : <Filter.NOFILTER: 0>, <Filter.NOFILTER: 0>, <Filter.SHUFFLE: 1>], filters_meta=[0, 0,\n",
      "        : 0, 0, 0, 0], tuner=<Tuner.STUNE: 0>)\n",
      "dparams : DParams(nthreads=1)\n",
      "\n"
     ]
    }
   ],
   "execution_count": 8
  },
  {
   "cell_type": "markdown",
   "metadata": {},
   "source": [
    "## Compression params\n",
    "Here we can see how when we make a copy of a NDArray array we can change its compression parameters in an easy way."
   ]
  },
  {
   "cell_type": "code",
   "metadata": {
    "ExecuteTime": {
     "end_time": "2024-11-27T12:53:24.958248Z",
     "start_time": "2024-11-27T12:53:24.908240Z"
    }
   },
   "source": [
    "b = np.arange(1000000).tobytes()\n",
    "array1 = blosc2.frombuffer(b, shape=(1000, 1000), dtype=np.int64, chunks=(500, 10), blocks=(50, 10))\n",
    "print(array1.info)"
   ],
   "outputs": [
    {
     "name": "stdout",
     "output_type": "stream",
     "text": [
      "type    : NDArray\n",
      "shape   : (1000, 1000)\n",
      "chunks  : (500, 10)\n",
      "blocks  : (50, 10)\n",
      "dtype   : int64\n",
      "cratio  : 7.45\n",
      "cparams : CParams(codec=<Codec.ZSTD: 5>, codec_meta=0, clevel=1, use_dict=False, typesize=8,\n",
      "        : nthreads=11, blocksize=4000, splitmode=<SplitMode.ALWAYS_SPLIT: 1>,\n",
      "        : filters=[<Filter.NOFILTER: 0>, <Filter.NOFILTER: 0>, <Filter.NOFILTER: 0>,\n",
      "        : <Filter.NOFILTER: 0>, <Filter.NOFILTER: 0>, <Filter.SHUFFLE: 1>], filters_meta=[0, 0,\n",
      "        : 0, 0, 0, 0], tuner=<Tuner.STUNE: 0>)\n",
      "dparams : DParams(nthreads=11)\n",
      "\n"
     ]
    }
   ],
   "execution_count": 9
  },
  {
   "cell_type": "code",
   "metadata": {
    "ExecuteTime": {
     "end_time": "2024-11-27T12:53:25.121503Z",
     "start_time": "2024-11-27T12:53:25.114944Z"
    }
   },
   "source": [
    "cparams = blosc2.CParams(\n",
    "    codec=blosc2.Codec.ZSTD,\n",
    "    clevel=9,\n",
    "    filters=[blosc2.Filter.BITSHUFFLE],\n",
    "    filters_meta=[0],\n",
    ")\n",
    "\n",
    "array2 = array1.copy(chunks=(500, 10), blocks=(50, 10), cparams=cparams)\n",
    "print(array2.info)"
   ],
   "outputs": [
    {
     "name": "stdout",
     "output_type": "stream",
     "text": [
      "type    : NDArray\n",
      "shape   : (1000, 1000)\n",
      "chunks  : (500, 10)\n",
      "blocks  : (50, 10)\n",
      "dtype   : int64\n",
      "cratio  : 7.49\n",
      "cparams : CParams(codec=<Codec.ZSTD: 5>, codec_meta=0, clevel=1, use_dict=False, typesize=8,\n",
      "        : nthreads=11, blocksize=4000, splitmode=<SplitMode.ALWAYS_SPLIT: 1>,\n",
      "        : filters=[<Filter.NOFILTER: 0>, <Filter.NOFILTER: 0>, <Filter.NOFILTER: 0>,\n",
      "        : <Filter.NOFILTER: 0>, <Filter.NOFILTER: 0>, <Filter.SHUFFLE: 1>], filters_meta=[0, 0,\n",
      "        : 0, 0, 0, 0], tuner=<Tuner.STUNE: 0>)\n",
      "dparams : DParams(nthreads=11)\n",
      "\n"
     ]
    }
   ],
   "execution_count": 10
  },
  {
   "cell_type": "markdown",
   "metadata": {},
   "source": [
    "## Metalayers and variable length metalayers\n",
    "\n",
    "We have seen that you can pass to the NDArray constructor any compression or decompression parameters that you may pass to a SChunk. Indeed, you can also pass the metalayer dict. Metalayers are small metadata for informing about the properties of data that is stored on a container. As explained in [the SChunk basics](00.schunk-basics.html), there are two kinds. The first one (`meta`), cannot be deleted, must be added at construction time and can only be updated with values that have the same bytes size as the old value. They are easy to access and edit by users:"
   ]
  },
  {
   "cell_type": "code",
   "metadata": {
    "ExecuteTime": {
     "end_time": "2024-11-27T12:53:25.156427Z",
     "start_time": "2024-11-27T12:53:25.153346Z"
    }
   },
   "source": [
    "meta = {\"dtype\": \"i8\", \"coords\": [5.14, 23.0]}\n",
    "array = blosc2.zeros((1000, 1000), dtype=np.int16, chunks=(100, 100), blocks=(50, 50), meta=meta)"
   ],
   "outputs": [],
   "execution_count": 11
  },
  {
   "cell_type": "markdown",
   "metadata": {},
   "source": [
    "You can work with them like if you were working with a dictionary. To access this dictionary you will use the SChunk attribute that an NDArray has."
   ]
  },
  {
   "cell_type": "code",
   "metadata": {
    "ExecuteTime": {
     "end_time": "2024-11-27T12:53:25.218707Z",
     "start_time": "2024-11-27T12:53:25.215302Z"
    }
   },
   "source": [
    "array.schunk.meta"
   ],
   "outputs": [
    {
     "data": {
      "text/plain": [
       "<blosc2.schunk.Meta at 0x10873b140>"
      ]
     },
     "execution_count": 12,
     "metadata": {},
     "output_type": "execute_result"
    }
   ],
   "execution_count": 12
  },
  {
   "cell_type": "code",
   "metadata": {
    "ExecuteTime": {
     "end_time": "2024-11-27T12:53:25.281389Z",
     "start_time": "2024-11-27T12:53:25.276855Z"
    }
   },
   "source": [
    "array.schunk.meta.keys()"
   ],
   "outputs": [
    {
     "data": {
      "text/plain": [
       "['b2nd', 'dtype', 'coords']"
      ]
     },
     "execution_count": 13,
     "metadata": {},
     "output_type": "execute_result"
    }
   ],
   "execution_count": 13
  },
  {
   "cell_type": "markdown",
   "metadata": {},
   "source": [
    "As you can see, Blosc2 internally uses these metalayers to store shapes, ndim, dtype, etc, and retrieve this data when needed in the `b2nd` metalayer."
   ]
  },
  {
   "cell_type": "code",
   "metadata": {
    "ExecuteTime": {
     "end_time": "2024-11-27T12:53:25.416590Z",
     "start_time": "2024-11-27T12:53:25.408497Z"
    }
   },
   "source": [
    "array.schunk.meta[\"b2nd\"]"
   ],
   "outputs": [
    {
     "data": {
      "text/plain": [
       "[0, 2, [1000, 1000], [100, 100], [50, 50], 0, '<i2']"
      ]
     },
     "execution_count": 14,
     "metadata": {},
     "output_type": "execute_result"
    }
   ],
   "execution_count": 14
  },
  {
   "cell_type": "code",
   "metadata": {
    "ExecuteTime": {
     "end_time": "2024-11-27T12:53:25.524047Z",
     "start_time": "2024-11-27T12:53:25.519763Z"
    }
   },
   "source": [
    "array.schunk.meta[\"coords\"]"
   ],
   "outputs": [
    {
     "data": {
      "text/plain": [
       "[5.14, 23.0]"
      ]
     },
     "execution_count": 15,
     "metadata": {},
     "output_type": "execute_result"
    }
   ],
   "execution_count": 15
  },
  {
   "cell_type": "markdown",
   "metadata": {},
   "source": [
    "To add a metalayer after the creation or a variable length metalayer, you can use the `vlmeta` accessor from the SChunk. As well as the `meta`, it works similarly to a dictionary."
   ]
  },
  {
   "cell_type": "code",
   "metadata": {
    "ExecuteTime": {
     "end_time": "2024-11-27T12:53:25.614440Z",
     "start_time": "2024-11-27T12:53:25.609217Z"
    }
   },
   "source": [
    "print(array.schunk.vlmeta.getall())\n",
    "array.schunk.vlmeta[\"info1\"] = \"This is an example\"\n",
    "array.schunk.vlmeta[\"info2\"] = \"of user meta handling\"\n",
    "array.schunk.vlmeta.getall()"
   ],
   "outputs": [
    {
     "name": "stdout",
     "output_type": "stream",
     "text": [
      "{}\n"
     ]
    },
    {
     "data": {
      "text/plain": [
       "{b'info1': 'This is an example', b'info2': 'of user meta handling'}"
      ]
     },
     "execution_count": 16,
     "metadata": {},
     "output_type": "execute_result"
    }
   ],
   "execution_count": 16
  },
  {
   "cell_type": "markdown",
   "metadata": {},
   "source": [
    "You can update them with a value larger than the original one:"
   ]
  },
  {
   "cell_type": "code",
   "metadata": {
    "ExecuteTime": {
     "end_time": "2024-11-27T12:53:25.684976Z",
     "start_time": "2024-11-27T12:53:25.680205Z"
    }
   },
   "source": [
    "array.schunk.vlmeta[\"info1\"] = \"This is a larger example\"\n",
    "array.schunk.vlmeta.getall()"
   ],
   "outputs": [
    {
     "data": {
      "text/plain": [
       "{b'info1': 'This is a larger example', b'info2': 'of user meta handling'}"
      ]
     },
     "execution_count": 17,
     "metadata": {},
     "output_type": "execute_result"
    }
   ],
   "execution_count": 17
  },
  {
   "cell_type": "markdown",
   "metadata": {
    "collapsed": false
   },
   "source": [
    "## Creating a NDArray from a NumPy array\n",
    "\n",
    "Let's create a NDArray from a NumPy array using the `asarray` constructor:"
   ]
  },
  {
   "cell_type": "code",
   "metadata": {
    "collapsed": false,
    "ExecuteTime": {
     "end_time": "2024-11-27T12:53:25.807423Z",
     "start_time": "2024-11-27T12:53:25.769537Z"
    }
   },
   "source": [
    "shape = (100, 100, 100)\n",
    "dtype = np.float64\n",
    "nparray = np.linspace(0, 100, np.prod(shape), dtype=dtype).reshape(shape)\n",
    "b2ndarray = blosc2.asarray(nparray)\n",
    "print(b2ndarray.info)"
   ],
   "outputs": [
    {
     "name": "stdout",
     "output_type": "stream",
     "text": [
      "type    : NDArray\n",
      "shape   : (100, 100, 100)\n",
      "chunks  : (50, 100, 100)\n",
      "blocks  : (1, 100, 100)\n",
      "dtype   : float64\n",
      "cratio  : 13.73\n",
      "cparams : CParams(codec=<Codec.ZSTD: 5>, codec_meta=0, clevel=1, use_dict=False, typesize=8,\n",
      "        : nthreads=11, blocksize=80000, splitmode=<SplitMode.ALWAYS_SPLIT: 1>,\n",
      "        : filters=[<Filter.NOFILTER: 0>, <Filter.NOFILTER: 0>, <Filter.NOFILTER: 0>,\n",
      "        : <Filter.NOFILTER: 0>, <Filter.NOFILTER: 0>, <Filter.SHUFFLE: 1>], filters_meta=[0, 0,\n",
      "        : 0, 0, 0, 0], tuner=<Tuner.STUNE: 0>)\n",
      "dparams : DParams(nthreads=11)\n",
      "\n"
     ]
    }
   ],
   "execution_count": 18
  },
  {
   "cell_type": "markdown",
   "metadata": {
    "collapsed": false
   },
   "source": [
    "## Building a NDArray from a buffer\n",
    "\n",
    "Furthermore, you can create a NDArray filled with data from a buffer:"
   ]
  },
  {
   "cell_type": "code",
   "metadata": {
    "collapsed": false,
    "ExecuteTime": {
     "end_time": "2024-11-27T12:53:25.943838Z",
     "start_time": "2024-11-27T12:53:25.868819Z"
    }
   },
   "source": [
    "rng = np.random.default_rng()\n",
    "buffer = bytes(rng.normal(size=np.prod(shape)) * 8)\n",
    "b2ndarray = blosc2.frombuffer(buffer, shape, dtype=dtype)\n",
    "print(\"Compression ratio:\", b2ndarray.schunk.cratio)\n",
    "b2ndarray[:5, :5, :5]"
   ],
   "outputs": [
    {
     "name": "stdout",
     "output_type": "stream",
     "text": [
      "Compression ratio: 1.1229628926738042\n"
     ]
    },
    {
     "data": {
      "text/plain": [
       "array([[[-3.96897423e+00,  6.78822852e-01, -9.73353461e+00,\n",
       "         -5.25066318e+00, -8.10953899e+00],\n",
       "        [-1.16942534e+00,  7.90569662e+00, -1.86902681e-02,\n",
       "          1.10567731e+01, -2.28302854e+01],\n",
       "        [-4.34054919e+00, -3.06629355e+00, -5.59964532e+00,\n",
       "          3.65939356e+00, -7.02211724e+00],\n",
       "        [-8.05212557e+00,  1.20204426e+01, -6.16981764e+00,\n",
       "          4.12928644e+00, -1.08064571e+01],\n",
       "        [ 6.55334654e+00,  6.79592013e+00,  7.98966925e+00,\n",
       "          2.06804711e+00, -1.45707535e+01]],\n",
       "\n",
       "       [[-3.97094655e+00,  5.26575483e+00, -2.78133428e+00,\n",
       "          1.92634240e+01,  2.58091087e+00],\n",
       "        [-1.99099042e+00,  1.68035645e+00,  1.97563075e+00,\n",
       "         -1.43755674e+00, -7.26761318e+00],\n",
       "        [-1.40747598e+01,  8.71854370e-01,  1.22266717e+00,\n",
       "          1.83992836e+01,  1.03014943e+01],\n",
       "        [-7.81112771e+00,  1.03845046e+00, -1.97135146e-01,\n",
       "         -3.63030374e+00,  3.68253771e-01],\n",
       "        [ 2.53781672e+00,  3.51551328e+00,  5.84144983e+00,\n",
       "          2.76573645e+00,  3.07729015e+00]],\n",
       "\n",
       "       [[ 1.53727795e+01, -3.10329562e+00, -7.35509332e+00,\n",
       "          5.87055954e+00,  2.96498152e+00],\n",
       "        [ 2.16500014e+00, -4.11109343e+00, -5.79488943e+00,\n",
       "          3.37679939e+00,  4.46021199e+00],\n",
       "        [-7.23262233e+00, -7.45375193e+00,  2.10526794e+00,\n",
       "         -1.10376164e+01,  1.49284072e+00],\n",
       "        [ 7.01840884e+00,  1.10474418e+01, -4.52777514e+00,\n",
       "          1.22581130e+00, -6.32318730e+00],\n",
       "        [-6.17852333e+00, -6.60137563e+00, -7.15059584e+00,\n",
       "         -9.84502905e+00,  1.33877570e+01]],\n",
       "\n",
       "       [[-2.77992927e+00, -2.02523063e+00, -9.27801754e+00,\n",
       "          6.16758291e+00, -1.06763408e+01],\n",
       "        [-1.17388823e+01,  6.04490385e+00,  3.28839344e+00,\n",
       "          1.88640684e+00, -5.47512333e-01],\n",
       "        [ 4.33912287e+00, -1.11232330e+01,  8.67373400e-01,\n",
       "          1.93868604e+01, -1.72514447e+01],\n",
       "        [-1.83533432e+00, -1.89598968e+00, -1.34220302e+01,\n",
       "          2.75633004e+00, -2.63782237e+00],\n",
       "        [ 1.38598333e+01, -6.33728268e+00,  2.87510749e+00,\n",
       "         -1.02403928e+01,  1.14422590e+00]],\n",
       "\n",
       "       [[ 9.07871618e+00, -1.66784550e+00,  3.89630350e+00,\n",
       "         -6.09125706e+00,  7.90458874e+00],\n",
       "        [-2.05023523e+01, -1.02476273e+01,  2.75178299e-01,\n",
       "         -1.14133917e+01,  1.07456247e-01],\n",
       "        [-5.61580212e+00,  3.70125195e+00,  8.80542492e-01,\n",
       "          1.45098632e+00,  7.99589780e+00],\n",
       "        [ 6.36130688e+00, -7.51746035e+00,  8.58994297e+00,\n",
       "         -9.79915112e+00, -5.94013528e+00],\n",
       "        [ 1.45625463e+01, -1.21509395e+00, -5.08500033e+00,\n",
       "         -1.66698342e+00, -7.10692190e+00]]])"
      ]
     },
     "execution_count": 19,
     "metadata": {},
     "output_type": "execute_result"
    }
   ],
   "execution_count": 19
  },
  {
   "cell_type": "markdown",
   "metadata": {},
   "source": [
    "That's all for now.  There are more examples in the [examples directory of the git repository](https://github.com/Blosc/python-blosc2/tree/main/examples/) for you to explore.  Enjoy!"
   ]
  }
 ],
 "metadata": {
  "kernelspec": {
   "display_name": "Python 3 (ipykernel)",
   "language": "python",
   "name": "python3"
  },
  "language_info": {
   "codemirror_mode": {
    "name": "ipython",
    "version": 3
   },
   "file_extension": ".py",
   "mimetype": "text/x-python",
   "name": "python",
   "nbconvert_exporter": "python",
   "pygments_lexer": "ipython3",
   "version": "3.9.7"
  }
 },
 "nbformat": 4,
 "nbformat_minor": 1
}
