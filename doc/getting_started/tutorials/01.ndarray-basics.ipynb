{
 "cells": [
  {
   "cell_type": "markdown",
   "metadata": {},
   "source": [
    "# NDArray: A NDim, Compressed Data Container\n",
    "\n",
    "NDArray functions let users perform different operations with NDArray arrays like setting, copying or slicing them.\n",
    "In this section, we are going to see how to create and manipulate a NDArray array in a simple way.\n"
   ]
  },
  {
   "cell_type": "code",
   "execution_count": 1,
   "metadata": {
    "ExecuteTime": {
     "end_time": "2024-11-27T12:53:24.125313Z",
     "start_time": "2024-11-27T12:53:22.425957Z"
    }
   },
   "outputs": [],
   "source": [
    "import numpy as np\n",
    "\n",
    "import blosc2"
   ]
  },
  {
   "cell_type": "markdown",
   "metadata": {},
   "source": [
    "## Creating an array\n",
    "First, we create an array, with zeros being used as the default value for uninitialized portions of the array.\n"
   ]
  },
  {
   "cell_type": "code",
   "execution_count": 2,
   "metadata": {
    "ExecuteTime": {
     "end_time": "2024-11-27T12:53:24.148084Z",
     "start_time": "2024-11-27T12:53:24.133210Z"
    }
   },
   "outputs": [
    {
     "name": "stdout",
     "output_type": "stream",
     "text": [
      "type    : NDArray\n",
      "shape   : (10000, 10000)\n",
      "chunks  : (250, 10000)\n",
      "blocks  : (2, 10000)\n",
      "dtype   : int32\n",
      "cratio  : 312500.00\n",
      "cparams : CParams(codec=<Codec.ZSTD: 5>, codec_meta=0, clevel=1, use_dict=False, typesize=4,\n",
      "        : nthreads=28, blocksize=80000, splitmode=<SplitMode.ALWAYS_SPLIT: 1>,\n",
      "        : filters=[<Filter.NOFILTER: 0>, <Filter.NOFILTER: 0>, <Filter.NOFILTER: 0>,\n",
      "        : <Filter.NOFILTER: 0>, <Filter.NOFILTER: 0>, <Filter.SHUFFLE: 1>], filters_meta=[0, 0,\n",
      "        : 0, 0, 0, 0], tuner=<Tuner.STUNE: 0>)\n",
      "dparams : DParams(nthreads=28)\n",
      "\n"
     ]
    }
   ],
   "source": [
    "array = blosc2.zeros((10000, 10000), dtype=np.int32)\n",
    "print(array.info)"
   ]
  },
  {
   "cell_type": "markdown",
   "metadata": {},
   "source": [
    "Note that all the compression and decompression parameters, as well as the chunks and blocks shapes are set to the default.\n",
    "\n",
    "## Reading and writing data\n",
    "We can write, read and modify NDArray arrays using NumPy array as data source."
   ]
  },
  {
   "cell_type": "code",
   "execution_count": 3,
   "metadata": {
    "ExecuteTime": {
     "end_time": "2024-11-27T12:53:24.264559Z",
     "start_time": "2024-11-27T12:53:24.195742Z"
    }
   },
   "outputs": [],
   "source": [
    "array[0, :] = np.arange(10000, dtype=array.dtype)\n",
    "array[:, 0] = np.arange(10000, dtype=array.dtype)"
   ]
  },
  {
   "cell_type": "code",
   "execution_count": 4,
   "metadata": {
    "ExecuteTime": {
     "end_time": "2024-11-27T12:53:24.378456Z",
     "start_time": "2024-11-27T12:53:24.368043Z"
    }
   },
   "outputs": [
    {
     "data": {
      "text/plain": [
       "array(0, dtype=int32)"
      ]
     },
     "execution_count": 4,
     "metadata": {},
     "output_type": "execute_result"
    }
   ],
   "source": [
    "array[0, 0]"
   ]
  },
  {
   "cell_type": "code",
   "execution_count": 5,
   "metadata": {
    "ExecuteTime": {
     "end_time": "2024-11-27T12:53:24.486578Z",
     "start_time": "2024-11-27T12:53:24.479208Z"
    }
   },
   "outputs": [
    {
     "data": {
      "text/plain": [
       "array([   0,    1,    2, ..., 9997, 9998, 9999], dtype=int32)"
      ]
     },
     "execution_count": 5,
     "metadata": {},
     "output_type": "execute_result"
    }
   ],
   "source": [
    "array[0, :]"
   ]
  },
  {
   "cell_type": "code",
   "execution_count": 6,
   "metadata": {
    "ExecuteTime": {
     "end_time": "2024-11-27T12:53:24.612738Z",
     "start_time": "2024-11-27T12:53:24.575448Z"
    }
   },
   "outputs": [
    {
     "data": {
      "text/plain": [
       "array([   0,    1,    2, ..., 9997, 9998, 9999], dtype=int32)"
      ]
     },
     "execution_count": 6,
     "metadata": {},
     "output_type": "execute_result"
    }
   ],
   "source": [
    "array[:, 0]"
   ]
  },
  {
   "cell_type": "markdown",
   "metadata": {},
   "source": [
    "## Persistent data\n",
    "When we create a NDArray array, we can specify where it will be stored. Indeed, we can specify all the compression/decompression and other storage parameters.\n",
    "To store an array on-disk we just have to specify a `urlpath` as to where to save the new array. For NDArrays, it usual to use the `.b2nd` extension."
   ]
  },
  {
   "cell_type": "code",
   "execution_count": 7,
   "metadata": {
    "ExecuteTime": {
     "end_time": "2024-11-27T12:53:24.800947Z",
     "start_time": "2024-11-27T12:53:24.692354Z"
    }
   },
   "outputs": [
    {
     "name": "stdout",
     "output_type": "stream",
     "text": [
      "type    : NDArray\n",
      "shape   : (1000, 1000)\n",
      "chunks  : (100, 100)\n",
      "blocks  : (50, 50)\n",
      "dtype   : |S4\n",
      "cratio  : 1111.11\n",
      "cparams : CParams(codec=<Codec.ZSTD: 5>, codec_meta=0, clevel=1, use_dict=False, typesize=4,\n",
      "        : nthreads=28, blocksize=10000, splitmode=<SplitMode.ALWAYS_SPLIT: 1>,\n",
      "        : filters=[<Filter.NOFILTER: 0>, <Filter.NOFILTER: 0>, <Filter.NOFILTER: 0>,\n",
      "        : <Filter.NOFILTER: 0>, <Filter.NOFILTER: 0>, <Filter.SHUFFLE: 1>], filters_meta=[0, 0,\n",
      "        : 0, 0, 0, 0], tuner=<Tuner.STUNE: 0>)\n",
      "dparams : DParams(nthreads=28)\n",
      "\n"
     ]
    }
   ],
   "source": [
    "array = blosc2.full(\n",
    "    (1000, 1000),\n",
    "    fill_value=b\"pepe\",\n",
    "    chunks=(100, 100),\n",
    "    blocks=(50, 50),\n",
    "    urlpath=\"ndarray_tutorial.b2nd\",\n",
    "    mode=\"w\",\n",
    ")\n",
    "print(array.info)"
   ]
  },
  {
   "cell_type": "markdown",
   "metadata": {},
   "source": [
    "This time we even set the chunks and blocks shapes. You can now open it with modes `w`, `a` or `r`."
   ]
  },
  {
   "cell_type": "code",
   "execution_count": 8,
   "metadata": {
    "ExecuteTime": {
     "end_time": "2024-11-27T12:53:24.818905Z",
     "start_time": "2024-11-27T12:53:24.814406Z"
    }
   },
   "outputs": [
    {
     "name": "stdout",
     "output_type": "stream",
     "text": [
      "type    : NDArray\n",
      "shape   : (1000, 1000)\n",
      "chunks  : (100, 100)\n",
      "blocks  : (50, 50)\n",
      "dtype   : |S4\n",
      "cratio  : 1111.11\n",
      "cparams : CParams(codec=<Codec.ZSTD: 5>, codec_meta=0, clevel=1, use_dict=False, typesize=4,\n",
      "        : nthreads=1, blocksize=10000, splitmode=<SplitMode.ALWAYS_SPLIT: 1>,\n",
      "        : filters=[<Filter.NOFILTER: 0>, <Filter.NOFILTER: 0>, <Filter.NOFILTER: 0>,\n",
      "        : <Filter.NOFILTER: 0>, <Filter.NOFILTER: 0>, <Filter.SHUFFLE: 1>], filters_meta=[0, 0,\n",
      "        : 0, 0, 0, 0], tuner=<Tuner.STUNE: 0>)\n",
      "dparams : DParams(nthreads=1)\n",
      "\n"
     ]
    }
   ],
   "source": [
    "array2 = blosc2.open(\"ndarray_tutorial.b2nd\")\n",
    "print(array2.info)"
   ]
  },
  {
   "cell_type": "markdown",
   "metadata": {},
   "source": [
    "## Compression params\n",
    "Here we can see how when we make a copy of a NDArray array we can change its compression parameters in an easy way."
   ]
  },
  {
   "cell_type": "code",
   "execution_count": 9,
   "metadata": {
    "ExecuteTime": {
     "end_time": "2024-11-27T12:53:24.958248Z",
     "start_time": "2024-11-27T12:53:24.908240Z"
    }
   },
   "outputs": [
    {
     "name": "stdout",
     "output_type": "stream",
     "text": [
      "type    : NDArray\n",
      "shape   : (1000, 1000)\n",
      "chunks  : (500, 10)\n",
      "blocks  : (50, 10)\n",
      "dtype   : int64\n",
      "cratio  : 7.45\n",
      "cparams : CParams(codec=<Codec.ZSTD: 5>, codec_meta=0, clevel=1, use_dict=False, typesize=8,\n",
      "        : nthreads=28, blocksize=4000, splitmode=<SplitMode.ALWAYS_SPLIT: 1>,\n",
      "        : filters=[<Filter.NOFILTER: 0>, <Filter.NOFILTER: 0>, <Filter.NOFILTER: 0>,\n",
      "        : <Filter.NOFILTER: 0>, <Filter.NOFILTER: 0>, <Filter.SHUFFLE: 1>], filters_meta=[0, 0,\n",
      "        : 0, 0, 0, 0], tuner=<Tuner.STUNE: 0>)\n",
      "dparams : DParams(nthreads=28)\n",
      "\n"
     ]
    }
   ],
   "source": [
    "b = np.arange(1000000).tobytes()\n",
    "array1 = blosc2.frombuffer(b, shape=(1000, 1000), dtype=np.int64, chunks=(500, 10), blocks=(50, 10))\n",
    "print(array1.info)"
   ]
  },
  {
   "cell_type": "code",
   "execution_count": 10,
   "metadata": {
    "ExecuteTime": {
     "end_time": "2024-11-27T12:53:25.121503Z",
     "start_time": "2024-11-27T12:53:25.114944Z"
    }
   },
   "outputs": [
    {
     "name": "stdout",
     "output_type": "stream",
     "text": [
      "type    : NDArray\n",
      "shape   : (1000, 1000)\n",
      "chunks  : (500, 10)\n",
      "blocks  : (50, 10)\n",
      "dtype   : int64\n",
      "cratio  : 7.49\n",
      "cparams : CParams(codec=<Codec.ZSTD: 5>, codec_meta=0, clevel=1, use_dict=False, typesize=8,\n",
      "        : nthreads=28, blocksize=4000, splitmode=<SplitMode.ALWAYS_SPLIT: 1>,\n",
      "        : filters=[<Filter.NOFILTER: 0>, <Filter.NOFILTER: 0>, <Filter.NOFILTER: 0>,\n",
      "        : <Filter.NOFILTER: 0>, <Filter.NOFILTER: 0>, <Filter.SHUFFLE: 1>], filters_meta=[0, 0,\n",
      "        : 0, 0, 0, 0], tuner=<Tuner.STUNE: 0>)\n",
      "dparams : DParams(nthreads=28)\n",
      "\n"
     ]
    }
   ],
   "source": [
    "cparams = blosc2.CParams(\n",
    "    codec=blosc2.Codec.ZSTD,\n",
    "    clevel=9,\n",
    "    filters=[blosc2.Filter.BITSHUFFLE],\n",
    "    filters_meta=[0],\n",
    ")\n",
    "\n",
    "array2 = array1.copy(chunks=(500, 10), blocks=(50, 10), cparams=cparams)\n",
    "print(array2.info)"
   ]
  },
  {
   "cell_type": "markdown",
   "metadata": {},
   "source": [
    "## Metalayers and variable length metalayers\n",
    "\n",
    "We have seen that you can pass to the NDArray constructor any compression or decompression parameters that you want. Indeed, you can also pass the metalayer dict. Metalayers are small metadata for informing about the properties of data that is stored on a container. As explained in [the SChunk basics](07.schunk-basics.html), there are two kinds. The first one (`meta`), cannot be deleted, must be added at construction time and can only be updated with values that have the same bytes size as the old value. They are easy to access and edit by users:"
   ]
  },
  {
   "cell_type": "code",
   "execution_count": 11,
   "metadata": {
    "ExecuteTime": {
     "end_time": "2024-11-27T12:53:25.156427Z",
     "start_time": "2024-11-27T12:53:25.153346Z"
    }
   },
   "outputs": [],
   "source": [
    "meta = {\"dtype\": \"i8\", \"coords\": [5.14, 23.0]}\n",
    "array = blosc2.zeros((1000, 1000), dtype=np.int16, chunks=(100, 100), blocks=(50, 50), meta=meta)"
   ]
  },
  {
   "cell_type": "markdown",
   "metadata": {},
   "source": [
    "You can work with them like if you were working with a dictionary. To access this dictionary you will use the SChunk attribute that an NDArray has."
   ]
  },
  {
   "cell_type": "code",
   "execution_count": 12,
   "metadata": {
    "ExecuteTime": {
     "end_time": "2024-11-27T12:53:25.218707Z",
     "start_time": "2024-11-27T12:53:25.215302Z"
    }
   },
   "outputs": [
    {
     "data": {
      "text/plain": [
       "<blosc2.schunk.Meta at 0x76fdbab9ee70>"
      ]
     },
     "execution_count": 12,
     "metadata": {},
     "output_type": "execute_result"
    }
   ],
   "source": [
    "array.schunk.meta"
   ]
  },
  {
   "cell_type": "code",
   "execution_count": 13,
   "metadata": {
    "ExecuteTime": {
     "end_time": "2024-11-27T12:53:25.281389Z",
     "start_time": "2024-11-27T12:53:25.276855Z"
    }
   },
   "outputs": [
    {
     "data": {
      "text/plain": [
       "['b2nd', 'dtype', 'coords']"
      ]
     },
     "execution_count": 13,
     "metadata": {},
     "output_type": "execute_result"
    }
   ],
   "source": [
    "array.schunk.meta.keys()"
   ]
  },
  {
   "cell_type": "markdown",
   "metadata": {},
   "source": [
    "As you can see, Blosc2 internally uses these metalayers to store shapes, ndim, dtype, etc, and retrieve this data when needed in the `b2nd` metalayer."
   ]
  },
  {
   "cell_type": "code",
   "execution_count": 14,
   "metadata": {
    "ExecuteTime": {
     "end_time": "2024-11-27T12:53:25.416590Z",
     "start_time": "2024-11-27T12:53:25.408497Z"
    }
   },
   "outputs": [
    {
     "data": {
      "text/plain": [
       "[0, 2, [1000, 1000], [100, 100], [50, 50], 0, '<i2']"
      ]
     },
     "execution_count": 14,
     "metadata": {},
     "output_type": "execute_result"
    }
   ],
   "source": [
    "array.schunk.meta[\"b2nd\"]"
   ]
  },
  {
   "cell_type": "code",
   "execution_count": 15,
   "metadata": {
    "ExecuteTime": {
     "end_time": "2024-11-27T12:53:25.524047Z",
     "start_time": "2024-11-27T12:53:25.519763Z"
    }
   },
   "outputs": [
    {
     "data": {
      "text/plain": [
       "[5.14, 23.0]"
      ]
     },
     "execution_count": 15,
     "metadata": {},
     "output_type": "execute_result"
    }
   ],
   "source": [
    "array.schunk.meta[\"coords\"]"
   ]
  },
  {
   "cell_type": "markdown",
   "metadata": {},
   "source": [
    "To add a metalayer after the creation or a variable length metalayer, you can use the `vlmeta` accessor from the SChunk. As well as the `meta`, it works similarly to a dictionary."
   ]
  },
  {
   "cell_type": "code",
   "execution_count": 16,
   "metadata": {
    "ExecuteTime": {
     "end_time": "2024-11-27T12:53:25.614440Z",
     "start_time": "2024-11-27T12:53:25.609217Z"
    }
   },
   "outputs": [
    {
     "name": "stdout",
     "output_type": "stream",
     "text": [
      "{}\n"
     ]
    },
    {
     "data": {
      "text/plain": [
       "{b'info1': 'This is an example', b'info2': 'of user meta handling'}"
      ]
     },
     "execution_count": 16,
     "metadata": {},
     "output_type": "execute_result"
    }
   ],
   "source": [
    "print(array.schunk.vlmeta.getall())\n",
    "array.schunk.vlmeta[\"info1\"] = \"This is an example\"\n",
    "array.schunk.vlmeta[\"info2\"] = \"of user meta handling\"\n",
    "array.schunk.vlmeta.getall()"
   ]
  },
  {
   "cell_type": "markdown",
   "metadata": {},
   "source": [
    "You can update them with a value larger than the original one:"
   ]
  },
  {
   "cell_type": "code",
   "execution_count": 17,
   "metadata": {
    "ExecuteTime": {
     "end_time": "2024-11-27T12:53:25.684976Z",
     "start_time": "2024-11-27T12:53:25.680205Z"
    }
   },
   "outputs": [
    {
     "data": {
      "text/plain": [
       "{b'info1': 'This is a larger example', b'info2': 'of user meta handling'}"
      ]
     },
     "execution_count": 17,
     "metadata": {},
     "output_type": "execute_result"
    }
   ],
   "source": [
    "array.schunk.vlmeta[\"info1\"] = \"This is a larger example\"\n",
    "array.schunk.vlmeta.getall()"
   ]
  },
  {
   "cell_type": "markdown",
   "metadata": {
    "collapsed": false,
    "jupyter": {
     "outputs_hidden": false
    }
   },
   "source": [
    "## Creating a NDArray from a NumPy array\n",
    "\n",
    "Let's create a NDArray from a NumPy array using the `asarray` constructor:"
   ]
  },
  {
   "cell_type": "code",
   "execution_count": 18,
   "metadata": {
    "ExecuteTime": {
     "end_time": "2024-11-27T12:53:25.807423Z",
     "start_time": "2024-11-27T12:53:25.769537Z"
    },
    "collapsed": false,
    "jupyter": {
     "outputs_hidden": false
    }
   },
   "outputs": [
    {
     "name": "stdout",
     "output_type": "stream",
     "text": [
      "type    : NDArray\n",
      "shape   : (100, 100, 100)\n",
      "chunks  : (100, 100, 100)\n",
      "blocks  : (2, 100, 100)\n",
      "dtype   : float64\n",
      "cratio  : 18.74\n",
      "cparams : CParams(codec=<Codec.ZSTD: 5>, codec_meta=0, clevel=1, use_dict=False, typesize=8,\n",
      "        : nthreads=28, blocksize=160000, splitmode=<SplitMode.ALWAYS_SPLIT: 1>,\n",
      "        : filters=[<Filter.NOFILTER: 0>, <Filter.NOFILTER: 0>, <Filter.NOFILTER: 0>,\n",
      "        : <Filter.NOFILTER: 0>, <Filter.NOFILTER: 0>, <Filter.SHUFFLE: 1>], filters_meta=[0, 0,\n",
      "        : 0, 0, 0, 0], tuner=<Tuner.STUNE: 0>)\n",
      "dparams : DParams(nthreads=28)\n",
      "\n"
     ]
    }
   ],
   "source": [
    "shape = (100, 100, 100)\n",
    "dtype = np.float64\n",
    "nparray = np.linspace(0, 100, np.prod(shape), dtype=dtype).reshape(shape)\n",
    "b2ndarray = blosc2.asarray(nparray)\n",
    "print(b2ndarray.info)"
   ]
  },
  {
   "cell_type": "markdown",
   "metadata": {
    "collapsed": false,
    "jupyter": {
     "outputs_hidden": false
    }
   },
   "source": [
    "## Building a NDArray from an iterator\n",
    "\n",
    "Finally, let's see how you can create a NDArray filled with data from a iterator, store it into a file, and open it to reuse it:"
   ]
  },
  {
   "cell_type": "code",
   "execution_count": 19,
   "metadata": {
    "ExecuteTime": {
     "end_time": "2024-11-27T12:53:25.943838Z",
     "start_time": "2024-11-27T12:53:25.868819Z"
    },
    "collapsed": false,
    "jupyter": {
     "outputs_hidden": false
    }
   },
   "outputs": [
    {
     "name": "stdout",
     "output_type": "stream",
     "text": [
      "CPU times: user 451 ms, sys: 35 ms, total: 486 ms\n",
      "Wall time: 454 ms\n",
      "-rw-r--r-- 1 faltet blosc 7155021 nov 27 18:52 sa-1M.b2nd\n"
     ]
    },
    {
     "data": {
      "text/html": [
       "<table class=\"NDArray-info\"><tbody><tr><th style=\"text-align: left\">type</th><td style=\"text-align: left\">NDArray</td></tr><tr><th style=\"text-align: left\">shape</th><td style=\"text-align: left\">(1000000,)</td></tr><tr><th style=\"text-align: left\">chunks</th><td style=\"text-align: left\">(500000,)</td></tr><tr><th style=\"text-align: left\">blocks</th><td style=\"text-align: left\">(31250,)</td></tr><tr><th style=\"text-align: left\">dtype</th><td style=\"text-align: left\">[('f0', '<i4'), ('f1', '<f4'), ('f2', '<f8')]</td></tr><tr><th style=\"text-align: left\">cratio</th><td style=\"text-align: left\">2.24</td></tr><tr><th style=\"text-align: left\">cparams</th><td style=\"text-align: left\">CParams(codec=<Codec.ZSTD: 5>, codec_meta=0, clevel=1, use_dict=False, typesize=16, nthreads=1, blocksize=500000, splitmode=<SplitMode.ALWAYS_SPLIT: 1>, filters=[<Filter.NOFILTER: 0>, <Filter.NOFILTER: 0>, <Filter.NOFILTER: 0>, <Filter.NOFILTER: 0>, <Filter.NOFILTER: 0>, <Filter.SHUFFLE: 1>], filters_meta=[0, 0, 0, 0, 0, 0], tuner=<Tuner.STUNE: 0>)</td></tr><tr><th style=\"text-align: left\">dparams</th><td style=\"text-align: left\">DParams(nthreads=1)</td></tr></tbody></table>"
      ],
      "text/plain": [
       "type    : NDArray\n",
       "shape   : (1000000,)\n",
       "chunks  : (500000,)\n",
       "blocks  : (31250,)\n",
       "dtype   : [('f0', '<i4'), ('f1', '<f4'), ('f2', '<f8')]\n",
       "cratio  : 2.24\n",
       "cparams : CParams(codec=<Codec.ZSTD: 5>, codec_meta=0, clevel=1, use_dict=False, typesize=16,\n",
       "        : nthreads=1, blocksize=500000, splitmode=<SplitMode.ALWAYS_SPLIT: 1>,\n",
       "        : filters=[<Filter.NOFILTER: 0>, <Filter.NOFILTER: 0>, <Filter.NOFILTER: 0>,\n",
       "        : <Filter.NOFILTER: 0>, <Filter.NOFILTER: 0>, <Filter.SHUFFLE: 1>], filters_meta=[0, 0,\n",
       "        : 0, 0, 0, 0], tuner=<Tuner.STUNE: 0>)\n",
       "dparams : DParams(nthreads=1)"
      ]
     },
     "execution_count": 19,
     "metadata": {},
     "output_type": "execute_result"
    }
   ],
   "source": [
    "N = 1000_000\n",
    "rng = np.random.default_rng()\n",
    "it = ((-x+1, x-2, rng.normal()) for x in range(N))\n",
    "%time sa = blosc2.fromiter(it, dtype='i4,f4,f8', shape=(N,), urlpath=\"sa-1M.b2nd\", mode=\"w\")\n",
    "!ls -l sa-1M.b2nd\n",
    "sa2 = blosc2.open(\"sa-1M.b2nd\")\n",
    "sa2.info"
   ]
  },
  {
   "cell_type": "markdown",
   "metadata": {},
   "source": [
    "That's all for now.  There are more examples in the [examples directory of the git repository](https://github.com/Blosc/python-blosc2/tree/main/examples/ndarray) for you to explore.  Enjoy!"
   ]
  },
  {
   "cell_type": "code",
   "execution_count": null,
   "metadata": {},
   "outputs": [],
   "source": []
  }
 ],
 "metadata": {
  "kernelspec": {
   "display_name": "Python 3 (ipykernel)",
   "language": "python",
   "name": "python3"
  },
  "language_info": {
   "codemirror_mode": {
    "name": "ipython",
    "version": 3
   },
   "file_extension": ".py",
   "mimetype": "text/x-python",
   "name": "python",
   "nbconvert_exporter": "python",
   "pygments_lexer": "ipython3",
   "version": "3.12.3"
  }
 },
 "nbformat": 4,
 "nbformat_minor": 4
}
