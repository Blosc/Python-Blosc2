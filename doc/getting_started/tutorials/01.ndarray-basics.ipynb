{
 "cells": [
  {
   "cell_type": "markdown",
   "metadata": {},
   "source": [
    "# NDArray: A NDim, Compressed Data Container\n",
    "\n",
    "NDArray objects let users perform different operations with NDArray arrays like setting, copying or slicing them. In this section, we are going to see how to create and manipulate a NDArray array in a simple way.\n"
   ]
  },
  {
   "cell_type": "code",
   "execution_count": 1,
   "metadata": {
    "ExecuteTime": {
     "end_time": "2024-11-28T03:50:16.004007Z",
     "start_time": "2024-11-28T03:50:15.750067Z"
    }
   },
   "outputs": [],
   "source": [
    "import numpy as np\n",
    "\n",
    "import blosc2"
   ]
  },
  {
   "cell_type": "markdown",
   "metadata": {},
   "source": [
    "## Creating an array\n",
    "First, we create an array, with zeros being used as the default value for uninitialized portions of the array.\n"
   ]
  },
  {
   "cell_type": "code",
   "execution_count": 2,
   "metadata": {
    "ExecuteTime": {
     "end_time": "2024-11-28T03:50:16.072112Z",
     "start_time": "2024-11-28T03:50:16.064440Z"
    }
   },
   "outputs": [
    {
     "name": "stdout",
     "output_type": "stream",
     "text": [
      "type    : NDArray\n",
      "shape   : (10000, 10000)\n",
      "chunks  : (80, 10000)\n",
      "blocks  : (1, 10000)\n",
      "dtype   : int32\n",
      "cratio  : 100000.00\n",
      "cparams : CParams(codec=<Codec.ZSTD: 5>, codec_meta=0, clevel=1, use_dict=False, typesize=4,\n",
      "        : nthreads=7, blocksize=40000, splitmode=<SplitMode.ALWAYS_SPLIT: 1>,\n",
      "        : filters=[<Filter.NOFILTER: 0>, <Filter.NOFILTER: 0>, <Filter.NOFILTER: 0>,\n",
      "        : <Filter.NOFILTER: 0>, <Filter.NOFILTER: 0>, <Filter.SHUFFLE: 1>], filters_meta=[0, 0,\n",
      "        : 0, 0, 0, 0], tuner=<Tuner.STUNE: 0>)\n",
      "dparams : DParams(nthreads=7)\n",
      "\n"
     ]
    }
   ],
   "source": [
    "array = blosc2.zeros((10000, 10000), dtype=np.int32)\n",
    "print(array.info)"
   ]
  },
  {
   "cell_type": "markdown",
   "metadata": {},
   "source": [
    "Note that all the compression and decompression parameters, as well as the chunks and blocks shapes are set to the default.\n",
    "\n",
    "## Reading and writing data\n",
    "We can write, read and modify NDArray arrays using NumPy array as data source."
   ]
  },
  {
   "cell_type": "code",
   "execution_count": 3,
   "metadata": {
    "ExecuteTime": {
     "end_time": "2024-11-28T03:50:16.224186Z",
     "start_time": "2024-11-28T03:50:16.194913Z"
    }
   },
   "outputs": [],
   "source": [
    "array[0, :] = np.arange(10000, dtype=array.dtype)\n",
    "array[:, 0] = np.arange(10000, dtype=array.dtype)"
   ]
  },
  {
   "cell_type": "code",
   "execution_count": 4,
   "metadata": {
    "ExecuteTime": {
     "end_time": "2024-11-28T03:50:16.236559Z",
     "start_time": "2024-11-28T03:50:16.230689Z"
    }
   },
   "outputs": [
    {
     "data": {
      "text/plain": [
       "array(0, dtype=int32)"
      ]
     },
     "execution_count": 4,
     "metadata": {},
     "output_type": "execute_result"
    }
   ],
   "source": [
    "array[0, 0]"
   ]
  },
  {
   "cell_type": "code",
   "execution_count": 5,
   "metadata": {
    "ExecuteTime": {
     "end_time": "2024-11-28T03:50:16.255291Z",
     "start_time": "2024-11-28T03:50:16.250198Z"
    }
   },
   "outputs": [
    {
     "data": {
      "text/plain": [
       "array([   0,    1,    2, ..., 9997, 9998, 9999], dtype=int32)"
      ]
     },
     "execution_count": 5,
     "metadata": {},
     "output_type": "execute_result"
    }
   ],
   "source": [
    "array[0, :]"
   ]
  },
  {
   "cell_type": "code",
   "execution_count": 6,
   "metadata": {
    "ExecuteTime": {
     "end_time": "2024-11-28T03:50:16.289401Z",
     "start_time": "2024-11-28T03:50:16.262843Z"
    }
   },
   "outputs": [
    {
     "data": {
      "text/plain": [
       "array([   0,    1,    2, ..., 9997, 9998, 9999], dtype=int32)"
      ]
     },
     "execution_count": 6,
     "metadata": {},
     "output_type": "execute_result"
    }
   ],
   "source": [
    "array[:, 0]"
   ]
  },
  {
   "cell_type": "markdown",
   "metadata": {},
   "source": [
    "## Persistent data\n",
    "When we create a NDArray array, we can specify where it will be stored. Indeed, we can specify all the compression/decompression and other storage parameters.\n",
    "To store an array on-disk we just have to specify a `urlpath` as to where to save the new array. For NDArrays, it usual to use the `.b2nd` extension."
   ]
  },
  {
   "cell_type": "code",
   "execution_count": 7,
   "metadata": {
    "ExecuteTime": {
     "end_time": "2024-11-28T03:50:16.335055Z",
     "start_time": "2024-11-28T03:50:16.295640Z"
    }
   },
   "outputs": [
    {
     "name": "stdout",
     "output_type": "stream",
     "text": [
      "type    : NDArray\n",
      "shape   : (1000, 1000)\n",
      "chunks  : (100, 100)\n",
      "blocks  : (50, 50)\n",
      "dtype   : |S4\n",
      "cratio  : 1111.11\n",
      "cparams : CParams(codec=<Codec.ZSTD: 5>, codec_meta=0, clevel=1, use_dict=False, typesize=4,\n",
      "        : nthreads=7, blocksize=10000, splitmode=<SplitMode.ALWAYS_SPLIT: 1>,\n",
      "        : filters=[<Filter.NOFILTER: 0>, <Filter.NOFILTER: 0>, <Filter.NOFILTER: 0>,\n",
      "        : <Filter.NOFILTER: 0>, <Filter.NOFILTER: 0>, <Filter.SHUFFLE: 1>], filters_meta=[0, 0,\n",
      "        : 0, 0, 0, 0], tuner=<Tuner.STUNE: 0>)\n",
      "dparams : DParams(nthreads=7)\n",
      "\n"
     ]
    }
   ],
   "source": [
    "array = blosc2.full(\n",
    "    (1000, 1000),\n",
    "    fill_value=b\"pepe\",\n",
    "    chunks=(100, 100),\n",
    "    blocks=(50, 50),\n",
    "    urlpath=\"ndarray_tutorial.b2nd\",\n",
    "    mode=\"w\",\n",
    ")\n",
    "print(array.info)"
   ]
  },
  {
   "cell_type": "markdown",
   "metadata": {},
   "source": "This time we have set the chunks and blocks shapes. You can open and access it whenever you like."
  },
  {
   "cell_type": "code",
   "execution_count": 8,
   "metadata": {
    "ExecuteTime": {
     "end_time": "2024-11-28T03:50:16.345790Z",
     "start_time": "2024-11-28T03:50:16.343580Z"
    }
   },
   "outputs": [
    {
     "name": "stdout",
     "output_type": "stream",
     "text": [
      "type    : NDArray\n",
      "shape   : (1000, 1000)\n",
      "chunks  : (100, 100)\n",
      "blocks  : (50, 50)\n",
      "dtype   : |S4\n",
      "cratio  : 1111.11\n",
      "cparams : CParams(codec=<Codec.ZSTD: 5>, codec_meta=0, clevel=1, use_dict=False, typesize=4,\n",
      "        : nthreads=1, blocksize=10000, splitmode=<SplitMode.ALWAYS_SPLIT: 1>,\n",
      "        : filters=[<Filter.NOFILTER: 0>, <Filter.NOFILTER: 0>, <Filter.NOFILTER: 0>,\n",
      "        : <Filter.NOFILTER: 0>, <Filter.NOFILTER: 0>, <Filter.SHUFFLE: 1>], filters_meta=[0, 0,\n",
      "        : 0, 0, 0, 0], tuner=<Tuner.STUNE: 0>)\n",
      "dparams : DParams(nthreads=1)\n",
      "\n"
     ]
    }
   ],
   "source": [
    "array2 = blosc2.open(\"ndarray_tutorial.b2nd\")\n",
    "print(array2.info)"
   ]
  },
  {
   "cell_type": "markdown",
   "metadata": {},
   "source": [
    "## Compression params\n",
    "Here we can see how when we make a copy of a NDArray array we can change its compression parameters in an easy way."
   ]
  },
  {
   "cell_type": "code",
   "execution_count": 9,
   "metadata": {
    "ExecuteTime": {
     "end_time": "2024-11-28T03:50:16.378160Z",
     "start_time": "2024-11-28T03:50:16.356236Z"
    }
   },
   "outputs": [
    {
     "name": "stdout",
     "output_type": "stream",
     "text": [
      "type    : NDArray\n",
      "shape   : (1000, 1000)\n",
      "chunks  : (500, 10)\n",
      "blocks  : (50, 10)\n",
      "dtype   : int64\n",
      "cratio  : 7.45\n",
      "cparams : CParams(codec=<Codec.ZSTD: 5>, codec_meta=0, clevel=1, use_dict=False, typesize=8,\n",
      "        : nthreads=7, blocksize=4000, splitmode=<SplitMode.ALWAYS_SPLIT: 1>,\n",
      "        : filters=[<Filter.NOFILTER: 0>, <Filter.NOFILTER: 0>, <Filter.NOFILTER: 0>,\n",
      "        : <Filter.NOFILTER: 0>, <Filter.NOFILTER: 0>, <Filter.SHUFFLE: 1>], filters_meta=[0, 0,\n",
      "        : 0, 0, 0, 0], tuner=<Tuner.STUNE: 0>)\n",
      "dparams : DParams(nthreads=7)\n",
      "\n"
     ]
    }
   ],
   "source": [
    "b = np.arange(1000000).tobytes()\n",
    "array1 = blosc2.frombuffer(b, shape=(1000, 1000), dtype=np.int64, chunks=(500, 10), blocks=(50, 10))\n",
    "print(array1.info)"
   ]
  },
  {
   "cell_type": "code",
   "execution_count": 10,
   "metadata": {
    "ExecuteTime": {
     "end_time": "2024-11-28T03:50:16.427532Z",
     "start_time": "2024-11-28T03:50:16.425095Z"
    }
   },
   "outputs": [
    {
     "name": "stdout",
     "output_type": "stream",
     "text": [
      "type    : NDArray\n",
      "shape   : (1000, 1000)\n",
      "chunks  : (500, 10)\n",
      "blocks  : (50, 10)\n",
      "dtype   : int64\n",
      "cratio  : 7.49\n",
      "cparams : CParams(codec=<Codec.ZSTD: 5>, codec_meta=0, clevel=1, use_dict=False, typesize=8,\n",
      "        : nthreads=7, blocksize=4000, splitmode=<SplitMode.ALWAYS_SPLIT: 1>,\n",
      "        : filters=[<Filter.NOFILTER: 0>, <Filter.NOFILTER: 0>, <Filter.NOFILTER: 0>,\n",
      "        : <Filter.NOFILTER: 0>, <Filter.NOFILTER: 0>, <Filter.SHUFFLE: 1>], filters_meta=[0, 0,\n",
      "        : 0, 0, 0, 0], tuner=<Tuner.STUNE: 0>)\n",
      "dparams : DParams(nthreads=7)\n",
      "\n"
     ]
    }
   ],
   "source": [
    "cparams = blosc2.CParams(\n",
    "    codec=blosc2.Codec.ZSTD,\n",
    "    clevel=9,\n",
    "    filters=[blosc2.Filter.BITSHUFFLE],\n",
    "    filters_meta=[0],\n",
    ")\n",
    "\n",
    "array2 = array1.copy(chunks=(500, 10), blocks=(50, 10), cparams=cparams)\n",
    "print(array2.info)"
   ]
  },
  {
   "cell_type": "markdown",
   "metadata": {},
   "source": [
    "## Metalayers and variable length metalayers\n",
    "\n",
    "We have seen that you can pass to the NDArray constructor any compression or decompression parameters that you want, and now, we will add metalayers to these. Metalayers are small metadata for informing about the properties of data that is stored on a container. As explained in [the SChunk tutorial](07.schunk-basics.html), there are two kinds of metalayers. The first one (`meta`), is the system one, and must be added at construction time; it cannot be deleted and can only be updated with values that have the same bytes size as the old value. They are easy to access and edit by users:"
   ]
  },
  {
   "cell_type": "code",
   "execution_count": 11,
   "metadata": {
    "ExecuteTime": {
     "end_time": "2024-11-28T03:50:16.433190Z",
     "start_time": "2024-11-28T03:50:16.430971Z"
    }
   },
   "outputs": [],
   "source": [
    "meta = {\"dtype\": \"i8\", \"coords\": [5.14, 23.0]}\n",
    "array = blosc2.zeros((1000, 1000), dtype=np.int16, chunks=(100, 100), blocks=(50, 50), meta=meta)"
   ]
  },
  {
   "cell_type": "markdown",
   "metadata": {},
   "source": "You can work with them like if you were working with a dictionary. To access this dictionary you will use the `schunk` attribute that an NDArray has."
  },
  {
   "cell_type": "code",
   "execution_count": 12,
   "metadata": {
    "ExecuteTime": {
     "end_time": "2024-11-28T03:50:16.490472Z",
     "start_time": "2024-11-28T03:50:16.486995Z"
    }
   },
   "outputs": [
    {
     "data": {
      "text/plain": [
       "<blosc2.schunk.Meta at 0x106fa7c10>"
      ]
     },
     "execution_count": 12,
     "metadata": {},
     "output_type": "execute_result"
    }
   ],
   "source": [
    "array.schunk.meta"
   ]
  },
  {
   "cell_type": "code",
   "execution_count": 13,
   "metadata": {
    "ExecuteTime": {
     "end_time": "2024-11-28T03:50:16.497787Z",
     "start_time": "2024-11-28T03:50:16.495198Z"
    }
   },
   "outputs": [
    {
     "data": {
      "text/plain": [
       "['b2nd', 'dtype', 'coords']"
      ]
     },
     "execution_count": 13,
     "metadata": {},
     "output_type": "execute_result"
    }
   ],
   "source": [
    "array.schunk.meta.keys()"
   ]
  },
  {
   "cell_type": "markdown",
   "metadata": {},
   "source": "As you can see, Blosc2 internally uses such metalayers to store shapes, ndim, dtype, etc, and retrieve this data when needed.  For example, the `b2nd` metalayer has this info."
  },
  {
   "cell_type": "code",
   "execution_count": 14,
   "metadata": {
    "ExecuteTime": {
     "end_time": "2024-11-28T03:50:16.526049Z",
     "start_time": "2024-11-28T03:50:16.523855Z"
    }
   },
   "outputs": [
    {
     "data": {
      "text/plain": [
       "[0, 2, [1000, 1000], [100, 100], [50, 50], 0, '<i2']"
      ]
     },
     "execution_count": 14,
     "metadata": {},
     "output_type": "execute_result"
    }
   ],
   "source": [
    "array.schunk.meta[\"b2nd\"]"
   ]
  },
  {
   "cell_type": "markdown",
   "metadata": {},
   "source": "And we can look at the our own user meta:"
  },
  {
   "cell_type": "code",
   "execution_count": 15,
   "metadata": {
    "ExecuteTime": {
     "end_time": "2024-11-28T03:50:16.553399Z",
     "start_time": "2024-11-28T03:50:16.551074Z"
    }
   },
   "outputs": [
    {
     "data": {
      "text/plain": [
       "[5.14, 23.0]"
      ]
     },
     "execution_count": 15,
     "metadata": {},
     "output_type": "execute_result"
    }
   ],
   "source": [
    "array.schunk.meta[\"coords\"]"
   ]
  },
  {
   "cell_type": "markdown",
   "metadata": {},
   "source": "To add a metalayer after the creation or a variable length metalayer, you can use the `vlmeta` accessor from the SChunk. Similarly to `meta`, it works as a dictionary."
  },
  {
   "cell_type": "code",
   "execution_count": 16,
   "metadata": {
    "ExecuteTime": {
     "end_time": "2024-11-28T03:50:16.580814Z",
     "start_time": "2024-11-28T03:50:16.577896Z"
    }
   },
   "outputs": [
    {
     "name": "stdout",
     "output_type": "stream",
     "text": [
      "{}\n"
     ]
    },
    {
     "data": {
      "text/plain": [
       "{b'info1': 'This is an example', b'info2': 'of user meta handling'}"
      ]
     },
     "execution_count": 16,
     "metadata": {},
     "output_type": "execute_result"
    }
   ],
   "source": [
    "print(array.schunk.vlmeta.getall())\n",
    "array.schunk.vlmeta[\"info1\"] = \"This is an example\"\n",
    "array.schunk.vlmeta[\"info2\"] = \"of user meta handling\"\n",
    "array.schunk.vlmeta.getall()"
   ]
  },
  {
   "cell_type": "markdown",
   "metadata": {},
   "source": [
    "You can update them with a value larger than the original one:"
   ]
  },
  {
   "cell_type": "code",
   "execution_count": 17,
   "metadata": {
    "ExecuteTime": {
     "end_time": "2024-11-28T03:50:16.608073Z",
     "start_time": "2024-11-28T03:50:16.605487Z"
    }
   },
   "outputs": [
    {
     "data": {
      "text/plain": [
       "{b'info1': 'This is a larger example', b'info2': 'of user meta handling'}"
      ]
     },
     "execution_count": 17,
     "metadata": {},
     "output_type": "execute_result"
    }
   ],
   "source": [
    "array.schunk.vlmeta[\"info1\"] = \"This is a larger example\"\n",
    "array.schunk.vlmeta.getall()"
   ]
  },
  {
   "cell_type": "markdown",
   "metadata": {},
   "source": "You can store any kind of data in the `vlmeta` metalayer, as long as it is serializable with msgpack.  This is a very flexible way to store metadata in a Blosc2 container."
  },
  {
   "cell_type": "code",
   "execution_count": 18,
   "metadata": {
    "ExecuteTime": {
     "end_time": "2024-11-28T03:50:16.634192Z",
     "start_time": "2024-11-28T03:50:16.631454Z"
    }
   },
   "outputs": [
    {
     "data": {
      "text/plain": [
       "{b'info1': 'This is a larger example',\n",
       " b'info2': 'of user meta handling',\n",
       " b'info3': {'a': 1, 'b': 2}}"
      ]
     },
     "execution_count": 18,
     "metadata": {},
     "output_type": "execute_result"
    }
   ],
   "source": [
    "array.schunk.vlmeta[\"info3\"] = {\"a\": 1, \"b\": 2}\n",
    "array.schunk.vlmeta.getall()"
   ]
  },
  {
   "cell_type": "markdown",
   "metadata": {},
   "source": "Variable length metadata can be deleted:"
  },
  {
   "cell_type": "code",
   "execution_count": 19,
   "metadata": {
    "ExecuteTime": {
     "end_time": "2024-11-28T03:50:16.661427Z",
     "start_time": "2024-11-28T03:50:16.658931Z"
    }
   },
   "outputs": [
    {
     "data": {
      "text/plain": [
       "{b'info2': 'of user meta handling', b'info3': {'a': 1, 'b': 2}}"
      ]
     },
     "execution_count": 19,
     "metadata": {},
     "output_type": "execute_result"
    }
   ],
   "source": [
    "del array.schunk.vlmeta[\"info1\"]\n",
    "array.schunk.vlmeta.getall()"
   ]
  },
  {
   "cell_type": "markdown",
   "metadata": {},
   "source": "This is very useful to store metadata that is not known at the time of creation of the container, or that can be updated or deleted at any time."
  },
  {
   "cell_type": "markdown",
   "metadata": {
    "collapsed": false,
    "jupyter": {
     "outputs_hidden": false
    }
   },
   "source": [
    "## Creating a NDArray from a NumPy array\n",
    "\n",
    "Let's create a NDArray from a NumPy array using the `asarray` constructor:"
   ]
  },
  {
   "cell_type": "code",
   "execution_count": 20,
   "metadata": {
    "ExecuteTime": {
     "end_time": "2024-11-28T03:50:16.697270Z",
     "start_time": "2024-11-28T03:50:16.686196Z"
    },
    "collapsed": false,
    "jupyter": {
     "outputs_hidden": false
    }
   },
   "outputs": [
    {
     "name": "stdout",
     "output_type": "stream",
     "text": [
      "type    : NDArray\n",
      "shape   : (100, 100, 100)\n",
      "chunks  : (50, 100, 100)\n",
      "blocks  : (1, 100, 100)\n",
      "dtype   : float64\n",
      "cratio  : 13.73\n",
      "cparams : CParams(codec=<Codec.ZSTD: 5>, codec_meta=0, clevel=1, use_dict=False, typesize=8,\n",
      "        : nthreads=7, blocksize=80000, splitmode=<SplitMode.ALWAYS_SPLIT: 1>,\n",
      "        : filters=[<Filter.NOFILTER: 0>, <Filter.NOFILTER: 0>, <Filter.NOFILTER: 0>,\n",
      "        : <Filter.NOFILTER: 0>, <Filter.NOFILTER: 0>, <Filter.SHUFFLE: 1>], filters_meta=[0, 0,\n",
      "        : 0, 0, 0, 0], tuner=<Tuner.STUNE: 0>)\n",
      "dparams : DParams(nthreads=7)\n",
      "\n"
     ]
    },
    {
     "data": {
      "text/plain": [
       "array([0.    , 0.0001, 0.0002, 0.0003])"
      ]
     },
     "execution_count": 20,
     "metadata": {},
     "output_type": "execute_result"
    }
   ],
   "source": [
    "shape = (100, 100, 100)\n",
    "dtype = np.float64\n",
    "nparray = np.linspace(0, 100, np.prod(shape), dtype=dtype).reshape(shape)\n",
    "b2array = blosc2.asarray(nparray)\n",
    "print(b2array.info)\n",
    "b2array[0, 0, :4]"
   ]
  },
  {
   "cell_type": "markdown",
   "metadata": {
    "collapsed": false,
    "jupyter": {
     "outputs_hidden": false
    }
   },
   "source": [
    "## Building a NDArray from an iterator\n",
    "\n",
    "Finally, let's see how you can create a NDArray filled with data from an iterator, store it into a file, and reopen it. Let's create a structured array with 3 fields and 1 million of elements."
   ]
  },
  {
   "cell_type": "code",
   "execution_count": 21,
   "metadata": {
    "ExecuteTime": {
     "end_time": "2024-11-28T03:50:17.598036Z",
     "start_time": "2024-11-28T03:50:16.724718Z"
    },
    "collapsed": false,
    "jupyter": {
     "outputs_hidden": false
    }
   },
   "outputs": [
    {
     "name": "stdout",
     "output_type": "stream",
     "text": [
      "CPU times: user 514 ms, sys: 29.8 ms, total: 544 ms\n",
      "Wall time: 523 ms\n",
      "Detected ARM ...\r\n",
      "-rw-r--r--@ 1 francesc  staff   7.0M Nov 28 04:50 sa-1M.b2nd\r\n"
     ]
    },
    {
     "data": {
      "text/html": [
       "<table class=\"NDArray-info\"><tbody><tr><th style=\"text-align: left\">type</th><td style=\"text-align: left\">NDArray</td></tr><tr><th style=\"text-align: left\">shape</th><td style=\"text-align: left\">(1000000,)</td></tr><tr><th style=\"text-align: left\">chunks</th><td style=\"text-align: left\">(125000,)</td></tr><tr><th style=\"text-align: left\">blocks</th><td style=\"text-align: left\">(4000,)</td></tr><tr><th style=\"text-align: left\">dtype</th><td style=\"text-align: left\">[('f0', '<i4'), ('f1', '<f4'), ('f2', '<f8')]</td></tr><tr><th style=\"text-align: left\">cratio</th><td style=\"text-align: left\">2.24</td></tr><tr><th style=\"text-align: left\">cparams</th><td style=\"text-align: left\">CParams(codec=<Codec.ZSTD: 5>, codec_meta=0, clevel=1, use_dict=False, typesize=16, nthreads=1, blocksize=64000, splitmode=<SplitMode.ALWAYS_SPLIT: 1>, filters=[<Filter.NOFILTER: 0>, <Filter.NOFILTER: 0>, <Filter.NOFILTER: 0>, <Filter.NOFILTER: 0>, <Filter.NOFILTER: 0>, <Filter.SHUFFLE: 1>], filters_meta=[0, 0, 0, 0, 0, 0], tuner=<Tuner.STUNE: 0>)</td></tr><tr><th style=\"text-align: left\">dparams</th><td style=\"text-align: left\">DParams(nthreads=1)</td></tr></tbody></table>"
      ],
      "text/plain": [
       "type    : NDArray\n",
       "shape   : (1000000,)\n",
       "chunks  : (125000,)\n",
       "blocks  : (4000,)\n",
       "dtype   : [('f0', '<i4'), ('f1', '<f4'), ('f2', '<f8')]\n",
       "cratio  : 2.24\n",
       "cparams : CParams(codec=<Codec.ZSTD: 5>, codec_meta=0, clevel=1, use_dict=False, typesize=16,\n",
       "        : nthreads=1, blocksize=64000, splitmode=<SplitMode.ALWAYS_SPLIT: 1>,\n",
       "        : filters=[<Filter.NOFILTER: 0>, <Filter.NOFILTER: 0>, <Filter.NOFILTER: 0>,\n",
       "        : <Filter.NOFILTER: 0>, <Filter.NOFILTER: 0>, <Filter.SHUFFLE: 1>], filters_meta=[0, 0,\n",
       "        : 0, 0, 0, 0], tuner=<Tuner.STUNE: 0>)\n",
       "dparams : DParams(nthreads=1)"
      ]
     },
     "execution_count": 21,
     "metadata": {},
     "output_type": "execute_result"
    }
   ],
   "source": [
    "N = 1000_000\n",
    "rng = np.random.default_rng()\n",
    "it = ((-x + 1, x - 2, rng.normal()) for x in range(N))\n",
    "%time sa = blosc2.fromiter(it, dtype='i4,f4,f8', shape=(N,), urlpath=\"sa-1M.b2nd\", mode=\"w\")\n",
    "!ls -lh sa-1M.b2nd\n",
    "sa2 = blosc2.open(\"sa-1M.b2nd\")\n",
    "sa2.info"
   ]
  },
  {
   "cell_type": "markdown",
   "metadata": {},
   "source": [
    "That's all for now.  There are more examples in the [examples directory of the git repository](https://github.com/Blosc/python-blosc2/tree/main/examples/ndarray) for you to explore.  Enjoy!"
   ]
  }
 ],
 "metadata": {
  "kernelspec": {
   "display_name": "Python 3 (ipykernel)",
   "language": "python",
   "name": "python3"
  },
  "language_info": {
   "codemirror_mode": {
    "name": "ipython",
    "version": 3
   },
   "file_extension": ".py",
   "mimetype": "text/x-python",
   "name": "python",
   "nbconvert_exporter": "python",
   "pygments_lexer": "ipython3",
   "version": "3.12.3"
  }
 },
 "nbformat": 4,
 "nbformat_minor": 4
}
