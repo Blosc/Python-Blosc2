{
 "cells": [
  {
   "cell_type": "markdown",
   "metadata": {},
   "source": [
    "# User Defined Functions\n",
    "\n",
    "Python-Blosc2 implements a powerful way to operate with NDArray (and other flavors) objects.  In this section, we will see how to do computations with NDArray arrays using functions defined by ourselves (aka User-Defined-Functions).\n"
   ]
  },
  {
   "cell_type": "code",
   "metadata": {
    "is_executing": true,
    "ExecuteTime": {
     "end_time": "2024-11-27T12:40:17.380740Z",
     "start_time": "2024-11-27T12:40:17.378001Z"
    }
   },
   "source": [
    "import numba as nb\n",
    "import numpy as np\n",
    "\n",
    "import blosc2"
   ],
   "outputs": [],
   "execution_count": 9
  },
  {
   "cell_type": "markdown",
   "metadata": {},
   "source": [
    "## A simple example\n",
    "First, let's create a NumPy array which we will use to create and fill a NDArray."
   ]
  },
  {
   "cell_type": "code",
   "metadata": {
    "ExecuteTime": {
     "end_time": "2024-11-27T12:40:17.507724Z",
     "start_time": "2024-11-27T12:40:17.455663Z"
    }
   },
   "source": [
    "shape = (5000, 1000)\n",
    "npa = np.linspace(0, 1, np.prod(shape), dtype=np.float32).reshape(shape)"
   ],
   "outputs": [],
   "execution_count": 10
  },
  {
   "cell_type": "markdown",
   "metadata": {},
   "source": [
    "Now, let's define our function. This function can be executed for each block or chunk and will always receive 3 parameters. The first one is the inputs tuple to which we can pass any operand such as a NDArray, NumPy array or Python scalar. The second is the output buffer to be filled and the third is an offset corresponding to the start inside the array of the chunk or block being filled."
   ]
  },
  {
   "cell_type": "code",
   "metadata": {
    "ExecuteTime": {
     "end_time": "2024-11-27T12:40:17.539888Z",
     "start_time": "2024-11-27T12:40:17.536601Z"
    }
   },
   "source": [
    "def add_one(inputs_tuple, output, offset):\n",
    "    x = inputs_tuple[0]\n",
    "    output[:] = x + 1"
   ],
   "outputs": [],
   "execution_count": 11
  },
  {
   "cell_type": "markdown",
   "metadata": {},
   "source": [
    "As you can see, this function will take the first input, add one and save the result in output.\n",
    "\n",
    "Now, to actually create a `LazyUDF` we will use its constructor `lazyudf`."
   ]
  },
  {
   "cell_type": "code",
   "metadata": {
    "ExecuteTime": {
     "end_time": "2024-11-27T12:40:17.576645Z",
     "start_time": "2024-11-27T12:40:17.561841Z"
    }
   },
   "source": [
    "b = blosc2.lazyudf(add_one, (npa,), npa.dtype)\n",
    "print(f\"Class: {type(b)}\")"
   ],
   "outputs": [
    {
     "name": "stdout",
     "output_type": "stream",
     "text": [
      "Class: <class 'blosc2.lazyexpr.LazyUDF'>\n"
     ]
    }
   ],
   "execution_count": 12
  },
  {
   "cell_type": "markdown",
   "metadata": {},
   "source": [
    "Next, to execute and get the result of your function you can choose between the `__getitem__` and `compute` methods.\n",
    "The main difference is that the first one will return the computed result as a NumPy array whereas the second one will return a NDArray. Let's see `__getitem__` first."
   ]
  },
  {
   "cell_type": "code",
   "metadata": {
    "ExecuteTime": {
     "end_time": "2024-11-27T12:40:17.730251Z",
     "start_time": "2024-11-27T12:40:17.655380Z"
    }
   },
   "source": [
    "%%time\n",
    "npc = b[...]\n",
    "print(f\"Class: {type(npc)}\")"
   ],
   "outputs": [
    {
     "name": "stdout",
     "output_type": "stream",
     "text": [
      "Class: <class 'numpy.ndarray'>\n",
      "CPU times: user 48.6 ms, sys: 40.1 ms, total: 88.7 ms\n",
      "Wall time: 70.8 ms\n"
     ]
    }
   ],
   "execution_count": 13
  },
  {
   "cell_type": "markdown",
   "metadata": {},
   "source": [
    "\n",
    "Now, let's use `compute` for the same purpose. The advantage of using this method is that you can pass some construction parameters for the resulting NDArray like the `urlpath` to store the resulting array on-disk."
   ]
  },
  {
   "cell_type": "code",
   "metadata": {
    "ExecuteTime": {
     "end_time": "2024-11-27T12:40:17.838439Z",
     "start_time": "2024-11-27T12:40:17.764610Z"
    }
   },
   "source": [
    "c = b.compute(urlpath=\"res.b2nd\", mode=\"w\")\n",
    "print(f\"Class: {type(c)}\")\n",
    "print(c.info)"
   ],
   "outputs": [
    {
     "name": "stdout",
     "output_type": "stream",
     "text": [
      "Class: <class 'blosc2.ndarray.NDArray'>\n",
      "type    : NDArray\n",
      "shape   : (5000, 1000)\n",
      "chunks  : (625, 1000)\n",
      "blocks  : (25, 1000)\n",
      "dtype   : float32\n",
      "cratio  : 27.57\n",
      "cparams : CParams(codec=<Codec.ZSTD: 5>, codec_meta=0, clevel=1, use_dict=False, typesize=4,\n",
      "        : nthreads=11, blocksize=100000, splitmode=<SplitMode.ALWAYS_SPLIT: 1>,\n",
      "        : filters=[<Filter.NOFILTER: 0>, <Filter.NOFILTER: 0>, <Filter.NOFILTER: 0>,\n",
      "        : <Filter.NOFILTER: 0>, <Filter.NOFILTER: 0>, <Filter.SHUFFLE: 1>], filters_meta=[0, 0,\n",
      "        : 0, 0, 0, 0], tuner=<Tuner.STUNE: 0>)\n",
      "dparams : DParams(nthreads=11)\n",
      "\n"
     ]
    }
   ],
   "execution_count": 14
  },
  {
   "cell_type": "markdown",
   "metadata": {},
   "source": [
    "## Comparison with Numba\n",
    "In this section we will compare Python-Blosc2 performance with Numba. For this we will execute the same function but using Numba."
   ]
  },
  {
   "cell_type": "code",
   "metadata": {
    "ExecuteTime": {
     "end_time": "2024-11-27T12:40:17.924259Z",
     "start_time": "2024-11-27T12:40:17.920094Z"
    }
   },
   "source": [
    "@nb.jit(nopython=True, parallel=True)\n",
    "def add_one(inputs_tuple, output, offset):\n",
    "    x = inputs_tuple[0]\n",
    "    output[:] = x + 1"
   ],
   "outputs": [],
   "execution_count": 15
  },
  {
   "cell_type": "code",
   "metadata": {
    "ExecuteTime": {
     "end_time": "2024-11-27T12:40:18.571717Z",
     "start_time": "2024-11-27T12:40:18.002076Z"
    }
   },
   "source": [
    "%%time\n",
    "out = np.empty(c.shape, dtype=c.dtype)\n",
    "add_one((npa,), out, 0)"
   ],
   "outputs": [
    {
     "name": "stdout",
     "output_type": "stream",
     "text": [
      "CPU times: user 548 ms, sys: 77 ms, total: 625 ms\n",
      "Wall time: 565 ms\n"
     ]
    }
   ],
   "execution_count": 16
  },
  {
   "cell_type": "markdown",
   "metadata": {},
   "source": "As you can see, Python-Blosc2 was much faster than Numba.  This is because numba has large initialization overheads and the function is very simple.  For more complex functions, or larger arrays, the difference will be less noticeable."
  },
  {
   "cell_type": "markdown",
   "metadata": {},
   "source": [
    "## Summary\n",
    "\n",
    "In this section, we have seen how to execute user-defined function and get the result as a NumPy or NDArray. We have also seen that the Python-Blosc2 `LazyUDF` is faster than the Numba way for getting the same result."
   ]
  }
 ],
 "metadata": {
  "kernelspec": {
   "display_name": "Python 3 (ipykernel)",
   "language": "python",
   "name": "python3"
  },
  "language_info": {
   "codemirror_mode": {
    "name": "ipython",
    "version": 3
   },
   "file_extension": ".py",
   "mimetype": "text/x-python",
   "name": "python",
   "nbconvert_exporter": "python",
   "pygments_lexer": "ipython3",
   "version": "3.11.4"
  }
 },
 "nbformat": 4,
 "nbformat_minor": 4
}
