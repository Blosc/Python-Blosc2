{
 "cells": [
  {
   "cell_type": "code",
   "execution_count": 1,
   "id": "33e0d676f4431382",
   "metadata": {
    "collapsed": false,
    "ExecuteTime": {
     "end_time": "2024-05-07T10:09:11.210613Z",
     "start_time": "2024-05-07T10:09:08.170750Z"
    }
   },
   "outputs": [],
   "source": [
    "from time import time\n",
    "import numba as nb\n",
    "import numexpr as ne\n",
    "import numpy as np\n",
    "from matplotlib import pyplot as plt\n",
    "import blosc2"
   ]
  },
  {
   "cell_type": "code",
   "outputs": [],
   "source": [
    "def run_numba(num_threads, a, b, c):\n",
    "    nb.set_num_threads(num_threads)  # Set the number of threads for Numba\n",
    "    @nb.jit(nopython=True, parallel=True, nogil=True)\n",
    "    def mean_numba(a, b, c):\n",
    "        out = np.empty(a.shape, a.dtype)  # Create an empty array to store the result\n",
    "        for i in nb.prange(a.shape[0]):  # Iterate over the first dimension of array a in parallel\n",
    "            for j in nb.prange(a.shape[1]):  # Iterate over the second dimension of array a in parallel\n",
    "                out[i, j] = (a[i, j] + b[i, j] * c[i, j]) + 2  # Calculate the corresponding value in the resulting array\n",
    "        return out  # Return the resulting array\n",
    "\n",
    "    # Measure the execution time of the approach with Numba\n",
    "    start = time()  # Initial time\n",
    "    mean_expr = mean_numba(a, b, c)  # Call the mean_numba function\n",
    "    t = time() - start  # Calculate elapsed time\n",
    "    return t"
   ],
   "metadata": {
    "collapsed": true,
    "ExecuteTime": {
     "end_time": "2024-05-07T10:09:11.223399Z",
     "start_time": "2024-05-07T10:09:11.217136Z"
    }
   },
   "id": "initial_id",
   "execution_count": 2
  },
  {
   "cell_type": "code",
   "outputs": [],
   "source": [
    "def run_lazy_expr(num_threads, a, b, c, cparams):\n",
    "    blosc2.set_nthreads(num_threads)  # Set the number of threads for Blosc2 compression\n",
    "    ne.set_num_threads(num_threads)  # Set the number of threads for NumExpr evaluation\n",
    "    # Convert NumPy arrays to compressed arrays using Blosc2\n",
    "    a1 = blosc2.asarray(a, cparams=cparams)  # Compressed array a\n",
    "    b1 = blosc2.asarray(b, cparams=cparams)  # Compressed array b\n",
    "    c1 = blosc2.asarray(c, cparams=cparams)  # Compressed array c\n",
    "    # Perform the mathematical operation using LazyExpr: addition, multiplication, and addition of 2\n",
    "    expr = a1 + b1 * c1  # LazyExpr expression\n",
    "    expr += 2  # Add 2\n",
    "    t = time()  # Initial time\n",
    "    res = expr.evaluate(cparams=cparams)  # Evaluate the LazyExpr expression and get the result\n",
    "    tt = time() - t  # Calculate elapsed time\n",
    "    return tt"
   ],
   "metadata": {
    "collapsed": false,
    "ExecuteTime": {
     "end_time": "2024-05-07T10:09:11.238682Z",
     "start_time": "2024-05-07T10:09:11.226207Z"
    }
   },
   "id": "c9fe5e0e103b1df0",
   "execution_count": 3
  },
  {
   "cell_type": "code",
   "outputs": [],
   "source": [
    "def run_NumExpr(num_thread, a, b, c):\n",
    "    ne.set_num_threads(num_thread)\n",
    "    t = time()\n",
    "    d1 = ne.evaluate(\"a+b*c+2\")\n",
    "    t1 = time() - t \n",
    "    return t1"
   ],
   "metadata": {
    "collapsed": false,
    "ExecuteTime": {
     "end_time": "2024-05-07T10:09:11.247116Z",
     "start_time": "2024-05-07T10:09:11.234252Z"
    }
   },
   "id": "2aee0029bb2ce895",
   "execution_count": 4
  },
  {
   "cell_type": "code",
   "outputs": [
    {
     "ename": "ValueError",
     "evalue": "You cannot pass chunks in cparams, use `chunks` argument instead",
     "output_type": "error",
     "traceback": [
      "\u001B[0;31m---------------------------------------------------------------------------\u001B[0m",
      "\u001B[0;31mValueError\u001B[0m                                Traceback (most recent call last)",
      "Cell \u001B[0;32mIn[6], line 47\u001B[0m\n\u001B[1;32m     45\u001B[0m \u001B[38;5;28;01mfor\u001B[39;00m chunk \u001B[38;5;129;01min\u001B[39;00m chunk_sizes:\n\u001B[1;32m     46\u001B[0m         cparams_LZ4 \u001B[38;5;241m=\u001B[39m {\u001B[38;5;124m\"\u001B[39m\u001B[38;5;124mclevel\u001B[39m\u001B[38;5;124m\"\u001B[39m: clevel, \u001B[38;5;124m\"\u001B[39m\u001B[38;5;124mcodec\u001B[39m\u001B[38;5;124m\"\u001B[39m: blosc2\u001B[38;5;241m.\u001B[39mCodec\u001B[38;5;241m.\u001B[39mLZ4, \u001B[38;5;124m\"\u001B[39m\u001B[38;5;124mchunks\u001B[39m\u001B[38;5;124m\"\u001B[39m: (chunk, chunk), \u001B[38;5;124m\"\u001B[39m\u001B[38;5;124mblocksize\u001B[39m\u001B[38;5;124m\"\u001B[39m: block_size}\n\u001B[0;32m---> 47\u001B[0m         speed_LZ4 \u001B[38;5;241m=\u001B[39m mega_bytes \u001B[38;5;241m/\u001B[39m run_lazy_expr(nthreads, a, b, c, cparams_LZ4)\n\u001B[1;32m     48\u001B[0m         lazy_expr_times_LZ4\u001B[38;5;241m.\u001B[39mappend(speed_LZ4)\n\u001B[1;32m     49\u001B[0m         speed\u001B[38;5;241m.\u001B[39mappend(speed_LZ4)\n",
      "Cell \u001B[0;32mIn[3], line 5\u001B[0m, in \u001B[0;36mrun_lazy_expr\u001B[0;34m(num_threads, a, b, c, cparams)\u001B[0m\n\u001B[1;32m      3\u001B[0m ne\u001B[38;5;241m.\u001B[39mset_num_threads(num_threads)  \u001B[38;5;66;03m# Set the number of threads for NumExpr evaluation\u001B[39;00m\n\u001B[1;32m      4\u001B[0m \u001B[38;5;66;03m# Convert NumPy arrays to compressed arrays using Blosc2\u001B[39;00m\n\u001B[0;32m----> 5\u001B[0m a1 \u001B[38;5;241m=\u001B[39m blosc2\u001B[38;5;241m.\u001B[39masarray(a, cparams\u001B[38;5;241m=\u001B[39mcparams)  \u001B[38;5;66;03m# Compressed array a\u001B[39;00m\n\u001B[1;32m      6\u001B[0m b1 \u001B[38;5;241m=\u001B[39m blosc2\u001B[38;5;241m.\u001B[39masarray(b, cparams\u001B[38;5;241m=\u001B[39mcparams)  \u001B[38;5;66;03m# Compressed array b\u001B[39;00m\n\u001B[1;32m      7\u001B[0m c1 \u001B[38;5;241m=\u001B[39m blosc2\u001B[38;5;241m.\u001B[39masarray(c, cparams\u001B[38;5;241m=\u001B[39mcparams)  \u001B[38;5;66;03m# Compressed array c\u001B[39;00m\n",
      "File \u001B[0;32m~/my-python-blosc2/blosc2/ndarray.py:1262\u001B[0m, in \u001B[0;36masarray\u001B[0;34m(array, **kwargs)\u001B[0m\n\u001B[1;32m   1234\u001B[0m \u001B[38;5;28;01mdef\u001B[39;00m \u001B[38;5;21masarray\u001B[39m(array: np\u001B[38;5;241m.\u001B[39mndarray, \u001B[38;5;241m*\u001B[39m\u001B[38;5;241m*\u001B[39mkwargs: \u001B[38;5;28mdict\u001B[39m) \u001B[38;5;241m-\u001B[39m\u001B[38;5;241m>\u001B[39m NDArray:\n\u001B[1;32m   1235\u001B[0m \u001B[38;5;250m    \u001B[39m\u001B[38;5;124;03m\"\"\"Convert the `array` to an `NDArray`.\u001B[39;00m\n\u001B[1;32m   1236\u001B[0m \n\u001B[1;32m   1237\u001B[0m \u001B[38;5;124;03m    Parameters\u001B[39;00m\n\u001B[0;32m   (...)\u001B[0m\n\u001B[1;32m   1260\u001B[0m \u001B[38;5;124;03m    >>> nda = blosc2.asarray(a)\u001B[39;00m\n\u001B[1;32m   1261\u001B[0m \u001B[38;5;124;03m    \"\"\"\u001B[39;00m\n\u001B[0;32m-> 1262\u001B[0m     _check_ndarray_kwargs(\u001B[38;5;241m*\u001B[39m\u001B[38;5;241m*\u001B[39mkwargs)\n\u001B[1;32m   1263\u001B[0m     chunks \u001B[38;5;241m=\u001B[39m kwargs\u001B[38;5;241m.\u001B[39mpop(\u001B[38;5;124m\"\u001B[39m\u001B[38;5;124mchunks\u001B[39m\u001B[38;5;124m\"\u001B[39m, \u001B[38;5;28;01mNone\u001B[39;00m)\n\u001B[1;32m   1264\u001B[0m     blocks \u001B[38;5;241m=\u001B[39m kwargs\u001B[38;5;241m.\u001B[39mpop(\u001B[38;5;124m\"\u001B[39m\u001B[38;5;124mblocks\u001B[39m\u001B[38;5;124m\"\u001B[39m, \u001B[38;5;28;01mNone\u001B[39;00m)\n",
      "File \u001B[0;32m~/my-python-blosc2/blosc2/ndarray.py:1286\u001B[0m, in \u001B[0;36m_check_ndarray_kwargs\u001B[0;34m(**kwargs)\u001B[0m\n\u001B[1;32m   1282\u001B[0m         \u001B[38;5;28;01mraise\u001B[39;00m \u001B[38;5;167;01mKeyError\u001B[39;00m(\n\u001B[1;32m   1283\u001B[0m             \u001B[38;5;124mf\u001B[39m\u001B[38;5;124m\"\u001B[39m\u001B[38;5;124mOnly \u001B[39m\u001B[38;5;132;01m{\u001B[39;00msupported_keys\u001B[38;5;132;01m}\u001B[39;00m\u001B[38;5;124m are supported as\u001B[39m\u001B[38;5;124m\"\u001B[39m \u001B[38;5;124mf\u001B[39m\u001B[38;5;124m\"\u001B[39m\u001B[38;5;124m keyword arguments\u001B[39m\u001B[38;5;124m\"\u001B[39m \u001B[38;5;124mf\u001B[39m\u001B[38;5;124m\"\u001B[39m\u001B[38;5;124m, and you passed \u001B[39m\u001B[38;5;132;01m{\u001B[39;00mkey\u001B[38;5;132;01m}\u001B[39;00m\u001B[38;5;124m\"\u001B[39m\n\u001B[1;32m   1284\u001B[0m         )\n\u001B[1;32m   1285\u001B[0m \u001B[38;5;28;01mif\u001B[39;00m \u001B[38;5;124m\"\u001B[39m\u001B[38;5;124mcparams\u001B[39m\u001B[38;5;124m\"\u001B[39m \u001B[38;5;129;01min\u001B[39;00m kwargs \u001B[38;5;129;01mand\u001B[39;00m \u001B[38;5;124m\"\u001B[39m\u001B[38;5;124mchunks\u001B[39m\u001B[38;5;124m\"\u001B[39m \u001B[38;5;129;01min\u001B[39;00m kwargs[\u001B[38;5;124m\"\u001B[39m\u001B[38;5;124mcparams\u001B[39m\u001B[38;5;124m\"\u001B[39m]:\n\u001B[0;32m-> 1286\u001B[0m     \u001B[38;5;28;01mraise\u001B[39;00m \u001B[38;5;167;01mValueError\u001B[39;00m(\u001B[38;5;124m\"\u001B[39m\u001B[38;5;124mYou cannot pass chunks in cparams, use `chunks` argument instead\u001B[39m\u001B[38;5;124m\"\u001B[39m)\n\u001B[1;32m   1287\u001B[0m \u001B[38;5;28;01mif\u001B[39;00m \u001B[38;5;124m\"\u001B[39m\u001B[38;5;124mcparams\u001B[39m\u001B[38;5;124m\"\u001B[39m \u001B[38;5;129;01min\u001B[39;00m kwargs \u001B[38;5;129;01mand\u001B[39;00m \u001B[38;5;124m\"\u001B[39m\u001B[38;5;124mblocks\u001B[39m\u001B[38;5;124m\"\u001B[39m \u001B[38;5;129;01min\u001B[39;00m kwargs[\u001B[38;5;124m\"\u001B[39m\u001B[38;5;124mcparams\u001B[39m\u001B[38;5;124m\"\u001B[39m]:\n\u001B[1;32m   1288\u001B[0m     \u001B[38;5;28;01mraise\u001B[39;00m \u001B[38;5;167;01mValueError\u001B[39;00m(\u001B[38;5;124m\"\u001B[39m\u001B[38;5;124mYou cannot pass chunks in cparams, use `blocks` argument instead\u001B[39m\u001B[38;5;124m\"\u001B[39m)\n",
      "\u001B[0;31mValueError\u001B[0m: You cannot pass chunks in cparams, use `chunks` argument instead"
     ]
    }
   ],
   "source": [
    "# Main program 2\n",
    "def calculate_chunksize(size):\n",
    "    chunksize = size * 1024 // 8\n",
    "    return chunksize\n",
    "\n",
    "# Create NumPy arrays a, b, and c with size 3000x4000 and values generated using linspace\n",
    "dtype = np.float64  # Data type for the arrays\n",
    "reshape = [30000, 4000]  # Reshape for arrays\n",
    "size = reshape[0] * reshape[1]   # Total size of the arrays (30000 * 4000) = 120_000_000\n",
    "a = np.linspace(0, 10, num=size, dtype=dtype).reshape(reshape)  # Array a\n",
    "b = np.linspace(0, 10, num=size, dtype=dtype).reshape(reshape)  # Array b\n",
    "c = np.linspace(0, 10, num=size, dtype=dtype).reshape(reshape)  # Array c\n",
    "mega_bytes = (size * 8) // 1024 ** 2  # Total megabytes\n",
    "nthreads = 4 # Number of threads\n",
    "numba_times = []  # List to store Numba execution speed\n",
    "lazy_expr_times = []  # List to store LazyExpr speed\n",
    "numexpr_times = [] # List to store NumExpr execution speed\n",
    "clevels_LZ4 = [0, 1, 5]  # Compression levels\n",
    "clevels_ZSTD = [1, 5]  # Compression levels\n",
    "mean_expr = run_numba(1, a, b, c)  # Call run_numba to warm up Numba and ensure accurate timings\n",
    "speed = []  # List to store speeds for plotting\n",
    "\n",
    "# Generate chunks sizes from 32 KB to 128 MB\n",
    "chunk_sizes = []\n",
    "current_size = 32  # Starting from 32 KB\n",
    "while current_size <= 128 * 1024:  # Ending at 128 MB\n",
    "    chunk_sizes.append(current_size * 1024)\n",
    "    current_size *= 2\n",
    "    \n",
    "execution_times = []\n",
    "for chunk in chunk_sizes:\n",
    "    numba = mega_bytes / run_numba(nthreads, a, b, c)\n",
    "    num_expr = mega_bytes / run_NumExpr(nthreads, a, b, c)\n",
    "    numba_times.append(numba)\n",
    "    numexpr_times.append(num_expr)\n",
    "    speed.append(numba)\n",
    "    speed.append(num_expr)\n",
    "\n",
    "# Calculate execution times for LazyExpr\n",
    "# Fixed block size of 32 KB\n",
    "block_size = 32 * 1024\n",
    "\n",
    "for clevel in clevels_LZ4:\n",
    "    lazy_expr_times_LZ4 = []\n",
    "    for chunk in chunk_sizes:\n",
    "            cparams_LZ4 = {\"clevel\": clevel, \"codec\": blosc2.Codec.LZ4, \"chunks\": (chunk, chunk), \"blocksize\": block_size}\n",
    "            speed_LZ4 = mega_bytes / run_lazy_expr(nthreads, a, b, c, cparams_LZ4)\n",
    "            lazy_expr_times_LZ4.append(speed_LZ4)\n",
    "            speed.append(speed_LZ4)\n",
    "    lazy_expr_times.append(lazy_expr_times_LZ4)\n",
    "    \n",
    "for clevel in clevels_ZSTD: \n",
    "    lazy_expr_times_ZSTD = []\n",
    "    for chunk in chunk_sizes:\n",
    "        cparams_ZSTD = {\"clevel\": clevel, \"codec\": blosc2.Codec.ZSTD,\"chunks\": (chunk, chunk), \"blocksize\": block_size}\n",
    "        speed_ZSTD = mega_bytes / run_lazy_expr(nthreads, a, b, c, cparams_ZSTD)\n",
    "        lazy_expr_times_ZSTD.append(speed_ZSTD)\n",
    "        speed.append(speed_ZSTD)\n",
    "    lazy_expr_times.append(lazy_expr_times_ZSTD)"
   ],
   "metadata": {
    "collapsed": false,
    "ExecuteTime": {
     "end_time": "2024-05-07T10:11:43.685592Z",
     "start_time": "2024-05-07T10:11:11.850043Z"
    }
   },
   "id": "a56994e47e3bc1b2",
   "execution_count": 6
  },
  {
   "cell_type": "code",
   "outputs": [],
   "source": [
    "# Graph\n",
    "fig, (ax1, ax2) = plt.subplots(1, 2, figsize=(12, 6))  # Create a figure with two subplots\n",
    "limit_y = max(speed) + 1  # Limit for y-axis\n",
    "\n",
    "# Graph Numba\n",
    "ax1.plot(chunk_sizes, numba_times, marker='o', markersize=5, linestyle='--', label='Numba')  # Plot Numba data\n",
    "ax1.plot(chunk_sizes, numexpr_times, marker='o', markersize=5, linestyle='--', color='magenta', label='NumExpr')  # Plot NumExpr data\n",
    "ax1.set_xlabel('ChunkSize')  # Set x-axis label\n",
    "ax1.set_ylabel('Speed (MB/s)')  # Set y-axis label\n",
    "ax1.set_title('Execution Speed vs. Chunk Size')  # Set title\n",
    "ax1.legend()  # Add legend\n",
    "ax1.set_ylim(0, limit_y)  # Set y-axis limit\n",
    "\n",
    "# Graph LazyExpr\n",
    "i = 0\n",
    "ax2.plot(chunk_sizes, lazy_expr_times[i], marker='o', markersize=5, linestyle='--', label=f\"No Compression\")  # Plot LazyExpr data\n",
    "i = 1\n",
    "for j in range(len(clevels_LZ4)-1):\n",
    "    ax2.plot(chunk_sizes, lazy_expr_times[i], marker='o', markersize=5, linestyle='--', label=f\"LZ4,clevel={clevels_LZ4[j+1]}\")  # Plot LazyExpr data\n",
    "    i += 1\n",
    "for clevel in clevels_ZSTD:\n",
    "    ax2.plot(chunk_sizes, lazy_expr_times[i], marker='o', markersize=5, linestyle='--', label=f\"ZSTD,clevel={clevel}\")  # Plot LazyExpr data\n",
    "    i += 1\n",
    "ax2.set_xlabel('Chunk Sizes')  # Set x-axis label\n",
    "ax2.set_ylabel('Speed (MB/s)')  # Set y-axis label\n",
    "ax2.set_title('LazyExpr')  # Set title\n",
    "ax2.legend()  # Add legend\n",
    "ax2.set_ylim(0, limit_y)  # Set y-axis limit\n",
    "plt.show()  # Show the plot\n",
    "\n"
   ],
   "metadata": {
    "collapsed": false,
    "ExecuteTime": {
     "start_time": "2024-05-07T10:11:43.684517Z"
    }
   },
   "id": "cc4cddfd4777e644",
   "execution_count": null
  },
  {
   "cell_type": "code",
   "outputs": [],
   "source": [],
   "metadata": {
    "collapsed": false
   },
   "id": "fc8f643e24d4a875"
  }
 ],
 "metadata": {
  "kernelspec": {
   "display_name": "Python 3",
   "language": "python",
   "name": "python3"
  },
  "language_info": {
   "codemirror_mode": {
    "name": "ipython",
    "version": 2
   },
   "file_extension": ".py",
   "mimetype": "text/x-python",
   "name": "python",
   "nbconvert_exporter": "python",
   "pygments_lexer": "ipython2",
   "version": "2.7.6"
  }
 },
 "nbformat": 4,
 "nbformat_minor": 5
}
